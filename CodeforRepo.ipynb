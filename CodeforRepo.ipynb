{
  "cells": [
    {
      "cell_type": "markdown",
      "source": [
        "# **Importing data for model training**"
      ],
      "metadata": {
        "nteract": {
          "transient": {
            "deleting": false
          }
        }
      }
    },
    {
      "cell_type": "code",
      "source": [
        "from datasets import load_dataset    \n",
        "\n",
        "# Stream the dataset to ensure no memory constraints   \n",
        "dataset = load_dataset(\"wikipedia\", \"20220301.en\", split='train', streaming=True)    \n",
        "\n",
        "# Take a sample from the streamed dataset    \n",
        "sampled_dataset = dataset.take(100)  # About 1.2GB of data   \n",
        "\n",
        "# Printing the first few samples to check    \n",
        "\n",
        "for sample in sampled_dataset:    \n",
        "\n",
        "    print(sample) \n",
        "\n",
        "    break "
      ],
      "outputs": [],
      "execution_count": null,
      "metadata": {
        "jupyter": {
          "source_hidden": false,
          "outputs_hidden": false
        },
        "nteract": {
          "transient": {
            "deleting": false
          }
        },
        "gather": {
          "logged": 1711398185509
        }
      }
    },
    {
      "cell_type": "code",
      "source": [
        "# Defining the path for the output text file    \n",
        "\n",
        "output_file_path = 'wikipedia_subset.txt'    \n",
        "\n",
        "# Open the output file in write mode    \n",
        "\n",
        "with open(output_file_path, 'w', encoding='utf-8') as file:    \n",
        "\n",
        "    for sample in dataset.take(50000):  # the number of samples     \n",
        "\n",
        "        # writing the article title followed by its text.      \n",
        "\n",
        "\n",
        "        file.write(sample['title'] + '\\n')  # Write the article title    \n",
        "\n",
        "  \n",
        "\n",
        "        file.write(sample['text'] + '\\n')   # Write the article text    \n",
        "\n",
        "  \n",
        "\n",
        "        file.write('\\n')  # adding a extra newline for separation between articles    "
      ],
      "outputs": [],
      "execution_count": null,
      "metadata": {
        "jupyter": {
          "source_hidden": false,
          "outputs_hidden": false
        },
        "nteract": {
          "transient": {
            "deleting": false
          }
        },
        "gather": {
          "logged": 1711398185534
        }
      }
    },
    {
      "cell_type": "code",
      "source": [
        "# the path for your input text file    \n",
        "\n",
        "input_file_path = 'wikipedia_subset.txt'     \n",
        "\n",
        "number_of_articles_to_print = 10 \n",
        "\n",
        "# Open the input file in read mode    \n",
        "\n",
        "with open(input_file_path, 'r', encoding='utf-8') as file:    \n",
        "\n",
        "    article_count = 0    \n",
        "\n",
        "    article_text = \"\"    \n",
        "\n",
        "    for line in file:    \n",
        "\n",
        "        if line.strip() == \"\":  # Using an empty line is used to separate articles    \n",
        "\n",
        "            article_count += 1    \n",
        "\n",
        "            print(f\"Article {article_count}:\\n{article_text}\\n\")    \n",
        "\n",
        "            article_text = \"\"  # Reseting for the next article    \n",
        "\n",
        "            if article_count >= number_of_articles_to_print:    \n",
        "\n",
        "                break    \n",
        "\n",
        "        else:    \n",
        "\n",
        "            article_text += line  # Putting together lines for a single article    \n",
        "\n",
        "# If fewer articles were found than expected    \n",
        "  \n",
        "if article_count < number_of_articles_to_print:    \n",
        "\n",
        "    print(f\"Only {article_count} articles were found in the file.\") "
      ],
      "outputs": [],
      "execution_count": null,
      "metadata": {
        "jupyter": {
          "source_hidden": false,
          "outputs_hidden": false
        },
        "nteract": {
          "transient": {
            "deleting": false
          }
        },
        "gather": {
          "logged": 1711398185561
        }
      }
    },
    {
      "cell_type": "code",
      "source": [
        "with open('first_lines_200kb.txt', 'r', encoding='utf-8') as file:    \n",
        "\n",
        "    raw_text = file.read() "
      ],
      "outputs": [],
      "execution_count": null,
      "metadata": {
        "jupyter": {
          "source_hidden": false,
          "outputs_hidden": false
        },
        "nteract": {
          "transient": {
            "deleting": false
          }
        },
        "gather": {
          "logged": 1711398185592
        }
      }
    },
    {
      "cell_type": "markdown",
      "source": [
        "# **Import and Split data for testing**"
      ],
      "metadata": {
        "nteract": {
          "transient": {
            "deleting": false
          }
        }
      }
    },
    {
      "cell_type": "code",
      "source": [
        "from datasets import load_dataset  \n",
        "import random  \n",
        "  \n",
        "# Specify the path for the output text file  \n",
        "output_file_path = 'wikipedia_random_testing1.txt'  \n",
        "  \n",
        "# Stream the dataset to ensure no memory constraints, using the 'test' split  \n",
        "dataset = load_dataset(\"wikipedia\", \"20220301.en\", split='train', streaming=True)  \n",
        "  \n",
        "# Fetch a specific number of articles (e.g., 100) from the streamed dataset  \n",
        "num_articles_to_fetch = 10\n",
        "articles = []  \n",
        "for i, sample in enumerate(dataset):  \n",
        "    articles.append(sample)  \n",
        "    if i + 1 == num_articles_to_fetch:  \n",
        "        break  \n",
        "  \n",
        "# Randomly choose one article from the fetched articles  \n",
        "random_article = random.choice(articles)  \n",
        "  \n",
        "# Print the randomly chosen article to check  \n",
        "print(random_article)  \n",
        "  \n",
        "# Save the randomly chosen article to a file  \n",
        "with open(output_file_path, 'w', encoding='utf-8') as file:  \n",
        "    # Write the article title  \n",
        "    file.write(random_article['title'] + '\\n\\n')  \n",
        "    # Write the article text  \n",
        "    file.write(random_article['text'] + '\\n')  "
      ],
      "outputs": [],
      "execution_count": null,
      "metadata": {
        "jupyter": {
          "source_hidden": false,
          "outputs_hidden": false
        },
        "nteract": {
          "transient": {
            "deleting": false
          }
        },
        "gather": {
          "logged": 1711398185618
        }
      }
    },
    {
      "cell_type": "code",
      "source": [
        "# Specify the path for the output text file  \n",
        "output_file_path = 'wikipedia_random_testing1.txt'  \n",
        "  \n",
        "# Open the file in read mode and print its contents  \n",
        "with open(output_file_path, 'r', encoding='utf-8') as file:  \n",
        "    contents = file.read()  \n",
        "    print(contents)  \n"
      ],
      "outputs": [],
      "execution_count": null,
      "metadata": {
        "jupyter": {
          "source_hidden": false,
          "outputs_hidden": false
        },
        "nteract": {
          "transient": {
            "deleting": false
          }
        },
        "gather": {
          "logged": 1711398185650
        }
      }
    },
    {
      "cell_type": "markdown",
      "source": [
        "# **Cleaning and Pre-processing the data**"
      ],
      "metadata": {
        "nteract": {
          "transient": {
            "deleting": false
          }
        }
      }
    },
    {
      "cell_type": "code",
      "source": [
        "import re \n",
        "\n",
        "# Pre-processing the data    \n",
        "\n",
        "cleaned_text = re.sub(r'\\[.*?\\]', '', raw_text)  # Remove text within brackets     \n",
        "\n",
        "cleaned_text = re.sub(r'http\\S+', '', cleaned_text)  # Remove URLs    \n",
        "\n"
      ],
      "outputs": [],
      "execution_count": null,
      "metadata": {
        "jupyter": {
          "source_hidden": false,
          "outputs_hidden": false
        },
        "nteract": {
          "transient": {
            "deleting": false
          }
        },
        "gather": {
          "logged": 1711419077234
        }
      }
    },
    {
      "cell_type": "code",
      "source": [
        "cleaned_text = cleaned_text.lower()  # Convert to lowercase "
      ],
      "outputs": [],
      "execution_count": null,
      "metadata": {
        "jupyter": {
          "source_hidden": false,
          "outputs_hidden": false
        },
        "nteract": {
          "transient": {
            "deleting": false
          }
        },
        "gather": {
          "logged": 1711398185698
        }
      }
    },
    {
      "cell_type": "code",
      "source": [
        "# Specifing the path for the cleaned data file    \n",
        "\n",
        "cleaned_file_path = 'wikipedia_subset_cleaned.txt'    \n",
        "\n",
        "# Writing the cleaned text to a new file    \n",
        "\n",
        "with open(cleaned_file_path, 'w', encoding='utf-8') as file:    \n",
        "\n",
        "    file.write(cleaned_text) "
      ],
      "outputs": [],
      "execution_count": null,
      "metadata": {
        "jupyter": {
          "source_hidden": false,
          "outputs_hidden": false
        },
        "nteract": {
          "transient": {
            "deleting": false
          }
        },
        "gather": {
          "logged": 1711398185723
        }
      }
    },
    {
      "cell_type": "code",
      "source": [
        "def split_file_by_characters(original_file, chars_per_file=300000000):    \n",
        "\n",
        "    \"\"\"Split a file into multiple smaller files with a specified number of characters.\"\"\"    \n",
        "\n",
        "    with open(original_file, 'r', encoding='utf-8') as big_file:    \n",
        "\n",
        "        content = big_file.read()    \n",
        "  \n",
        "    total_chars = len(content)    \n",
        "\n",
        "    num_files = total_chars // chars_per_file + (1 if total_chars % chars_per_file else 0)      \n",
        "\n",
        "    for i in range(num_files):    \n",
        "\n",
        "        start_index = i * chars_per_file    \n",
        "\n",
        "        end_index = start_index + chars_per_file    \n",
        "\n",
        "        small_content = content[start_index:end_index]      \n",
        "\n",
        "        small_filename = f'subset_char_{i}.txt'    \n",
        "\n",
        "        with open(small_filename, 'w', encoding='utf-8') as small_file:    \n",
        "\n",
        "            small_file.write(small_content)    \n",
        "\n",
        "# To reduce the size of the files, and use for training    \n",
        "\n",
        "split_file_by_characters('wikipedia_subset.txt', chars_per_file=300000000)    "
      ],
      "outputs": [],
      "execution_count": null,
      "metadata": {
        "jupyter": {
          "source_hidden": false,
          "outputs_hidden": false
        },
        "nteract": {
          "transient": {
            "deleting": false
          }
        },
        "gather": {
          "logged": 1711398185748
        }
      }
    },
    {
      "cell_type": "code",
      "source": [
        "# Specify the path to the cleaned file  \n",
        "cleaned_file_path = 'wikipedia_subset_cleaned.txt'  \n",
        "  \n",
        "# Open the cleaned file for reading  \n",
        "with open(cleaned_file_path, 'r', encoding='utf-8') as file:  \n",
        "    # Read the first few lines from the file  \n",
        "    for _ in range(5):  # Adjust the number 5 if you want more or fewer lines  \n",
        "        line = file.readline()  \n",
        "        print(line.strip())  # Print each line, removing any extra whitespace  \n"
      ],
      "outputs": [],
      "execution_count": null,
      "metadata": {
        "jupyter": {
          "source_hidden": false,
          "outputs_hidden": false
        },
        "nteract": {
          "transient": {
            "deleting": false
          }
        },
        "gather": {
          "logged": 1711419382172
        }
      }
    },
    {
      "cell_type": "markdown",
      "source": [
        "# **Start the Run for the code here:**"
      ],
      "metadata": {
        "nteract": {
          "transient": {
            "deleting": false
          }
        }
      }
    },
    {
      "cell_type": "code",
      "source": [
        "# All import functions go here\n",
        "import torch \n",
        "from transformers import GPT2Tokenizer  \n",
        "from torch.utils.data import Dataset, DataLoader  \n",
        "from torch.nn.utils.rnn import pad_sequence  \n",
        "from torch.utils.data import DataLoader  \n",
        "import torch.nn as nn    \n",
        "import torch.nn.functional as F\n",
        "from transformers import GPT2Tokenizer, GPT2LMHeadModel  \n",
        "import csv  "
      ],
      "outputs": [
        {
          "output_type": "stream",
          "name": "stderr",
          "text": "/anaconda/envs/azureml_py38_PT_TF/lib/python3.8/site-packages/tqdm/auto.py:21: TqdmWarning: IProgress not found. Please update jupyter and ipywidgets. See https://ipywidgets.readthedocs.io/en/stable/user_install.html\n  from .autonotebook import tqdm as notebook_tqdm\n"
        }
      ],
      "execution_count": 1,
      "metadata": {
        "jupyter": {
          "source_hidden": false,
          "outputs_hidden": false
        },
        "nteract": {
          "transient": {
            "deleting": false
          }
        },
        "gather": {
          "logged": 1711494312980
        }
      }
    },
    {
      "cell_type": "code",
      "source": [
        "  \n",
        "# Initialize the tokenizer  \n",
        "tokenizer = GPT2Tokenizer.from_pretrained(\"gpt2\")  \n",
        "  \n",
        "# Adding special tokens for padding and unknown tokens  \n",
        "tokenizer.add_special_tokens({'pad_token': '<pad>', 'unk_token': '<unk>'})  \n",
        "  \n",
        "# Define the path to your dataset before using it  \n",
        "file_path = 'wikipedia_subset_cleaned.txt'  \n",
        "  \n",
        "def tokenize_and_split_dataset_gpt2(file_path, tokenizer, max_length=1024):  \n",
        "    tokenized_data = []  \n",
        "    with open(file_path, 'r', encoding='utf-8') as file:  \n",
        "        for line in file:  \n",
        "            # Encode the line  \n",
        "            encoded_line = tokenizer.encode(line.strip(), add_special_tokens=True)  \n",
        "            # If the encoded line is longer than max_length, split it into chunks.\n",
        "            # This ensures the embeddings are of the right size\n",
        "            for i in range(0, len(encoded_line), max_length):  \n",
        "                chunk = encoded_line[i:i+max_length]  \n",
        "                tokenized_data.append(chunk)  \n",
        "    return tokenized_data  \n",
        "  \n",
        "# Tokenize the dataset with the defined tokenizer and split long sequences  \n",
        "tokenized_data_gpt2 = tokenize_and_split_dataset_gpt2(file_path, tokenizer)  \n",
        "  \n",
        "def save_tokenized_data_gpt2(tokenized_data, output_file='tokenized_data_gpt2.txt'):  \n",
        "    with open(output_file, 'w', encoding='utf-8') as file:  \n",
        "        for chunk in tokenized_data:  \n",
        "            # Convert each token ID in the chunk to a string and join them with a space  \n",
        "            chunk_str = ' '.join(str(token_id) for token_id in chunk)  \n",
        "            file.write(chunk_str + '\\n')  \n",
        "  \n",
        "# Save the tokenized and split data  \n",
        "save_tokenized_data_gpt2(tokenized_data_gpt2)  \n"
      ],
      "outputs": [],
      "execution_count": 4,
      "metadata": {
        "jupyter": {
          "source_hidden": false,
          "outputs_hidden": false
        },
        "nteract": {
          "transient": {
            "deleting": false
          }
        },
        "gather": {
          "logged": 1711494317034
        }
      }
    },
    {
      "cell_type": "code",
      "source": [
        "  \n",
        "class GPT2Dataset(Dataset):  \n",
        "    def __init__(self, filename, tokenizer, max_length):  \n",
        "        self.tokenizer = tokenizer  \n",
        "        self.max_length = max_length  \n",
        "        self.tokens = []  \n",
        "        with open(filename, 'r', encoding='utf-8') as file:  \n",
        "            for line in file:  \n",
        "                token_ids = [int(token_id) for token_id in line.strip().split()]  \n",
        "                self.tokens.append(token_ids)  \n",
        "                  \n",
        "    def __len__(self):  \n",
        "        return len(self.tokens)  \n",
        "      \n",
        "    def __getitem__(self, idx):  \n",
        "        token_ids = self.tokens[idx]  \n",
        "        # Ensure the sequence is within max_length  \n",
        "        token_ids = token_ids[:self.max_length]  \n",
        "        # Create tensors  \n",
        "        input_ids = torch.tensor(token_ids[:-1], dtype=torch.long)  \n",
        "        targets = torch.tensor(token_ids[1:], dtype=torch.long)  \n",
        "        return input_ids, targets  \n"
      ],
      "outputs": [],
      "execution_count": 5,
      "metadata": {
        "jupyter": {
          "source_hidden": false,
          "outputs_hidden": false
        },
        "nteract": {
          "transient": {
            "deleting": false
          }
        },
        "gather": {
          "logged": 1711494317225
        }
      }
    },
    {
      "cell_type": "code",
      "source": [
        "if tokenizer.pad_token is None:  \n",
        "    tokenizer.add_special_tokens({'pad_token': '[PAD]'})  \n",
        "pad_token_id = tokenizer.pad_token_id  \n"
      ],
      "outputs": [],
      "execution_count": 6,
      "metadata": {
        "jupyter": {
          "source_hidden": false,
          "outputs_hidden": false
        },
        "nteract": {
          "transient": {
            "deleting": false
          }
        },
        "gather": {
          "logged": 1711494317539
        }
      }
    },
    {
      "cell_type": "code",
      "source": [
        "  \n",
        "def collate_batch(batch):  \n",
        "    input_ids, target_ids = zip(*batch)  \n",
        "    if tokenizer.pad_token is None:  \n",
        "        tokenizer.add_special_tokens({'pad_token': '[PAD]'})  \n",
        "    pad_token_id = tokenizer.pad_token_id  \n",
        "      \n",
        "    input_ids_padded = pad_sequence([torch.tensor(seq, dtype=torch.long) for seq in input_ids],  \n",
        "                                    batch_first=True, padding_value=pad_token_id)  \n",
        "    target_ids_padded = pad_sequence([torch.tensor(seq, dtype=torch.long) for seq in target_ids],  \n",
        "                                     batch_first=True, padding_value=pad_token_id)  \n",
        "    print(\"Input IDs Padded Shape:\", input_ids_padded.shape)  \n",
        "    print(\"Target IDs Padded Shape:\", target_ids_padded.shape)  \n",
        "      \n",
        "    return input_ids_padded, target_ids_padded  \n",
        " \n",
        "\n",
        "# Initialize the dataset  \n",
        "dataset = GPT2Dataset('tokenized_data_gpt2.txt', tokenizer, max_length=1024)  \n",
        "  \n",
        "# Creating the DataLoader  \n",
        "dataloader = DataLoader(dataset, batch_size=32, shuffle=True, collate_fn=collate_batch)  \n"
      ],
      "outputs": [],
      "execution_count": 7,
      "metadata": {
        "jupyter": {
          "source_hidden": false,
          "outputs_hidden": false
        },
        "nteract": {
          "transient": {
            "deleting": false
          }
        },
        "gather": {
          "logged": 1711494317719
        }
      }
    },
    {
      "cell_type": "code",
      "source": [
        "\n",
        "# verifying batches have been created\n",
        "print(\"Number of batches:\", len(dataloader))  \n"
      ],
      "outputs": [
        {
          "output_type": "stream",
          "name": "stdout",
          "text": "Number of batches: 23\n"
        }
      ],
      "execution_count": 8,
      "metadata": {
        "jupyter": {
          "source_hidden": false,
          "outputs_hidden": false
        },
        "nteract": {
          "transient": {
            "deleting": false
          }
        },
        "gather": {
          "logged": 1711494318037
        }
      }
    },
    {
      "cell_type": "code",
      "source": [
        "# Manually checking code by create a batch by selecting a few items of the dataset  \n",
        "\n",
        "sample_batch = [dataset[i] for i in range(4)]  # This will provide the first 4 shapes \n",
        "\n",
        "# Manually calling the defined collate_batch function with this sample batch  \n",
        "input_ids_padded, target_ids_padded = collate_batch(sample_batch)  \n",
        "  \n",
        "# Check the shapes  \n",
        "print(\"Input IDs Padded Shape:\", input_ids_padded.shape)  \n",
        "print(\"Target IDs Padded Shape:\", target_ids_padded.shape)  \n"
      ],
      "outputs": [
        {
          "output_type": "stream",
          "name": "stdout",
          "text": "Input IDs Padded Shape: torch.Size([4, 168])\nTarget IDs Padded Shape: torch.Size([4, 168])\nInput IDs Padded Shape: torch.Size([4, 168])\nTarget IDs Padded Shape: torch.Size([4, 168])\n"
        },
        {
          "output_type": "stream",
          "name": "stderr",
          "text": "/tmp/ipykernel_4198/2817920276.py:7: UserWarning: To copy construct from a tensor, it is recommended to use sourceTensor.clone().detach() or sourceTensor.clone().detach().requires_grad_(True), rather than torch.tensor(sourceTensor).\n  input_ids_padded = pad_sequence([torch.tensor(seq, dtype=torch.long) for seq in input_ids],\n/tmp/ipykernel_4198/2817920276.py:9: UserWarning: To copy construct from a tensor, it is recommended to use sourceTensor.clone().detach() or sourceTensor.clone().detach().requires_grad_(True), rather than torch.tensor(sourceTensor).\n  target_ids_padded = pad_sequence([torch.tensor(seq, dtype=torch.long) for seq in target_ids],\n"
        }
      ],
      "execution_count": 9,
      "metadata": {
        "jupyter": {
          "source_hidden": false,
          "outputs_hidden": false
        },
        "nteract": {
          "transient": {
            "deleting": false
          }
        },
        "gather": {
          "logged": 1711494318256
        }
      }
    },
    {
      "cell_type": "code",
      "source": [
        "    \n",
        "class MultiHeadSelfAttention(nn.Module):    \n",
        "    def __init__(self, embed_size, heads):    \n",
        "        super(MultiHeadSelfAttention, self).__init__()    \n",
        "        self.embed_size = embed_size    \n",
        "        self.heads = heads    \n",
        "        self.head_dim = embed_size // heads    \n",
        "    \n",
        "        assert (    \n",
        "            self.head_dim * heads == embed_size    \n",
        "        ), \"Embedding size needs to be divisible by heads\"    \n",
        "    \n",
        "        self.values = nn.Linear(embed_size, embed_size, bias=False)  # Adjusted to embed_size  \n",
        "        self.keys = nn.Linear(embed_size, embed_size, bias=False)    # Adjusted to embed_size  \n",
        "        self.queries = nn.Linear(embed_size, embed_size, bias=False) # Adjusted to embed_size  \n",
        "        self.fc_out = nn.Linear(heads * self.head_dim, embed_size)    \n",
        "    \n",
        "    def forward(self, values, keys, query, mask):    \n",
        "        N = query.shape[0]    \n",
        "        value_len, key_len, query_len = values.shape[1], keys.shape[1], query.shape[1]    \n",
        "  \n",
        "        # Apply the linear transformations first, before splitting into heads  \n",
        "        values = self.values(values)    \n",
        "        keys = self.keys(keys)    \n",
        "        queries = self.queries(query)    \n",
        "  \n",
        "        # Then split the embeddings into self.heads different pieces  \n",
        "        values = values.reshape(N, value_len, self.heads, self.head_dim)    \n",
        "        keys = keys.reshape(N, key_len, self.heads, self.head_dim)    \n",
        "        queries = queries.reshape(N, query_len, self.heads, self.head_dim)    \n",
        "  \n",
        "        # Attention mechanism  \n",
        "        energy = torch.einsum(\"nqhd,nkhd->nhqk\", [queries, keys])    \n",
        "        if mask is not None:    \n",
        "            energy = energy.masked_fill(mask == 0, float(\"-1e20\"))    \n",
        "    \n",
        "        attention = torch.softmax(energy / (self.head_dim ** (1 / 2)), dim=3)  # Corrected scaling factor  \n",
        "    \n",
        "        out = torch.einsum(\"nhql,nlhd->nqhd\", [attention, values]).reshape(    \n",
        "            N, query_len, self.heads * self.head_dim    \n",
        "        )    \n",
        "    \n",
        "        out = self.fc_out(out)    \n",
        "        return out  \n"
      ],
      "outputs": [],
      "execution_count": 10,
      "metadata": {
        "jupyter": {
          "source_hidden": false,
          "outputs_hidden": false
        },
        "nteract": {
          "transient": {
            "deleting": false
          }
        },
        "gather": {
          "logged": 1711494318573
        }
      }
    },
    {
      "cell_type": "code",
      "source": [
        "class TransformerBlock(nn.Module):  \n",
        "    def __init__(self, embed_size, heads, dropout, forward_expansion):  \n",
        "        super(TransformerBlock, self).__init__()  \n",
        "        self.attention = MultiHeadSelfAttention(embed_size, heads)  \n",
        "        self.norm1 = nn.LayerNorm(embed_size)  \n",
        "        self.norm2 = nn.LayerNorm(embed_size)  \n",
        "  \n",
        "        self.feed_forward = nn.Sequential(  \n",
        "            nn.Linear(embed_size, forward_expansion * embed_size),  \n",
        "            nn.ReLU(),  \n",
        "            nn.Linear(forward_expansion * embed_size, embed_size),  \n",
        "        )  \n",
        "  \n",
        "        self.dropout = nn.Dropout(dropout)  \n",
        "  \n",
        "    def forward(self, value, key, query, mask):  \n",
        "        attention = self.attention(value, key, query, mask)  \n",
        "  \n",
        "        # Add skip connection, followed by layer normalization  \n",
        "        x = self.dropout(self.norm1(attention + query))  \n",
        "        forward = self.feed_forward(x)  \n",
        "          \n",
        "        # Second skip connection and layer normalization  \n",
        "        out = self.dropout(self.norm2(forward + x))  \n",
        "        return out  \n"
      ],
      "outputs": [],
      "execution_count": 11,
      "metadata": {
        "jupyter": {
          "source_hidden": false,
          "outputs_hidden": false
        },
        "nteract": {
          "transient": {
            "deleting": false
          }
        },
        "gather": {
          "logged": 1711494318785
        }
      }
    },
    {
      "cell_type": "code",
      "source": [
        "class GPT(nn.Module):      \n",
        "    def __init__(self, vocab_size, embed_size, num_layers, heads, forward_expansion, dropout, max_length):      \n",
        "        super(GPT, self).__init__()      \n",
        "        self.vocab_size = vocab_size  # Ensure this line is present  \n",
        "        self.embed_size = embed_size      \n",
        "        self.word_embedding = nn.Embedding(vocab_size, embed_size)      \n",
        "        self.position_embedding = nn.Embedding(max_length, embed_size)      \n",
        "      \n",
        "        self.layers = nn.ModuleList(      \n",
        "            [TransformerBlock(embed_size, heads, dropout=dropout, forward_expansion=forward_expansion)      \n",
        "             for _ in range(num_layers)]      \n",
        "        )      \n",
        "      \n",
        "        self.dropout = nn.Dropout(dropout)      \n",
        "        self.fc_out = nn.Linear(embed_size, vocab_size)      \n",
        "      \n",
        "    def forward(self, x, mask=None):      \n",
        "        N, seq_length = x.shape      \n",
        "        positions = torch.arange(0, seq_length, device=x.device).expand(N, seq_length)      \n",
        "      \n",
        "        out = self.dropout(self.word_embedding(x) + self.position_embedding(positions))      \n",
        "      \n",
        "        for layer in self.layers:      \n",
        "            out = layer(out, out, out, mask)      \n",
        "      \n",
        "        out = self.fc_out(out)      \n",
        "        return out    \n"
      ],
      "outputs": [],
      "execution_count": 12,
      "metadata": {
        "jupyter": {
          "source_hidden": false,
          "outputs_hidden": false
        },
        "nteract": {
          "transient": {
            "deleting": false
          }
        },
        "gather": {
          "logged": 1711494319020
        }
      }
    },
    {
      "cell_type": "code",
      "source": [
        "# As we are using Azure, it will use the compute that has been set up but good practise to check for GPU\n",
        "\n",
        "device = torch.device(\"cuda\" if torch.cuda.is_available() else \"cpu\")  \n",
        "  "
      ],
      "outputs": [],
      "execution_count": 13,
      "metadata": {
        "jupyter": {
          "source_hidden": false,
          "outputs_hidden": false
        },
        "nteract": {
          "transient": {
            "deleting": false
          }
        },
        "gather": {
          "logged": 1711494319296
        }
      }
    },
    {
      "cell_type": "code",
      "source": [
        "# Initialising the model  \n",
        "\n",
        "# Outlining the layers of the model\n",
        "\n",
        "model = GPT(vocab_size=60000, embed_size=128, num_layers=6, heads=8, forward_expansion=4, dropout=0.1, max_length=1024)    "
      ],
      "outputs": [],
      "execution_count": 14,
      "metadata": {
        "jupyter": {
          "source_hidden": false,
          "outputs_hidden": false
        },
        "nteract": {
          "transient": {
            "deleting": false
          }
        },
        "gather": {
          "logged": 1711494319476
        }
      }
    },
    {
      "cell_type": "code",
      "source": [
        "# Mapping out the model I have put together for the compute\n",
        "\n",
        "model.to(device)  "
      ],
      "outputs": [
        {
          "output_type": "execute_result",
          "execution_count": 15,
          "data": {
            "text/plain": "GPT(\n  (word_embedding): Embedding(60000, 128)\n  (position_embedding): Embedding(1024, 128)\n  (layers): ModuleList(\n    (0): TransformerBlock(\n      (attention): MultiHeadSelfAttention(\n        (values): Linear(in_features=128, out_features=128, bias=False)\n        (keys): Linear(in_features=128, out_features=128, bias=False)\n        (queries): Linear(in_features=128, out_features=128, bias=False)\n        (fc_out): Linear(in_features=128, out_features=128, bias=True)\n      )\n      (norm1): LayerNorm((128,), eps=1e-05, elementwise_affine=True)\n      (norm2): LayerNorm((128,), eps=1e-05, elementwise_affine=True)\n      (feed_forward): Sequential(\n        (0): Linear(in_features=128, out_features=512, bias=True)\n        (1): ReLU()\n        (2): Linear(in_features=512, out_features=128, bias=True)\n      )\n      (dropout): Dropout(p=0.1, inplace=False)\n    )\n    (1): TransformerBlock(\n      (attention): MultiHeadSelfAttention(\n        (values): Linear(in_features=128, out_features=128, bias=False)\n        (keys): Linear(in_features=128, out_features=128, bias=False)\n        (queries): Linear(in_features=128, out_features=128, bias=False)\n        (fc_out): Linear(in_features=128, out_features=128, bias=True)\n      )\n      (norm1): LayerNorm((128,), eps=1e-05, elementwise_affine=True)\n      (norm2): LayerNorm((128,), eps=1e-05, elementwise_affine=True)\n      (feed_forward): Sequential(\n        (0): Linear(in_features=128, out_features=512, bias=True)\n        (1): ReLU()\n        (2): Linear(in_features=512, out_features=128, bias=True)\n      )\n      (dropout): Dropout(p=0.1, inplace=False)\n    )\n    (2): TransformerBlock(\n      (attention): MultiHeadSelfAttention(\n        (values): Linear(in_features=128, out_features=128, bias=False)\n        (keys): Linear(in_features=128, out_features=128, bias=False)\n        (queries): Linear(in_features=128, out_features=128, bias=False)\n        (fc_out): Linear(in_features=128, out_features=128, bias=True)\n      )\n      (norm1): LayerNorm((128,), eps=1e-05, elementwise_affine=True)\n      (norm2): LayerNorm((128,), eps=1e-05, elementwise_affine=True)\n      (feed_forward): Sequential(\n        (0): Linear(in_features=128, out_features=512, bias=True)\n        (1): ReLU()\n        (2): Linear(in_features=512, out_features=128, bias=True)\n      )\n      (dropout): Dropout(p=0.1, inplace=False)\n    )\n    (3): TransformerBlock(\n      (attention): MultiHeadSelfAttention(\n        (values): Linear(in_features=128, out_features=128, bias=False)\n        (keys): Linear(in_features=128, out_features=128, bias=False)\n        (queries): Linear(in_features=128, out_features=128, bias=False)\n        (fc_out): Linear(in_features=128, out_features=128, bias=True)\n      )\n      (norm1): LayerNorm((128,), eps=1e-05, elementwise_affine=True)\n      (norm2): LayerNorm((128,), eps=1e-05, elementwise_affine=True)\n      (feed_forward): Sequential(\n        (0): Linear(in_features=128, out_features=512, bias=True)\n        (1): ReLU()\n        (2): Linear(in_features=512, out_features=128, bias=True)\n      )\n      (dropout): Dropout(p=0.1, inplace=False)\n    )\n    (4): TransformerBlock(\n      (attention): MultiHeadSelfAttention(\n        (values): Linear(in_features=128, out_features=128, bias=False)\n        (keys): Linear(in_features=128, out_features=128, bias=False)\n        (queries): Linear(in_features=128, out_features=128, bias=False)\n        (fc_out): Linear(in_features=128, out_features=128, bias=True)\n      )\n      (norm1): LayerNorm((128,), eps=1e-05, elementwise_affine=True)\n      (norm2): LayerNorm((128,), eps=1e-05, elementwise_affine=True)\n      (feed_forward): Sequential(\n        (0): Linear(in_features=128, out_features=512, bias=True)\n        (1): ReLU()\n        (2): Linear(in_features=512, out_features=128, bias=True)\n      )\n      (dropout): Dropout(p=0.1, inplace=False)\n    )\n    (5): TransformerBlock(\n      (attention): MultiHeadSelfAttention(\n        (values): Linear(in_features=128, out_features=128, bias=False)\n        (keys): Linear(in_features=128, out_features=128, bias=False)\n        (queries): Linear(in_features=128, out_features=128, bias=False)\n        (fc_out): Linear(in_features=128, out_features=128, bias=True)\n      )\n      (norm1): LayerNorm((128,), eps=1e-05, elementwise_affine=True)\n      (norm2): LayerNorm((128,), eps=1e-05, elementwise_affine=True)\n      (feed_forward): Sequential(\n        (0): Linear(in_features=128, out_features=512, bias=True)\n        (1): ReLU()\n        (2): Linear(in_features=512, out_features=128, bias=True)\n      )\n      (dropout): Dropout(p=0.1, inplace=False)\n    )\n  )\n  (dropout): Dropout(p=0.1, inplace=False)\n  (fc_out): Linear(in_features=128, out_features=60000, bias=True)\n)"
          },
          "metadata": {}
        }
      ],
      "execution_count": 15,
      "metadata": {
        "jupyter": {
          "source_hidden": false,
          "outputs_hidden": false
        },
        "nteract": {
          "transient": {
            "deleting": false
          }
        },
        "gather": {
          "logged": 1711494319820
        }
      }
    },
    {
      "cell_type": "code",
      "source": [
        "# defining the training of the GPT model\n",
        "\n",
        "def train(model, dataloader, optimizer, criterion, device):  \n",
        "    model.train()  \n",
        "    total_loss = 0  \n",
        "    for batch_idx, (input_ids, targets) in enumerate(dataloader):  \n",
        "        input_ids, targets = input_ids.to(device), targets.to(device)  \n",
        "  \n",
        "        optimizer.zero_grad()  \n",
        "        output = model(input_ids)  \n",
        "        loss = criterion(output.view(-1, model.vocab_size), targets.view(-1))  \n",
        "        loss.backward()  \n",
        "        optimizer.step()  \n",
        "  \n",
        "        total_loss += loss.item()  \n",
        "    return total_loss / len(dataloader)  \n",
        " \n"
      ],
      "outputs": [],
      "execution_count": 16,
      "metadata": {
        "jupyter": {
          "source_hidden": false,
          "outputs_hidden": false
        },
        "nteract": {
          "transient": {
            "deleting": false
          }
        },
        "gather": {
          "logged": 1711494320012
        }
      }
    },
    {
      "cell_type": "code",
      "source": [
        "\n",
        "# checking if the tensor sizes are valid\n",
        "\n",
        "print(dataset[0])  \n"
      ],
      "outputs": [
        {
          "output_type": "stream",
          "name": "stdout",
          "text": "(tensor([272, 998]), tensor([ 998, 1042]))\n"
        }
      ],
      "execution_count": 17,
      "metadata": {
        "jupyter": {
          "source_hidden": false,
          "outputs_hidden": false
        },
        "nteract": {
          "transient": {
            "deleting": false
          }
        },
        "gather": {
          "logged": 1711494320325
        }
      }
    },
    {
      "cell_type": "code",
      "source": [
        "import torch.optim as optim    \n",
        "  \n",
        "# Model, GPT2Dataset, and DataLoader are correctly defined and initialized already  \n",
        "  \n",
        "# Targeting the available device  \n",
        "device = torch.device(\"cuda\" if torch.cuda.is_available() else \"cpu\")    \n",
        "model.to(device)    \n",
        "    \n",
        "# Define the optimizer and the loss function  \n",
        "optimizer = optim.Adam(model.parameters())    \n",
        "criterion = torch.nn.CrossEntropyLoss()    \n",
        "  \n",
        "# Initialise the custom dataset and DataLoader here\n",
        "\n",
        "# Adjust 'max_length' and 'batch_size' as per the specific requirements based on the model layers\n",
        "\n",
        "# Initialize my custom dataset with the tokenizer  \n",
        "dataset = GPT2Dataset('tokenized_data_gpt2.txt', tokenizer, max_length=1024)  # Pass the tokenizer here  \n",
        "dataloader = DataLoader(dataset, batch_size=32, shuffle=True, collate_fn=collate_batch)  \n",
        "  \n",
        "num_epochs = 5  # Number of epochs  \n",
        "  \n",
        "for epoch in range(num_epochs):  \n",
        "    model.train()  # Ensure the model is in training mode  \n",
        "    total_loss = 0  \n",
        "    total_batches = len(dataloader)  \n",
        "      \n",
        "    for input_ids, target_ids in dataloader:  \n",
        "        input_ids, target_ids = input_ids.to(device), target_ids.to(device)  # Move data to the appropriate device  \n",
        "  \n",
        "        optimizer.zero_grad()  # Clear gradients  \n",
        "        output = model(input_ids)  # Forward pass  \n",
        "        loss = criterion(output.view(-1, output.size(-1)), target_ids.view(-1))  # Compute loss  \n",
        "        loss.backward()  # Backward pass  \n",
        "        optimizer.step()  # Update model parameters  \n",
        "  \n",
        "        total_loss += loss.item()  # Accumulate loss  \n",
        "  \n",
        "    avg_loss = total_loss / total_batches  # Calculate average loss for the epoch  \n",
        "    print(f\"Epoch {epoch+1}, Loss: {avg_loss:.4f}\")  \n"
      ],
      "outputs": [
        {
          "output_type": "stream",
          "name": "stdout",
          "text": "Input IDs Padded Shape: torch.Size([32, 155])\nTarget IDs Padded Shape: torch.Size([32, 155])\nInput IDs Padded Shape: torch.Size([32, 168])\nTarget IDs Padded Shape: torch.Size([32, 168])\nInput IDs Padded Shape: torch.Size([32, 245])\nTarget IDs Padded Shape: torch.Size([32, 245])\nInput IDs Padded Shape: torch.Size([32, 275])\nTarget IDs Padded Shape: torch.Size([32, 275])\nInput IDs Padded Shape: torch.Size([32, 246])\nTarget IDs Padded Shape: torch.Size([32, 246])\nInput IDs Padded Shape: torch.Size([32, 199])\nTarget IDs Padded Shape: torch.Size([32, 199])\nInput IDs Padded Shape: torch.Size([32, 251])\nTarget IDs Padded Shape: torch.Size([32, 251])\nInput IDs Padded Shape: torch.Size([32, 153])\nTarget IDs Padded Shape: torch.Size([32, 153])\nInput IDs Padded Shape: torch.Size([32, 274])\nTarget IDs Padded Shape: torch.Size([32, 274])\nInput IDs Padded Shape: torch.Size([32, 266])\nTarget IDs Padded Shape: torch.Size([32, 266])\nInput IDs Padded Shape: torch.Size([32, 157])\nTarget IDs Padded Shape: torch.Size([32, 157])\nInput IDs Padded Shape: torch.Size([32, 285])\nTarget IDs Padded Shape: torch.Size([32, 285])\nInput IDs Padded Shape: torch.Size([32, 225])\nTarget IDs Padded Shape: torch.Size([32, 225])\nInput IDs Padded Shape: torch.Size([32, 204])\nTarget IDs Padded Shape: torch.Size([32, 204])\nInput IDs Padded Shape: torch.Size([32, 283])\nTarget IDs Padded Shape: torch.Size([32, 283])\nInput IDs Padded Shape: torch.Size([32, 232])\nTarget IDs Padded Shape: torch.Size([32, 232])\nInput IDs Padded Shape: torch.Size([32, 153])\nTarget IDs Padded Shape: torch.Size([32, 153])\nInput IDs Padded Shape: torch.Size([32, 382])\nTarget IDs Padded Shape: torch.Size([32, 382])\nInput IDs Padded Shape: torch.Size([32, 232])\nTarget IDs Padded Shape: torch.Size([32, 232])\nInput IDs Padded Shape: torch.Size([32, 220])\nTarget IDs Padded Shape: torch.Size([32, 220])\nInput IDs Padded Shape: torch.Size([32, 221])\nTarget IDs Padded Shape: torch.Size([32, 221])\nInput IDs Padded Shape: torch.Size([32, 209])\nTarget IDs Padded Shape: torch.Size([32, 209])\nInput IDs Padded Shape: torch.Size([20, 150])\nTarget IDs Padded Shape: torch.Size([20, 150])\nEpoch 1, Loss: 4.9747\nInput IDs Padded Shape: torch.Size([32, 191])\nTarget IDs Padded Shape: torch.Size([32, 191])\nInput IDs Padded Shape: torch.Size([32, 285])\nTarget IDs Padded Shape: torch.Size([32, 285])\nInput IDs Padded Shape: torch.Size([32, 266])\nTarget IDs Padded Shape: torch.Size([32, 266])\nInput IDs Padded Shape: torch.Size([32, 245])\nTarget IDs Padded Shape: torch.Size([32, 245])\nInput IDs Padded Shape: torch.Size([32, 382])\nTarget IDs Padded Shape: torch.Size([32, 382])\nInput IDs Padded Shape: torch.Size([32, 274])\nTarget IDs Padded Shape: torch.Size([32, 274])\nInput IDs Padded Shape: torch.Size([32, 232])\nTarget IDs Padded Shape: torch.Size([32, 232])\nInput IDs Padded Shape: torch.Size([32, 199])\nTarget IDs Padded Shape: torch.Size([32, 199])\nInput IDs Padded Shape: torch.Size([32, 283])\nTarget IDs Padded Shape: torch.Size([32, 283])\nInput IDs Padded Shape: torch.Size([32, 235])\nTarget IDs Padded Shape: torch.Size([32, 235])\nInput IDs Padded Shape: torch.Size([32, 221])\nTarget IDs Padded Shape: torch.Size([32, 221])\nInput IDs Padded Shape: torch.Size([32, 214])\nTarget IDs Padded Shape: torch.Size([32, 214])\nInput IDs Padded Shape: torch.Size([32, 228])\nTarget IDs Padded Shape: torch.Size([32, 228])\nInput IDs Padded Shape: torch.Size([32, 181])\nTarget IDs Padded Shape: torch.Size([32, 181])\nInput IDs Padded Shape: torch.Size([32, 142])\nTarget IDs Padded Shape: torch.Size([32, 142])\nInput IDs Padded Shape: torch.Size([32, 132])\nTarget IDs Padded Shape: torch.Size([32, 132])\nInput IDs Padded Shape: torch.Size([32, 275])\nTarget IDs Padded Shape: torch.Size([32, 275])\nInput IDs Padded Shape: torch.Size([32, 246])\nTarget IDs Padded Shape: torch.Size([32, 246])\nInput IDs Padded Shape: torch.Size([32, 239])\nTarget IDs Padded Shape: torch.Size([32, 239])\nInput IDs Padded Shape: torch.Size([32, 232])\nTarget IDs Padded Shape: torch.Size([32, 232])\nInput IDs Padded Shape: torch.Size([32, 168])\nTarget IDs Padded Shape: torch.Size([32, 168])\nInput IDs Padded Shape: torch.Size([32, 173])\nTarget IDs Padded Shape: torch.Size([32, 173])\nInput IDs Padded Shape: torch.Size([20, 231])\nTarget IDs Padded Shape: torch.Size([20, 231])\nEpoch 2, Loss: 2.5066\nInput IDs Padded Shape: torch.Size([32, 181])\nTarget IDs Padded Shape: torch.Size([32, 181])\nInput IDs Padded Shape: torch.Size([32, 168])\nTarget IDs Padded Shape: torch.Size([32, 168])\nInput IDs Padded Shape: torch.Size([32, 209])\nTarget IDs Padded Shape: torch.Size([32, 209])\nInput IDs Padded Shape: torch.Size([32, 231])\nTarget IDs Padded Shape: torch.Size([32, 231])\nInput IDs Padded Shape: torch.Size([32, 220])\nTarget IDs Padded Shape: torch.Size([32, 220])\nInput IDs Padded Shape: torch.Size([32, 228])\nTarget IDs Padded Shape: torch.Size([32, 228])\nInput IDs Padded Shape: torch.Size([32, 239])\nTarget IDs Padded Shape: torch.Size([32, 239])\nInput IDs Padded Shape: torch.Size([32, 221])\nTarget IDs Padded Shape: torch.Size([32, 221])\nInput IDs Padded Shape: torch.Size([32, 275])\nTarget IDs Padded Shape: torch.Size([32, 275])\nInput IDs Padded Shape: torch.Size([32, 274])\nTarget IDs Padded Shape: torch.Size([32, 274])\nInput IDs Padded Shape: torch.Size([32, 165])\nTarget IDs Padded Shape: torch.Size([32, 165])\nInput IDs Padded Shape: torch.Size([32, 251])\nTarget IDs Padded Shape: torch.Size([32, 251])\nInput IDs Padded Shape: torch.Size([32, 283])\nTarget IDs Padded Shape: torch.Size([32, 283])\nInput IDs Padded Shape: torch.Size([32, 235])\nTarget IDs Padded Shape: torch.Size([32, 235])\nInput IDs Padded Shape: torch.Size([32, 178])\nTarget IDs Padded Shape: torch.Size([32, 178])\nInput IDs Padded Shape: torch.Size([32, 266])\nTarget IDs Padded Shape: torch.Size([32, 266])\nInput IDs Padded Shape: torch.Size([32, 160])\nTarget IDs Padded Shape: torch.Size([32, 160])\nInput IDs Padded Shape: torch.Size([32, 246])\nTarget IDs Padded Shape: torch.Size([32, 246])\nInput IDs Padded Shape: torch.Size([32, 382])\nTarget IDs Padded Shape: torch.Size([32, 382])\nInput IDs Padded Shape: torch.Size([32, 199])\nTarget IDs Padded Shape: torch.Size([32, 199])\nInput IDs Padded Shape: torch.Size([32, 131])\nTarget IDs Padded Shape: torch.Size([32, 131])\nInput IDs Padded Shape: torch.Size([32, 255])\nTarget IDs Padded Shape: torch.Size([32, 255])\nInput IDs Padded Shape: torch.Size([20, 202])\nTarget IDs Padded Shape: torch.Size([20, 202])\nEpoch 3, Loss: 2.3968\nInput IDs Padded Shape: torch.Size([32, 200])\nTarget IDs Padded Shape: torch.Size([32, 200])\nInput IDs Padded Shape: torch.Size([32, 157])\nTarget IDs Padded Shape: torch.Size([32, 157])\nInput IDs Padded Shape: torch.Size([32, 172])\nTarget IDs Padded Shape: torch.Size([32, 172])\nInput IDs Padded Shape: torch.Size([32, 275])\nTarget IDs Padded Shape: torch.Size([32, 275])\nInput IDs Padded Shape: torch.Size([32, 209])\nTarget IDs Padded Shape: torch.Size([32, 209])\nInput IDs Padded Shape: torch.Size([32, 235])\nTarget IDs Padded Shape: torch.Size([32, 235])\nInput IDs Padded Shape: torch.Size([32, 246])\nTarget IDs Padded Shape: torch.Size([32, 246])\nInput IDs Padded Shape: torch.Size([32, 251])\nTarget IDs Padded Shape: torch.Size([32, 251])\nInput IDs Padded Shape: torch.Size([32, 255])\nTarget IDs Padded Shape: torch.Size([32, 255])\nInput IDs Padded Shape: torch.Size([32, 220])\nTarget IDs Padded Shape: torch.Size([32, 220])\nInput IDs Padded Shape: torch.Size([32, 135])\nTarget IDs Padded Shape: torch.Size([32, 135])\nInput IDs Padded Shape: torch.Size([32, 245])\nTarget IDs Padded Shape: torch.Size([32, 245])\nInput IDs Padded Shape: torch.Size([32, 217])\nTarget IDs Padded Shape: torch.Size([32, 217])\nInput IDs Padded Shape: torch.Size([32, 382])\nTarget IDs Padded Shape: torch.Size([32, 382])\nInput IDs Padded Shape: torch.Size([32, 239])\nTarget IDs Padded Shape: torch.Size([32, 239])\nInput IDs Padded Shape: torch.Size([32, 283])\nTarget IDs Padded Shape: torch.Size([32, 283])\nInput IDs Padded Shape: torch.Size([32, 145])\nTarget IDs Padded Shape: torch.Size([32, 145])\nInput IDs Padded Shape: torch.Size([32, 156])\nTarget IDs Padded Shape: torch.Size([32, 156])\nInput IDs Padded Shape: torch.Size([32, 232])\nTarget IDs Padded Shape: torch.Size([32, 232])\nInput IDs Padded Shape: torch.Size([32, 266])\nTarget IDs Padded Shape: torch.Size([32, 266])\nInput IDs Padded Shape: torch.Size([32, 231])\nTarget IDs Padded Shape: torch.Size([32, 231])\nInput IDs Padded Shape: torch.Size([32, 232])\nTarget IDs Padded Shape: torch.Size([32, 232])\nInput IDs Padded Shape: torch.Size([20, 184])\nTarget IDs Padded Shape: torch.Size([20, 184])\nEpoch 4, Loss: 2.4330\nInput IDs Padded Shape: torch.Size([32, 156])\nTarget IDs Padded Shape: torch.Size([32, 156])\nInput IDs Padded Shape: torch.Size([32, 228])\nTarget IDs Padded Shape: torch.Size([32, 228])\nInput IDs Padded Shape: torch.Size([32, 190])\nTarget IDs Padded Shape: torch.Size([32, 190])\nInput IDs Padded Shape: torch.Size([32, 209])\nTarget IDs Padded Shape: torch.Size([32, 209])\nInput IDs Padded Shape: torch.Size([32, 251])\nTarget IDs Padded Shape: torch.Size([32, 251])\nInput IDs Padded Shape: torch.Size([32, 245])\nTarget IDs Padded Shape: torch.Size([32, 245])\nInput IDs Padded Shape: torch.Size([32, 221])\nTarget IDs Padded Shape: torch.Size([32, 221])\nInput IDs Padded Shape: torch.Size([32, 225])\nTarget IDs Padded Shape: torch.Size([32, 225])\nInput IDs Padded Shape: torch.Size([32, 239])\nTarget IDs Padded Shape: torch.Size([32, 239])\nInput IDs Padded Shape: torch.Size([32, 275])\nTarget IDs Padded Shape: torch.Size([32, 275])\nInput IDs Padded Shape: torch.Size([32, 202])\nTarget IDs Padded Shape: torch.Size([32, 202])\nInput IDs Padded Shape: torch.Size([32, 382])\nTarget IDs Padded Shape: torch.Size([32, 382])\nInput IDs Padded Shape: torch.Size([32, 266])\nTarget IDs Padded Shape: torch.Size([32, 266])\nInput IDs Padded Shape: torch.Size([32, 200])\nTarget IDs Padded Shape: torch.Size([32, 200])\nInput IDs Padded Shape: torch.Size([32, 139])\nTarget IDs Padded Shape: torch.Size([32, 139])\nInput IDs Padded Shape: torch.Size([32, 285])\nTarget IDs Padded Shape: torch.Size([32, 285])\nInput IDs Padded Shape: torch.Size([32, 217])\nTarget IDs Padded Shape: torch.Size([32, 217])\nInput IDs Padded Shape: torch.Size([32, 231])\nTarget IDs Padded Shape: torch.Size([32, 231])\nInput IDs Padded Shape: torch.Size([32, 255])\nTarget IDs Padded Shape: torch.Size([32, 255])\nInput IDs Padded Shape: torch.Size([32, 232])\nTarget IDs Padded Shape: torch.Size([32, 232])\nInput IDs Padded Shape: torch.Size([32, 198])\nTarget IDs Padded Shape: torch.Size([32, 198])\nInput IDs Padded Shape: torch.Size([32, 187])\nTarget IDs Padded Shape: torch.Size([32, 187])\nInput IDs Padded Shape: torch.Size([20, 283])\nTarget IDs Padded Shape: torch.Size([20, 283])\nEpoch 5, Loss: 2.3276\n"
        },
        {
          "output_type": "stream",
          "name": "stderr",
          "text": "/tmp/ipykernel_4198/2817920276.py:7: UserWarning: To copy construct from a tensor, it is recommended to use sourceTensor.clone().detach() or sourceTensor.clone().detach().requires_grad_(True), rather than torch.tensor(sourceTensor).\n  input_ids_padded = pad_sequence([torch.tensor(seq, dtype=torch.long) for seq in input_ids],\n/tmp/ipykernel_4198/2817920276.py:9: UserWarning: To copy construct from a tensor, it is recommended to use sourceTensor.clone().detach() or sourceTensor.clone().detach().requires_grad_(True), rather than torch.tensor(sourceTensor).\n  target_ids_padded = pad_sequence([torch.tensor(seq, dtype=torch.long) for seq in target_ids],\n"
        }
      ],
      "execution_count": 18,
      "metadata": {
        "jupyter": {
          "source_hidden": false,
          "outputs_hidden": false
        },
        "nteract": {
          "transient": {
            "deleting": false
          }
        },
        "gather": {
          "logged": 1711494760770
        }
      }
    },
    {
      "cell_type": "code",
      "source": [
        "import torch  \n",
        "import math  \n",
        "from torch.nn.functional import cross_entropy  \n",
        "  \n",
        "def calculate_perplexity(model, dataloader, device):  \n",
        "    model.eval()  # Set the model to evaluation mode  \n",
        "    total_loss = 0  \n",
        "    total_tokens = 0  # Keep track of the total number of tokens processed  \n",
        "  \n",
        "    with torch.no_grad():  # No need to compute gradients  \n",
        "        for batch in dataloader:  \n",
        "            input_ids, targets = batch  \n",
        "            input_ids, targets = input_ids.to(device), targets.to(device)  \n",
        "              \n",
        "            # Forward pass, get the predictions for the input_ids  \n",
        "            outputs = model(input_ids)  \n",
        "            logits = outputs.logits if hasattr(outputs, 'logits') else outputs  \n",
        "              \n",
        "            # Calculate the cross-entropy loss between the predictions and the targets  \n",
        "            # Reshape inputs to (-1, vocab_size) and targets to (-1,)  \n",
        "            loss = cross_entropy(logits.view(-1, logits.size(-1)), targets.view(-1), reduction='sum')  \n",
        "              \n",
        "            # Update total loss and total number of tokens  \n",
        "            total_loss += loss.item()  \n",
        "            total_tokens += targets.numel()  # .numel() returns the total number of elements in the tensor  \n",
        "  \n",
        "    # Calculate average negative log likelihood  \n",
        "    avg_neg_log_likelihood = total_loss / total_tokens  \n",
        "  \n",
        "    # Calculate perplexity  \n",
        "    perplexity = math.exp(avg_neg_log_likelihood)  \n",
        "  \n",
        "    return perplexity  \n",
        "\n",
        "perplexity_score = calculate_perplexity(model, dataloader, device)  \n",
        "print(f\"Perplexity: {perplexity_score}\")  \n"
      ],
      "outputs": [
        {
          "output_type": "stream",
          "name": "stdout",
          "text": "Input IDs Padded Shape: torch.Size([32, 274])\nTarget IDs Padded Shape: torch.Size([32, 274])\nInput IDs Padded Shape: torch.Size([32, 251])\nTarget IDs Padded Shape: torch.Size([32, 251])\nInput IDs Padded Shape: torch.Size([32, 187])\nTarget IDs Padded Shape: torch.Size([32, 187])\nInput IDs Padded Shape: torch.Size([32, 200])\nTarget IDs Padded Shape: torch.Size([32, 200])\nInput IDs Padded Shape: torch.Size([32, 246])\nTarget IDs Padded Shape: torch.Size([32, 246])\nInput IDs Padded Shape: torch.Size([32, 228])\nTarget IDs Padded Shape: torch.Size([32, 228])\nInput IDs Padded Shape: torch.Size([32, 176])\nTarget IDs Padded Shape: torch.Size([32, 176])\nInput IDs Padded Shape: torch.Size([32, 190])\nTarget IDs Padded Shape: torch.Size([32, 190])\nInput IDs Padded Shape: torch.Size([32, 214])\nTarget IDs Padded Shape: torch.Size([32, 214])\nInput IDs Padded Shape: torch.Size([32, 179])\nTarget IDs Padded Shape: torch.Size([32, 179])\nInput IDs Padded Shape: torch.Size([32, 285])\nTarget IDs Padded Shape: torch.Size([32, 285])\nInput IDs Padded Shape: torch.Size([32, 157])\nTarget IDs Padded Shape: torch.Size([32, 157])\nInput IDs Padded Shape: torch.Size([32, 217])\nTarget IDs Padded Shape: torch.Size([32, 217])\nInput IDs Padded Shape: torch.Size([32, 266])\nTarget IDs Padded Shape: torch.Size([32, 266])\nInput IDs Padded Shape: torch.Size([32, 231])\nTarget IDs Padded Shape: torch.Size([32, 231])\nInput IDs Padded Shape: torch.Size([32, 232])\nTarget IDs Padded Shape: torch.Size([32, 232])\nInput IDs Padded Shape: torch.Size([32, 145])\nTarget IDs Padded Shape: torch.Size([32, 145])\nInput IDs Padded Shape: torch.Size([32, 232])\nTarget IDs Padded Shape: torch.Size([32, 232])\nInput IDs Padded Shape: torch.Size([32, 283])\nTarget IDs Padded Shape: torch.Size([32, 283])\nInput IDs Padded Shape: torch.Size([32, 148])\nTarget IDs Padded Shape: torch.Size([32, 148])\nInput IDs Padded Shape: torch.Size([32, 275])\nTarget IDs Padded Shape: torch.Size([32, 275])\nInput IDs Padded Shape: torch.Size([32, 382])\nTarget IDs Padded Shape: torch.Size([32, 382])\nInput IDs Padded Shape: torch.Size([20, 255])\nTarget IDs Padded Shape: torch.Size([20, 255])\nPerplexity: 9.746989582641234\n"
        },
        {
          "output_type": "stream",
          "name": "stderr",
          "text": "/tmp/ipykernel_4198/2817920276.py:7: UserWarning: To copy construct from a tensor, it is recommended to use sourceTensor.clone().detach() or sourceTensor.clone().detach().requires_grad_(True), rather than torch.tensor(sourceTensor).\n  input_ids_padded = pad_sequence([torch.tensor(seq, dtype=torch.long) for seq in input_ids],\n/tmp/ipykernel_4198/2817920276.py:9: UserWarning: To copy construct from a tensor, it is recommended to use sourceTensor.clone().detach() or sourceTensor.clone().detach().requires_grad_(True), rather than torch.tensor(sourceTensor).\n  target_ids_padded = pad_sequence([torch.tensor(seq, dtype=torch.long) for seq in target_ids],\n"
        }
      ],
      "execution_count": 19,
      "metadata": {
        "jupyter": {
          "source_hidden": false,
          "outputs_hidden": false
        },
        "nteract": {
          "transient": {
            "deleting": false
          }
        },
        "gather": {
          "logged": 1711494794511
        }
      }
    },
    {
      "cell_type": "code",
      "source": [
        "import spacy\n",
        "\n",
        "# Load the spaCy model for sentence boundary detection  \n",
        "nlp = spacy.load(\"en_core_web_sm\")"
      ],
      "outputs": [],
      "execution_count": 20,
      "metadata": {
        "jupyter": {
          "source_hidden": false,
          "outputs_hidden": false
        },
        "nteract": {
          "transient": {
            "deleting": false
          }
        },
        "gather": {
          "logged": 1711494794994
        }
      }
    },
    {
      "cell_type": "code",
      "source": [
        "def complete_sentences(text):  \n",
        "    \"\"\"Ensure the generated text ends with complete sentences.\"\"\"  \n",
        "    doc = nlp(text)  \n",
        "    complete_text = ' '.join(sent.text for sent in doc.sents if len(sent.text.strip()) > 0)  \n",
        "    return complete_text  "
      ],
      "outputs": [],
      "execution_count": 21,
      "metadata": {
        "jupyter": {
          "source_hidden": false,
          "outputs_hidden": false
        },
        "nteract": {
          "transient": {
            "deleting": false
          }
        },
        "gather": {
          "logged": 1711494795177
        }
      }
    },
    {
      "cell_type": "code",
      "source": [
        "def generate_text_custom(model, tokenizer, prompt, max_length=50, temperature=1.0):  \n",
        "    model.eval()  # Set the model to evaluation mode  \n",
        "    device = next(model.parameters()).device  # Ensure the model is on the right device  \n",
        "  \n",
        "    input_ids = tokenizer.encode(prompt, return_tensors='pt').to(device)  \n",
        "  \n",
        "    generated_ids = input_ids  \n",
        "  \n",
        "    with torch.no_grad():  \n",
        "        for _ in range(max_length):  \n",
        "            outputs = model(generated_ids)  \n",
        "            logits = outputs[:, -1, :]  \n",
        "            logits = logits / temperature  \n",
        "            probs = torch.nn.functional.softmax(logits, dim=-1)  \n",
        "            next_token_id = torch.multinomial(probs, num_samples=1)  \n",
        "  \n",
        "            generated_ids = torch.cat([generated_ids, next_token_id], dim=-1)  \n",
        "  \n",
        "            if next_token_id.item() == tokenizer.eos_token_id:  \n",
        "                break  \n",
        "  \n",
        "    generated_ids_list = generated_ids[0].tolist()  # Convert tensor to list  \n",
        "  \n",
        "    # Safely decode each token ID and concatenate  \n",
        "    decoded_tokens = []  \n",
        "    for tid in generated_ids_list:  \n",
        "        if tid is not None:  \n",
        "            try:  \n",
        "                token = tokenizer.decode([tid], skip_special_tokens=True)  \n",
        "                if token:  # Ensure the token is not empty  \n",
        "                    decoded_tokens.append(token)  \n",
        "            except Exception as e:  \n",
        "                print(f\"Error decoding token ID {tid}: {e}\")  \n",
        "                # Optionally, handle or log the error  \n",
        "  \n",
        "    generated_sequence = \"\".join(decoded_tokens)  \n",
        "  \n",
        "    # Post-process generated sequence to ensure it ends with a complete sentence  \n",
        "    complete_generated_sequence = complete_sentences(generated_sequence)  \n",
        "      \n",
        "    return complete_generated_sequence  \n"
      ],
      "outputs": [],
      "execution_count": 22,
      "metadata": {
        "jupyter": {
          "source_hidden": false,
          "outputs_hidden": false
        },
        "nteract": {
          "transient": {
            "deleting": false
          }
        },
        "gather": {
          "logged": 1711494795505
        }
      }
    },
    {
      "cell_type": "code",
      "source": [
        "prompt = \"humans lived in societies without formal hierarchies long before the establishment of formal states, realms, or empires. with the rise of organised hierarchical bodies, scepticism toward authority also\"  \n",
        "  \n",
        "# Loop 10 times  \n",
        "for i in range(10):  \n",
        "    generated_text = generate_text_custom(model, tokenizer, prompt, max_length=50)  \n",
        "    print(f\"Generated Text {i+1}:\")  \n",
        "    print(generated_text)  \n",
        "    print()  # Adds an empty line between each output for better readability  "
      ],
      "outputs": [
        {
          "output_type": "stream",
          "name": "stderr",
          "text": "2024-03-26 23:13:15.842330: I tensorflow/core/platform/cpu_feature_guard.cc:193] This TensorFlow binary is optimized with oneAPI Deep Neural Network Library (oneDNN) to use the following CPU instructions in performance-critical operations:  AVX2 AVX512F AVX512_VNNI FMA\nTo enable them in other operations, rebuild TensorFlow with the appropriate compiler flags.\n2024-03-26 23:13:18.040645: I tensorflow/core/util/port.cc:104] oneDNN custom operations are on. You may see slightly different numerical results due to floating-point round-off errors from different computation orders. To turn them off, set the environment variable `TF_ENABLE_ONEDNN_OPTS=0`.\n2024-03-26 23:13:24.442795: W tensorflow/compiler/xla/stream_executor/platform/default/dso_loader.cc:64] Could not load dynamic library 'libnvinfer.so.7'; dlerror: libnvinfer.so.7: cannot open shared object file: No such file or directory\n2024-03-26 23:13:24.443026: W tensorflow/compiler/xla/stream_executor/platform/default/dso_loader.cc:64] Could not load dynamic library 'libnvinfer_plugin.so.7'; dlerror: libnvinfer_plugin.so.7: cannot open shared object file: No such file or directory\n2024-03-26 23:13:24.443039: W tensorflow/compiler/tf2tensorrt/utils/py_utils.cc:38] TF-TRT Warning: Cannot dlopen some TensorRT libraries. If you would like to use Nvidia GPU with TensorRT, please make sure the missing libraries mentioned above are installed properly.\n"
        },
        {
          "output_type": "stream",
          "name": "stdout",
          "text": "Generated Text 1:\nhumans lived in societies without formal hierarchies long before the establishment of formal states, realms, or empires. with the rise of organised hierarchical bodies, scepticism toward authority also teaching in legislature been000in possibly of. bay sources,\n\nGenerated Text 2:\nhumans lived in societies without formal hierarchies long before the establishment of formal states, realms, or empires. with the rise of organised hierarchical bodies, scepticism toward authority also anical, east byy� and   o members. at and\n\nGenerated Text 3:\nhumans lived in societies without formal hierarchies long before the establishment of formal states, realms, or empires. with the rise of organised hierarchical bodies, scepticism toward authority also� studies. rules and,\n\nGenerated Text 4:\nhumans lived in societies without formal hierarchies long before the establishment of formal states, realms, or empires. with the rise of organised hierarchical bodies, scepticism toward authority also ( states ethnic factors commercialanro h\n\nGenerated Text 5:\nhumans lived in societies without formal hierarchies long before the establishment of formal states, realms, or empires. with the rise of organised hierarchical bodies, scepticism toward authority alsobur's age. as \" ( stabilizedte\n\nGenerated Text 6:\nhumans lived in societies without formal hierarchies long before the establishment of formal states, realms, or empires. with the rise of organised hierarchical bodies, scepticism toward authority also colonies conf errors. loops. from,'s's end stated,\n\nGenerated Text 7:\nhumans lived in societies without formal hierarchies long before the establishment of formal states, realms, or empires. with the rise of organised hierarchical bodies, scepticism toward authority also practiced. \",1981land for as- infer ben 2016\n\nGenerated Text 8:\nhumans lived in societies without formal hierarchies long before the establishment of formal states, realms, or empires. with the rise of organised hierarchical bodies, scepticism toward authority also conject this governor that as which equality and provisions\n\nGenerated Text 9:\nhumans lived in societies without formal hierarchies long before the establishment of formal states, realms, or empires. with the rise of organised hierarchical bodies, scepticism toward authority also s, and popular asdh estimate amount\n\nGenerated Text 10:\nhumans lived in societies without formal hierarchies long before the establishment of formal states, realms, or empires. with the rise of organised hierarchical bodies, scepticism toward authority also sometimeso the\"enessin- established but in\n\n"
        }
      ],
      "execution_count": 23,
      "metadata": {
        "jupyter": {
          "source_hidden": false,
          "outputs_hidden": false
        },
        "nteract": {
          "transient": {
            "deleting": false
          }
        },
        "gather": {
          "logged": 1711494817114
        }
      }
    },
    {
      "cell_type": "code",
      "source": [
        "import torch  \n",
        "  \n",
        "def calculate_token_level_accuracy(model, dataloader, device):  \n",
        "    model.eval()  # Set the model to evaluation mode  \n",
        "    correct = 0  \n",
        "    total = 0  \n",
        "  \n",
        "    with torch.no_grad():  \n",
        "        for input_ids, targets in dataloader:  \n",
        "            input_ids, targets = input_ids.to(device), targets.to(device)  \n",
        "              \n",
        "            # Forward pass: compute predicted outputs by passing inputs to the model  \n",
        "            outputs = model(input_ids)  \n",
        "              \n",
        "            # Get the predicted next word. The model outputs logits, so we use torch.max  \n",
        "            _, predicted = torch.max(outputs, dim=-1)  \n",
        "              \n",
        "            # Compare with the ground truth  \n",
        "            # Note: targets contain the expected next word in the sequence  \n",
        "            total += targets.size(0) * targets.size(1)  # Update total count (batch_size * sequence_length)  \n",
        "            correct += (predicted == targets).sum().item()  # Update correct count  \n",
        "  \n",
        "    accuracy = correct / total  \n",
        "    return accuracy  \n",
        "  \n",
        "# Assuming model, dataloader, and device are already defined  \n",
        "accuracy = calculate_token_level_accuracy(model, dataloader, device)  \n",
        "print(f\"Token Level Accuracy: {accuracy}\")  \n"
      ],
      "outputs": [
        {
          "output_type": "stream",
          "name": "stdout",
          "text": "Input IDs Padded Shape: torch.Size([32, 285])\nTarget IDs Padded Shape: torch.Size([32, 285])\nInput IDs Padded Shape: torch.Size([32, 266])\nTarget IDs Padded Shape: torch.Size([32, 266])\nInput IDs Padded Shape: torch.Size([32, 155])\nTarget IDs Padded Shape: torch.Size([32, 155])\nInput IDs Padded Shape: torch.Size([32, 246])\nTarget IDs Padded Shape: torch.Size([32, 246])\nInput IDs Padded Shape: torch.Size([32, 275])\nTarget IDs Padded Shape: torch.Size([32, 275])\nInput IDs Padded Shape: torch.Size([32, 217])\nTarget IDs Padded Shape: torch.Size([32, 217])\nInput IDs Padded Shape: torch.Size([32, 184])\nTarget IDs Padded Shape: torch.Size([32, 184])\nInput IDs Padded Shape: torch.Size([32, 274])\nTarget IDs Padded Shape: torch.Size([32, 274])\nInput IDs Padded Shape: torch.Size([32, 382])\nTarget IDs Padded Shape: torch.Size([32, 382])\nInput IDs Padded Shape: torch.Size([32, 235])\nTarget IDs Padded Shape: torch.Size([32, 235])\nInput IDs Padded Shape: torch.Size([32, 178])\nTarget IDs Padded Shape: torch.Size([32, 178])\nInput IDs Padded Shape: torch.Size([32, 162])\nTarget IDs Padded Shape: torch.Size([32, 162])\nInput IDs Padded Shape: torch.Size([32, 225])\nTarget IDs Padded Shape: torch.Size([32, 225])\nInput IDs Padded Shape: torch.Size([32, 198])\nTarget IDs Padded Shape: torch.Size([32, 198])\nInput IDs Padded Shape: torch.Size([32, 232])\nTarget IDs Padded Shape: torch.Size([32, 232])\nInput IDs Padded Shape: torch.Size([32, 175])\nTarget IDs Padded Shape: torch.Size([32, 175])\nInput IDs Padded Shape: torch.Size([32, 220])\nTarget IDs Padded Shape: torch.Size([32, 220])\nInput IDs Padded Shape: torch.Size([32, 144])\nTarget IDs Padded Shape: torch.Size([32, 144])\nInput IDs Padded Shape: torch.Size([32, 255])\nTarget IDs Padded Shape: torch.Size([32, 255])\nInput IDs Padded Shape: torch.Size([32, 170])\nTarget IDs Padded Shape: torch.Size([32, 170])\nInput IDs Padded Shape: torch.Size([32, 283])\nTarget IDs Padded Shape: torch.Size([32, 283])\nInput IDs Padded Shape: torch.Size([32, 209])\nTarget IDs Padded Shape: torch.Size([32, 209])\nInput IDs Padded Shape: torch.Size([20, 143])\nTarget IDs Padded Shape: torch.Size([20, 143])\nToken Level Accuracy: 0.7483940704138357\n"
        },
        {
          "output_type": "stream",
          "name": "stderr",
          "text": "/tmp/ipykernel_4198/2817920276.py:7: UserWarning: To copy construct from a tensor, it is recommended to use sourceTensor.clone().detach() or sourceTensor.clone().detach().requires_grad_(True), rather than torch.tensor(sourceTensor).\n  input_ids_padded = pad_sequence([torch.tensor(seq, dtype=torch.long) for seq in input_ids],\n/tmp/ipykernel_4198/2817920276.py:9: UserWarning: To copy construct from a tensor, it is recommended to use sourceTensor.clone().detach() or sourceTensor.clone().detach().requires_grad_(True), rather than torch.tensor(sourceTensor).\n  target_ids_padded = pad_sequence([torch.tensor(seq, dtype=torch.long) for seq in target_ids],\n"
        }
      ],
      "execution_count": 24,
      "metadata": {
        "jupyter": {
          "source_hidden": false,
          "outputs_hidden": false
        },
        "nteract": {
          "transient": {
            "deleting": false
          }
        },
        "gather": {
          "logged": 1711494840826
        }
      }
    },
    {
      "cell_type": "code",
      "source": [
        " \n",
        "tokenized_input = tokenizer.encode(prompt, return_tensors='pt')  \n",
        "print(\"Tokenized input:\", tokenized_input)  \n",
        "print(\"Tokens:\", tokenizer.convert_ids_to_tokens(tokenized_input[0]))  \n"
      ],
      "outputs": [
        {
          "output_type": "stream",
          "name": "stdout",
          "text": "Tokenized input: tensor([[40205,  5615,   287, 14515,  1231,  8766, 28398,   444,   890,   878,\n           262,  9323,   286,  8766,  2585,    11, 35423,    11,   393, 44982,\n            13,   351,   262,  4485,   286, 20325, 38958,  5920,    11, 30186,\n         11965,  3812,  4934,   635]])\nTokens: ['humans', 'Ġlived', 'Ġin', 'Ġsocieties', 'Ġwithout', 'Ġformal', 'Ġhierarch', 'ies', 'Ġlong', 'Ġbefore', 'Ġthe', 'Ġestablishment', 'Ġof', 'Ġformal', 'Ġstates', ',', 'Ġrealms', ',', 'Ġor', 'Ġempires', '.', 'Ġwith', 'Ġthe', 'Ġrise', 'Ġof', 'Ġorganised', 'Ġhierarchical', 'Ġbodies', ',', 'Ġscept', 'icism', 'Ġtoward', 'Ġauthority', 'Ġalso']\n"
        }
      ],
      "execution_count": 25,
      "metadata": {
        "jupyter": {
          "source_hidden": false,
          "outputs_hidden": false
        },
        "nteract": {
          "transient": {
            "deleting": false
          }
        },
        "gather": {
          "logged": 1711494841151
        }
      }
    },
    {
      "cell_type": "code",
      "source": [
        "def interactive_text_generation(model, tokenizer):  \n",
        "    print(\"Model Interactive Generation\")  \n",
        "    print(\"Type 'quit' to exit the interactive mode.\\n\")  \n",
        "      \n",
        "    while True:  \n",
        "        prompt = input(\"Enter your prompt: \")  \n",
        "          \n",
        "        if prompt.lower() == 'quit':  \n",
        "            print(\"Exiting interactive mode.\")  \n",
        "            break  \n",
        "          \n",
        "        try:  \n",
        "            generated_text = generate_text_custom(model, tokenizer, prompt, max_length=10)  \n",
        "            print(\"\\nGenerated Text:\")  \n",
        "            print(generated_text)  \n",
        "            print(\"\\n\")  \n",
        "        except Exception as e:  \n",
        "            print(f\"An error occurred: {e}\")  \n",
        "  \n",
        "# Ensure model and tokenizer are correctly initialised and configured before calling the function  \n",
        "interactive_text_generation(model, tokenizer)  \n"
      ],
      "outputs": [],
      "execution_count": null,
      "metadata": {
        "jupyter": {
          "source_hidden": false,
          "outputs_hidden": false
        },
        "nteract": {
          "transient": {
            "deleting": false
          }
        },
        "gather": {
          "logged": 1710163630361
        },
        "editable": false,
        "run_control": {
          "frozen": true
        }
      }
    },
    {
      "cell_type": "code",
      "source": [
        "# Load the spaCy model  \n",
        "nlp = spacy.load(\"en_core_web_sm\")  \n",
        "  \n",
        "# Specify the path of the file containing the article  \n",
        "file_path = 'wikipedia_random_testing1.txt'  \n",
        "  \n",
        "# Read the article from the file  \n",
        "with open(file_path, 'r', encoding='utf-8') as file:  \n",
        "    article_text = file.read()  \n",
        "  \n",
        "# Process the article to split into sentences  \n",
        "doc = nlp(article_text)  \n",
        "  \n",
        "# Initialize a list to hold sentence prompts and their corresponding answers  \n",
        "sentence_prompts_and_answers = []  \n",
        "  \n",
        "# Iterate over the sentences in the article  \n",
        "for sent in doc.sents:  \n",
        "    sentence = sent.text.strip()  \n",
        "    # Split the sentence into words  \n",
        "    words = sentence.split()  \n",
        "    if len(words) > 1:  # Ensure the sentence has at least 2 words  \n",
        "        # The prompt is the sentence without the last word  \n",
        "        prompt = \" \".join(words[:-1])  \n",
        "        # The last word is the answer  \n",
        "        answer = words[-1]  \n",
        "        # Store the prompt and answer  \n",
        "        sentence_prompts_and_answers.append((prompt, answer))  \n",
        "  \n",
        "# Example: print the first 5 prompts and their answers  \n",
        "for i, (prompt, answer) in enumerate(sentence_prompts_and_answers[:10], 1):  \n",
        "    print(f\"Prompt {i}: {prompt}\")  \n",
        "    print(f\"Answer {i}: {answer}\\n\")  \n"
      ],
      "outputs": [
        {
          "output_type": "stream",
          "name": "stdout",
          "text": "Prompt 1: Abraham Lincoln Abraham Lincoln (; February 12, 1809 – April 15, 1865) was an American lawyer and statesman who served as the 16th president of the United States from 1861 until his assassination in\nAnswer 1: 1865.\n\nPrompt 2: Lincoln led the nation through the American Civil War and succeeded in preserving the Union, abolishing slavery, bolstering the federal government, and modernizing the U.S.\nAnswer 2: economy.\n\nPrompt 3: Lincoln was born into poverty in a log cabin in Kentucky and was raised on the frontier primarily in\nAnswer 3: Indiana.\n\nPrompt 4: He was self-educated and became a lawyer, Whig Party leader, Illinois state legislator, and U.S. Congressman from\nAnswer 4: Illinois.\n\nPrompt 5: In 1849, he returned to his law practice but became vexed by the opening of additional lands to slavery as a result of the Kansas–Nebraska\nAnswer 5: Act.\n\nPrompt 6: He reentered politics in 1854, becoming a leader in the new Republican Party, and he reached a national audience in the 1858 debates against Stephen\nAnswer 6: Douglas.\n\nPrompt 7: Lincoln ran for President in 1860, sweeping the North in\nAnswer 7: victory.\n\nPrompt 8: Pro-slavery elements in the South equated his success with the North's rejection of their right to practice slavery, and southern states began seceding from the\nAnswer 8: Union.\n\nPrompt 9: To secure its independence, the new Confederate States fired on Fort Sumter, a U.S. fort in the South, and Lincoln called up forces to suppress the rebellion and restore the\nAnswer 9: Union.\n\nPrompt 10: Lincoln, a moderate Republican, had to navigate a contentious array of factions with friends and opponents from both the Democratic and Republican\nAnswer 10: parties.\n\n"
        }
      ],
      "execution_count": 26,
      "metadata": {
        "jupyter": {
          "source_hidden": false,
          "outputs_hidden": false
        },
        "nteract": {
          "transient": {
            "deleting": false
          }
        },
        "gather": {
          "logged": 1711494843593
        }
      }
    },
    {
      "cell_type": "code",
      "source": [
        "def evaluate_model_on_sentence_completion(model, tokenizer, sentence_prompts_and_answers):  \n",
        "    correct_predictions = 0  \n",
        "    total_predictions = len(sentence_prompts_and_answers)  \n",
        "      \n",
        "    for prompt, expected_last_word in sentence_prompts_and_answers:  \n",
        "        # Generate text using the custom function  \n",
        "        generated_text = generate_text_custom(model, tokenizer, prompt, max_length=50)   \n",
        "          \n",
        "        generated_tokens = generated_text.strip().split()  \n",
        "        predicted_last_word = generated_tokens[-1] if generated_tokens else \"\"  \n",
        "          \n",
        "        # Compare the predicted last word to the expected last word  \n",
        "        if predicted_last_word.lower() == expected_last_word.lower():  # Case-insensitive comparison  \n",
        "            correct_predictions += 1  \n",
        "      \n",
        "    # Calculate accuracy  \n",
        "    accuracy = correct_predictions / total_predictions if total_predictions > 0 else 0  \n",
        "    return accuracy  \n",
        "  \n",
        "\n",
        "subset_sentence_prompts_and_answers = sentence_prompts_and_answers[:1000]  \n",
        "  \n",
        "\n",
        "accuracy = evaluate_model_on_sentence_completion(model, tokenizer, subset_sentence_prompts_and_answers)  \n",
        "print(f\"Model Accuracy on Subset of Sentence Completion: {accuracy:.4f}\")  \n",
        "\n"
      ],
      "outputs": [
        {
          "output_type": "stream",
          "name": "stdout",
          "text": "Error decoding token ID 54913: sequence item 0: expected str instance, NoneType found\nError decoding token ID 54750: sequence item 0: expected str instance, NoneType found\nError decoding token ID 59546: sequence item 0: expected str instance, NoneType found\nError decoding token ID 55847: sequence item 0: expected str instance, NoneType found\nError decoding token ID 59344: sequence item 0: expected str instance, NoneType found\nError decoding token ID 58540: sequence item 0: expected str instance, NoneType found\nError decoding token ID 55159: sequence item 0: expected str instance, NoneType found\nError decoding token ID 52894: sequence item 0: expected str instance, NoneType found\nError decoding token ID 58784: sequence item 0: expected str instance, NoneType found\nError decoding token ID 59195: sequence item 0: expected str instance, NoneType found\nError decoding token ID 59637: sequence item 0: expected str instance, NoneType found\nError decoding token ID 50415: sequence item 0: expected str instance, NoneType found\nError decoding token ID 57439: sequence item 0: expected str instance, NoneType found\nError decoding token ID 58289: sequence item 0: expected str instance, NoneType found\nError decoding token ID 52989: sequence item 0: expected str instance, NoneType found\nError decoding token ID 55688: sequence item 0: expected str instance, NoneType found\nError decoding token ID 50576: sequence item 0: expected str instance, NoneType found\nError decoding token ID 53364: sequence item 0: expected str instance, NoneType found\nError decoding token ID 57939: sequence item 0: expected str instance, NoneType found\nError decoding token ID 56065: sequence item 0: expected str instance, NoneType found\nError decoding token ID 59408: sequence item 0: expected str instance, NoneType found\nError decoding token ID 57808: sequence item 0: expected str instance, NoneType found\nError decoding token ID 59737: sequence item 0: expected str instance, NoneType found\nError decoding token ID 54486: sequence item 0: expected str instance, NoneType found\nError decoding token ID 58581: sequence item 0: expected str instance, NoneType found\nError decoding token ID 57240: sequence item 0: expected str instance, NoneType found\nError decoding token ID 51916: sequence item 0: expected str instance, NoneType found\nError decoding token ID 53224: sequence item 0: expected str instance, NoneType found\nError decoding token ID 50368: sequence item 0: expected str instance, NoneType found\nError decoding token ID 54713: sequence item 0: expected str instance, NoneType found\nError decoding token ID 55474: sequence item 0: expected str instance, NoneType found\nError decoding token ID 50273: sequence item 0: expected str instance, NoneType found\nError decoding token ID 57436: sequence item 0: expected str instance, NoneType found\nError decoding token ID 55386: sequence item 0: expected str instance, NoneType found\nError decoding token ID 50617: sequence item 0: expected str instance, NoneType found\nError decoding token ID 54051: sequence item 0: expected str instance, NoneType found\nError decoding token ID 54191: sequence item 0: expected str instance, NoneType found\nError decoding token ID 55355: sequence item 0: expected str instance, NoneType found\nError decoding token ID 51167: sequence item 0: expected str instance, NoneType found\nError decoding token ID 59986: sequence item 0: expected str instance, NoneType found\nError decoding token ID 55866: sequence item 0: expected str instance, NoneType found\nError decoding token ID 59924: sequence item 0: expected str instance, NoneType found\nError decoding token ID 54514: sequence item 0: expected str instance, NoneType found\nError decoding token ID 54958: sequence item 0: expected str instance, NoneType found\n"
        }
      ],
      "execution_count": 27,
      "metadata": {
        "jupyter": {
          "source_hidden": false,
          "outputs_hidden": false
        },
        "nteract": {
          "transient": {
            "deleting": false
          }
        },
        "gather": {
          "logged": 1711498014194
        }
      }
    },
    {
      "cell_type": "code",
      "source": [
        "def print_model_predictions(model, tokenizer, sentence_prompts_and_answers):  \n",
        "    for prompt, expected_last_word in sentence_prompts_and_answers:  \n",
        "        # Generate text using the custom function  \n",
        "        generated_text = generate_text_custom(model, tokenizer, prompt, max_length=50)  # Adjust max_length if needed  \n",
        "          \n",
        "        # Tokenize the generated text to extract the last word  \n",
        "        generated_tokens = generated_text.strip().split()  \n",
        "        predicted_last_word = generated_tokens[-1] if generated_tokens else \"\"  \n",
        "          \n",
        "        # Print the prompt, predicted last word, and actual last word  \n",
        "        print(\"Prompt:\", prompt)  \n",
        "        print(\"Predicted Last Word:\", predicted_last_word)  \n",
        "        print(\"Actual Last Word:\", expected_last_word)  \n",
        "        print(\"----\")  # Separator for readability  \n",
        "  \n",
        "# Assuming 'sentence_prompts_and_answers' is a list of tuples (prompt, expected_last_word)  \n",
        "# And using the first 30 sentences as a subset for this demonstration  \n",
        "subset_sentence_prompts_and_answers = sentence_prompts_and_answers[:30]  \n",
        "  \n",
        "# Print model predictions along with the actual data  \n",
        "print_model_predictions(model, tokenizer, subset_sentence_prompts_and_answers)  \n"
      ],
      "outputs": [
        {
          "output_type": "stream",
          "name": "stdout",
          "text": "Error decoding token ID 59654: sequence item 0: expected str instance, NoneType found\nPrompt: Abraham Lincoln Abraham Lincoln (; February 12, 1809 – April 15, 1865) was an American lawyer and statesman who served as the 16th president of the United States from 1861 until his assassination in\nPredicted Last Word: punishment\nActual Last Word: 1865.\n----\nError decoding token ID 58584: sequence item 0: expected str instance, NoneType found\nError decoding token ID 53406: sequence item 0: expected str instance, NoneType found\nError decoding token ID 57017: sequence item 0: expected str instance, NoneType found\nPrompt: Lincoln led the nation through the American Civil War and succeeded in preserving the Union, abolishing slavery, bolstering the federal government, and modernizing the U.S.\nPredicted Last Word: Started\nActual Last Word: economy.\n----\nError decoding token ID 52420: sequence item 0: expected str instance, NoneType found\nError decoding token ID 53008: sequence item 0: expected str instance, NoneType found\nError decoding token ID 58068: sequence item 0: expected str instance, NoneType found\nError decoding token ID 55693: sequence item 0: expected str instance, NoneType found\nError decoding token ID 56643: sequence item 0: expected str instance, NoneType found\nPrompt: Lincoln was born into poverty in a log cabin in Kentucky and was raised on the frontier primarily in\nPredicted Last Word: bon\nActual Last Word: Indiana.\n----\nError decoding token ID 59018: sequence item 0: expected str instance, NoneType found\nPrompt: He was self-educated and became a lawyer, Whig Party leader, Illinois state legislator, and U.S. Congressman from\nPredicted Last Word: deploymentertation\nActual Last Word: Illinois.\n----\nError decoding token ID 59326: sequence item 0: expected str instance, NoneType found\nError decoding token ID 51113: sequence item 0: expected str instance, NoneType found\nPrompt: In 1849, he returned to his law practice but became vexed by the opening of additional lands to slavery as a result of the Kansas–Nebraska\nPredicted Last Word: Road\nActual Last Word: Act.\n----\nError decoding token ID 54742: sequence item 0: expected str instance, NoneType found\nError decoding token ID 50264: sequence item 0: expected str instance, NoneType found\nError decoding token ID 51470: sequence item 0: expected str instance, NoneType found\nPrompt: He reentered politics in 1854, becoming a leader in the new Republican Party, and he reached a national audience in the 1858 debates against Stephen\nPredicted Last Word: backoof\nActual Last Word: Douglas.\n----\nError decoding token ID 56999: sequence item 0: expected str instance, NoneType found\nError decoding token ID 57178: sequence item 0: expected str instance, NoneType found\nError decoding token ID 53565: sequence item 0: expected str instance, NoneType found\nError decoding token ID 59058: sequence item 0: expected str instance, NoneType found\nError decoding token ID 50436: sequence item 0: expected str instance, NoneType found\nError decoding token ID 58464: sequence item 0: expected str instance, NoneType found\nPrompt: Lincoln ran for President in 1860, sweeping the North in\nPredicted Last Word: twins\nActual Last Word: victory.\n----\nError decoding token ID 53376: sequence item 0: expected str instance, NoneType found\nError decoding token ID 57647: sequence item 0: expected str instance, NoneType found\nPrompt: Pro-slavery elements in the South equated his success with the North's rejection of their right to practice slavery, and southern states began seceding from the\nPredicted Last Word: series\nActual Last Word: Union.\n----\nError decoding token ID 52882: sequence item 0: expected str instance, NoneType found\nError decoding token ID 53586: sequence item 0: expected str instance, NoneType found\nError decoding token ID 53992: sequence item 0: expected str instance, NoneType found\nPrompt: To secure its independence, the new Confederate States fired on Fort Sumter, a U.S. fort in the South, and Lincoln called up forces to suppress the rebellion and restore the\nPredicted Last Word: large\nActual Last Word: Union.\n----\nError decoding token ID 54122: sequence item 0: expected str instance, NoneType found\nError decoding token ID 53333: sequence item 0: expected str instance, NoneType found\nError decoding token ID 56753: sequence item 0: expected str instance, NoneType found\nPrompt: Lincoln, a moderate Republican, had to navigate a contentious array of factions with friends and opponents from both the Democratic and Republican\nPredicted Last Word: comput\nActual Last Word: parties.\n----\nError decoding token ID 57994: sequence item 0: expected str instance, NoneType found\nError decoding token ID 52083: sequence item 0: expected str instance, NoneType found\nPrompt: His allies, the War Democrats and the Radical Republicans, demanded harsh treatment of the Southern\nPredicted Last Word: Atlantis\nActual Last Word: Confederates.\n----\nError decoding token ID 54542: sequence item 0: expected str instance, NoneType found\nError decoding token ID 56393: sequence item 0: expected str instance, NoneType found\nError decoding token ID 57264: sequence item 0: expected str instance, NoneType found\nError decoding token ID 51354: sequence item 0: expected str instance, NoneType found\nPrompt: Anti-war Democrats (called \"Copperheads\") despised Lincoln, and irreconcilable pro-Confederate elements plotted his\nPredicted Last Word: Caps\nActual Last Word: assassination.\n----\nError decoding token ID 59757: sequence item 0: expected str instance, NoneType found\nPrompt: He managed the factions by exploiting their mutual enmity, carefully distributing political patronage, and by appealing to the American\nPredicted Last Word: reportedly\nActual Last Word: people.\n----\nError decoding token ID 58488: sequence item 0: expected str instance, NoneType found\nError decoding token ID 50774: sequence item 0: expected str instance, NoneType found\nError decoding token ID 57470: sequence item 0: expected str instance, NoneType found\nError decoding token ID 51999: sequence item 0: expected str instance, NoneType found\nPrompt: His Gettysburg Address appealed to nationalistic, republican, egalitarian, libertarian, and democratic\nPredicted Last Word: unemploymentmicrosoft\nActual Last Word: sentiments.\n----\nError decoding token ID 55222: sequence item 0: expected str instance, NoneType found\nError decoding token ID 50587: sequence item 0: expected str instance, NoneType found\nError decoding token ID 59322: sequence item 0: expected str instance, NoneType found\nPrompt: Lincoln scrutinized the strategy and tactics in the war effort, including the selection of generals and the naval blockade of the South's\nPredicted Last Word: left\nActual Last Word: trade.\n----\nError decoding token ID 55129: sequence item 0: expected str instance, NoneType found\nError decoding token ID 55552: sequence item 0: expected str instance, NoneType found\nPrompt: He suspended habeas corpus in Maryland, and he averted British intervention by defusing the Trent\nPredicted Last Word: republican\nActual Last Word: Affair.\n----\nError decoding token ID 56357: sequence item 0: expected str instance, NoneType found\nError decoding token ID 59808: sequence item 0: expected str instance, NoneType found\nError decoding token ID 50639: sequence item 0: expected str instance, NoneType found\nError decoding token ID 50489: sequence item 0: expected str instance, NoneType found\nPrompt: He engineered the end to slavery with his Emancipation Proclamation, including his order that the Army and Navy liberate, protect, and recruit former\nPredicted Last Word: improve\nActual Last Word: slaves.\n----\nError decoding token ID 55092: sequence item 0: expected str instance, NoneType found\nError decoding token ID 54245: sequence item 0: expected str instance, NoneType found\nError decoding token ID 54577: sequence item 0: expected str instance, NoneType found\nError decoding token ID 59772: sequence item 0: expected str instance, NoneType found\nError decoding token ID 55614: sequence item 0: expected str instance, NoneType found\nError decoding token ID 59066: sequence item 0: expected str instance, NoneType found\nPrompt: He also encouraged border states to outlaw slavery, and promoted the Thirteenth Amendment to the United States Constitution, which outlawed slavery across the\nPredicted Last Word: Pablo\nActual Last Word: country.\n----\nError decoding token ID 50398: sequence item 0: expected str instance, NoneType found\nError decoding token ID 53502: sequence item 0: expected str instance, NoneType found\nError decoding token ID 51983: sequence item 0: expected str instance, NoneType found\nError decoding token ID 55652: sequence item 0: expected str instance, NoneType found\nError decoding token ID 54684: sequence item 0: expected str instance, NoneType found\nError decoding token ID 58865: sequence item 0: expected str instance, NoneType found\nPrompt: Lincoln managed his own successful re-election\nPredicted Last Word: stems\nActual Last Word: campaign.\n----\nError decoding token ID 52079: sequence item 0: expected str instance, NoneType found\nError decoding token ID 56511: sequence item 0: expected str instance, NoneType found\nError decoding token ID 53835: sequence item 0: expected str instance, NoneType found\nError decoding token ID 55627: sequence item 0: expected str instance, NoneType found\nError decoding token ID 51253: sequence item 0: expected str instance, NoneType found\nError decoding token ID 54583: sequence item 0: expected str instance, NoneType found\nPrompt: He sought to heal the war-torn nation through\nPredicted Last Word: Metall\nActual Last Word: reconciliation.\n----\nError decoding token ID 53164: sequence item 0: expected str instance, NoneType found\nError decoding token ID 59710: sequence item 0: expected str instance, NoneType found\nError decoding token ID 56300: sequence item 0: expected str instance, NoneType found\nError decoding token ID 55563: sequence item 0: expected str instance, NoneType found\nPrompt: On April 14, 1865, just days after the war's end at Appomattox, he was attending a play at Ford's Theatre in Washington, D.C., with his wife Mary when he was fatally shot by Confederate sympathizer John Wilkes\nPredicted Last Word: materialStreamerBot\nActual Last Word: Booth.\n----\nError decoding token ID 58121: sequence item 0: expected str instance, NoneType found\nError decoding token ID 52535: sequence item 0: expected str instance, NoneType found\nPrompt: Lincoln is remembered as a martyr and hero of the United States and is often ranked as the greatest president in American\nPredicted Last Word: Sof\nActual Last Word: history.\n----\nError decoding token ID 52920: sequence item 0: expected str instance, NoneType found\nError decoding token ID 56258: sequence item 0: expected str instance, NoneType found\nError decoding token ID 54670: sequence item 0: expected str instance, NoneType found\nError decoding token ID 52969: sequence item 0: expected str instance, NoneType found\nError decoding token ID 59898: sequence item 0: expected str instance, NoneType found\nPrompt: Family and childhood Early life Abraham Lincoln was born on February 12, 1809, the second child of Thomas Lincoln and Nancy Hanks Lincoln, in a log cabin on Sinking Spring Farm near Hodgenville,\nPredicted Last Word: potential姫\nActual Last Word: Kentucky.\n----\nError decoding token ID 56822: sequence item 0: expected str instance, NoneType found\nError decoding token ID 52212: sequence item 0: expected str instance, NoneType found\nError decoding token ID 54245: sequence item 0: expected str instance, NoneType found\nPrompt: He was a descendant of Samuel Lincoln, an Englishman who migrated from Hingham, Norfolk, to its namesake, Hingham, Massachusetts, in\nPredicted Last Word: Austrian\nActual Last Word: 1638.\n----\nError decoding token ID 52969: sequence item 0: expected str instance, NoneType found\nError decoding token ID 50708: sequence item 0: expected str instance, NoneType found\nPrompt: The family then migrated west, passing through New Jersey, Pennsylvania, and\nPredicted Last Word: leve\nActual Last Word: Virginia.\n----\nError decoding token ID 55947: sequence item 0: expected str instance, NoneType found\nError decoding token ID 56053: sequence item 0: expected str instance, NoneType found\nError decoding token ID 52297: sequence item 0: expected str instance, NoneType found\nError decoding token ID 59720: sequence item 0: expected str instance, NoneType found\nError decoding token ID 51926: sequence item 0: expected str instance, NoneType found\nPrompt: Lincoln's paternal grandparents, his namesake Captain Abraham Lincoln and wife Bathsheba (née Herring) moved the family from Virginia to Jefferson County,\nPredicted Last Word: FIRSTpresent\nActual Last Word: Kentucky.\n----\nPrompt: The captain was killed in an Indian raid in\nPredicted Last Word: Bron\nActual Last Word: 1786.\n----\nError decoding token ID 55263: sequence item 0: expected str instance, NoneType found\nError decoding token ID 50299: sequence item 0: expected str instance, NoneType found\nError decoding token ID 58278: sequence item 0: expected str instance, NoneType found\nPrompt: His children, including eight-year-old Thomas, Abraham's father, witnessed the\nPredicted Last Word: spousesbut\nActual Last Word: attack.\n----\nPrompt: Thomas then worked at odd jobs in Kentucky and Tennessee before the family settled in Hardin County, Kentucky, in the early\nPredicted Last Word: greater\nActual Last Word: 1800s.\n----\nPrompt: The heritage of Lincoln's mother Nancy remains unclear, but it is widely assumed that she was the daughter of Lucy\nPredicted Last Word: number\nActual Last Word: Hanks.\n----\n"
        }
      ],
      "execution_count": 35,
      "metadata": {
        "jupyter": {
          "source_hidden": false,
          "outputs_hidden": false
        },
        "nteract": {
          "transient": {
            "deleting": false
          }
        },
        "gather": {
          "logged": 1711498076327
        },
        "editable": true,
        "run_control": {
          "frozen": false
        }
      }
    },
    {
      "cell_type": "code",
      "source": [
        "import torch  \n",
        "import torch.optim as optim  \n",
        "import csv  \n",
        "  \n",
        "device = torch.device(\"cuda\" if torch.cuda.is_available() else \"cpu\")  \n",
        "  \n",
        "def reinitialize_model():  \n",
        "    return GPT(vocab_size=60000, embed_size=128, num_layers=6, heads=8, forward_expansion=4, dropout=0.1, max_length=1024)  \n",
        "  \n",
        "def evaluate_sentences_and_record(model, tokenizer, sentence_prompts_and_answers, detailed_csv_writer, epoch):  \n",
        "    model.eval()  \n",
        "    correct_predictions = 0  \n",
        "  \n",
        "    for prompt, expected_last_word in sentence_prompts_and_answers:  \n",
        "        generated_text = generate_text_custom(model, tokenizer, prompt, max_length=50)  \n",
        "        generated_tokens = generated_text.strip().split()  \n",
        "        predicted_last_word = generated_tokens[-1] if generated_tokens else \"\"  \n",
        "  \n",
        "        is_correct = int(predicted_last_word.lower() == expected_last_word.lower())  \n",
        "        correct_predictions += is_correct  \n",
        "  \n",
        "        # Writing detailed sentence-level predictions  \n",
        "        detailed_csv_writer.writerow([epoch, prompt + ' ' + expected_last_word, expected_last_word, predicted_last_word, is_correct])  \n",
        "  \n",
        "    return correct_predictions, len(sentence_prompts_and_answers)  \n",
        "  \n",
        "epochs_list = [2, 4, 6, 8]  \n",
        "  \n",
        "with open('detailed_evaluation_results.csv', mode='w', newline='', encoding='utf-8') as detailed_file, \\\n",
        "     open('epoch_summary_results.csv', mode='w', newline='', encoding='utf-8') as summary_file:\n",
        "        \n",
        "    detailed_csv_writer = csv.writer(detailed_file)  \n",
        "    detailed_csv_writer.writerow(['Epoch', 'Sentence', 'Right Word', 'Predicted Word', 'Correct?'])  \n",
        "        \n",
        "    summary_csv_writer = csv.writer(summary_file)  \n",
        "    summary_csv_writer.writerow(['Epoch', 'Average Loss', 'Accuracy (%)', 'Perplexity','Token-Level Accuracy'])  \n",
        "\n",
        "        \n",
        "    max_epoch = max(epochs_list)  # Calculate the maximum epoch to train up to  \n",
        "    model = reinitialize_model().to(device)  # Initialize your model here  \n",
        "    optimizer = optim.Adam(model.parameters(), lr=0.003)  # Initialize the optimizer  \n",
        "    criterion = torch.nn.CrossEntropyLoss()  # criterion is defined here  \n",
        "      \n",
        "    for epoch in range(1, max_epoch + 1):  \n",
        "        model.train()  \n",
        "        total_loss = 0  \n",
        "    \n",
        "        for input_ids, targets in dataloader:  # Your dataloader loop here  \n",
        "            input_ids, targets = input_ids.to(device), targets.to(device)  \n",
        "    \n",
        "            optimizer.zero_grad()  \n",
        "            output = model(input_ids)  \n",
        "            loss = criterion(output.view(-1, model.vocab_size), targets.view(-1))  \n",
        "            loss.backward()  \n",
        "            optimizer.step()  \n",
        "    \n",
        "            total_loss += loss.item()  \n",
        "    \n",
        "        avg_loss = total_loss / len(dataloader)  \n",
        "        print(f\"Epoch {epoch}, Loss: {avg_loss:.4f}\")  \n",
        "    \n",
        "        if epoch in epochs_list:  \n",
        "            correct_predictions, total_predictions = evaluate_sentences_and_record(  \n",
        "                model, tokenizer, subset_sentence_prompts_and_answers, detailed_csv_writer, epoch)  \n",
        "                \n",
        "            accuracy = (correct_predictions / total_predictions) * 100  \n",
        "            # Write epoch summary (average loss and accuracy)  \n",
        "            summary_csv_writer.writerow([epoch, avg_loss, accuracy])  \n",
        "\n",
        "            perplexity_score = calculate_perplexity(model, dataloader, device)  # Use a separate validation dataloader if available  \n",
        "            print(f\"Epoch {epoch}, Perplexity: {perplexity_score:.2f}\")  \n",
        "\n",
        "            # After training, evaluate various metrics  \n",
        "            token_level_accuracy = calculate_token_level_accuracy(model, dataloader, device)  \n",
        "            print(f\"Token Level Accuracy for epoch {epoch}: {accuracy}\")            \n",
        "\n",
        "            # Updated to include perplexity score  \n",
        "            summary_csv_writer.writerow([epoch, avg_loss, accuracy, perplexity_score, token_level_accuracy]) \n",
        "\n",
        "\n",
        "  \n",
        "        subset_sentence_prompts_and_answers = sentence_prompts_and_answers[:1000]  # Adjust size as needed  \n"
      ],
      "outputs": [],
      "execution_count": null,
      "metadata": {
        "jupyter": {
          "source_hidden": false,
          "outputs_hidden": false
        },
        "nteract": {
          "transient": {
            "deleting": false
          }
        },
        "gather": {
          "logged": 1711398232526
        },
        "editable": true,
        "run_control": {
          "frozen": false
        }
      }
    },
    {
      "cell_type": "code",
      "source": [
        "import pandas as pd  \n",
        "  \n",
        "# Load the CSV data  \n",
        "df = pd.read_csv('epoch_summary_results.csv')"
      ],
      "outputs": [],
      "execution_count": 36,
      "metadata": {
        "jupyter": {
          "source_hidden": false,
          "outputs_hidden": false
        },
        "nteract": {
          "transient": {
            "deleting": false
          }
        },
        "gather": {
          "logged": 1711498076595
        }
      }
    },
    {
      "cell_type": "code",
      "source": [
        "# Drop rows where any of the required columns \n",
        "df_cleaned = df.dropna(subset=['Epoch', 'Average Loss', 'Accuracy (%)', 'Perplexity'])  \n",
        "  \n",
        "# Save the cleaned DataFrame back to a new CSV if needed  \n",
        "df_cleaned.to_csv('epoch_summary_results.csv', index=False)  \n",
        "  \n"
      ],
      "outputs": [],
      "execution_count": 37,
      "metadata": {
        "jupyter": {
          "source_hidden": false,
          "outputs_hidden": false
        },
        "nteract": {
          "transient": {
            "deleting": false
          }
        },
        "gather": {
          "logged": 1711498076858
        }
      }
    },
    {
      "cell_type": "code",
      "source": [
        "import pandas as pd  \n",
        "import matplotlib.pyplot as plt  \n",
        "  \n",
        "# Load the epoch summary results from the CSV file  \n",
        "df_summary = pd.read_csv('epoch_summary_results.csv')  \n",
        "  \n",
        "# Plotting both Average Loss and Accuracy on the same graph with dual y-axes  \n",
        "fig, ax1 = plt.subplots()  \n",
        "  \n",
        "color = 'tab:red'  \n",
        "ax1.set_xlabel('Epoch')  \n",
        "ax1.set_ylabel('Average Loss', color=color)  \n",
        "ax1.plot(df_summary['Epoch'], df_summary['Average Loss'], color=color, marker='o', label='Average Loss')  \n",
        "ax1.tick_params(axis='y', labelcolor=color)  \n",
        "\n",
        "# Creating a second y-axis for the accuracy percentage  \n",
        "ax2 = ax1.twinx()  # instantiate a second axes that shares the same x-axis  \n",
        "color = 'tab:blue'  \n",
        "ax2.set_ylabel('Percentage of correct predictions (%)', color=color)  \n",
        "ax2.plot(df_summary['Epoch'], df_summary['Accuracy (%)'], color=color, marker='x', label='Percentage of correct predictions (%)')  \n",
        "ax2.tick_params(axis='y', labelcolor=color)  \n",
        "  \n",
        "fig.tight_layout()  # to prevent the right y-label from being slightly clipped  \n",
        "plt.title('Model Performance: Average Loss and Accuracy % per Epoch')   \n",
        "plt.show() \n"
      ],
      "outputs": [
        {
          "output_type": "display_data",
          "data": {
            "text/plain": "<Figure size 640x480 with 2 Axes>",
            "image/png": "[encoded data removed]"
          },
          "metadata": {}
        }
      ],
      "execution_count": 20,
      "metadata": {
        "jupyter": {
          "source_hidden": false,
          "outputs_hidden": false
        },
        "nteract": {
          "transient": {
            "deleting": false
          }
        },
        "gather": {
          "logged": 1711399768106
        },
        "editable": false,
        "run_control": {
          "frozen": true
        }
      }
    },
    {
      "cell_type": "code",
      "source": [
        "\n",
        "# Load the epoch summary results  \n",
        "df = pd.read_csv('epoch_summary_results.csv')  \n",
        "  \n",
        "  \n",
        "plt.figure(figsize=(10, 6))  # Set the figure size for the plot  \n",
        "  \n",
        "# Plotting Perplexity  \n",
        "plt.plot(df['Epoch'], df['Perplexity'], color='green', marker='o', linestyle='-', linewidth=2, markersize=6, label='Perplexity')  \n",
        "  \n",
        "# Adding plot title and labels  \n",
        "plt.title('Model Perplexity over Epochs')  \n",
        "plt.xlabel('Epoch')  \n",
        "plt.ylabel('Perplexity')  \n",
        "  \n",
        "# Adding a grid  \n",
        "plt.grid(True, which='both', linestyle='--', linewidth=0.5)  \n",
        "  \n",
        "# Adding legend  \n",
        "plt.legend()  \n",
        "  \n",
        "# Display the plot  \n",
        "plt.show()  \n",
        " \n"
      ],
      "outputs": [
        {
          "output_type": "display_data",
          "data": {
            "text/plain": "<Figure size 1000x600 with 1 Axes>",
            "image/png": "[encoded data removed]"
          },
          "metadata": {}
        }
      ],
      "execution_count": 21,
      "metadata": {
        "jupyter": {
          "source_hidden": false,
          "outputs_hidden": false
        },
        "nteract": {
          "transient": {
            "deleting": false
          }
        },
        "gather": {
          "logged": 1711399771589
        },
        "editable": false,
        "run_control": {
          "frozen": true
        }
      }
    },
    {
      "cell_type": "code",
      "source": [
        "import matplotlib.pyplot as plt  \n",
        "  \n",
        "plt.figure(figsize=(10, 6))  # Set the figure size  \n",
        "  \n",
        "# Plotting the token-level accuracy  \n",
        "plt.plot(df['Epoch'], df['Token-Level Accuracy'], color='blue', marker='o', linestyle='-', linewidth=2, markersize=6, label='Token-Level Accuracy')  \n",
        "  \n",
        "plt.title('Token-Level Accuracy Over Epochs')  # Title of the plot  \n",
        "plt.xlabel('Epoch')  # X-axis label  \n",
        "plt.ylabel('Token-Level Accuracy')  # Y-axis label  \n",
        "plt.grid(True)  # Adding a grid  \n",
        "plt.legend()  # Adding a legend  \n",
        "  \n",
        "plt.show()  # Display the plot  \n"
      ],
      "outputs": [
        {
          "output_type": "display_data",
          "data": {
            "text/plain": "<Figure size 1000x600 with 1 Axes>",
            "image/png": "[encoded data removed]"
          },
          "metadata": {}
        }
      ],
      "execution_count": 22,
      "metadata": {
        "jupyter": {
          "source_hidden": false,
          "outputs_hidden": false
        },
        "nteract": {
          "transient": {
            "deleting": false
          }
        },
        "gather": {
          "logged": 1711399774175
        },
        "editable": false,
        "run_control": {
          "frozen": true
        }
      }
    },
    {
      "cell_type": "code",
      "source": [
        "\n",
        "def prepare_training_data_prompts(file_path, nlp_model, sample_size=None):  \n",
        "    sentence_prompts_and_answers = []  \n",
        "    with open(file_path, 'r', encoding='utf-8') as file:  \n",
        "        for line in file:  \n",
        "            doc = nlp_model(line.strip())  \n",
        "            for sent in doc.sents:  \n",
        "                words = sent.text.split()  \n",
        "                if len(words) > 1:  # Ensure the sentence has at least 2 words  \n",
        "                    prompt = \" \".join(words[:-1]).strip()  \n",
        "                    answer = words[-1].strip()  \n",
        "                    sentence_prompts_and_answers.append((prompt, answer))  \n",
        "                    if sample_size and len(sentence_prompts_and_answers) >= sample_size:  \n",
        "                        return sentence_prompts_and_answers  \n",
        "    return sentence_prompts_and_answers  \n",
        "  \n",
        "file_path = 'wikipedia_subset_cleaned.txt'  \n",
        "training_data_prompts_and_answers = prepare_training_data_prompts(file_path, nlp, sample_size=100)  \n"
      ],
      "outputs": [],
      "execution_count": 38,
      "metadata": {
        "jupyter": {
          "source_hidden": false,
          "outputs_hidden": false
        },
        "nteract": {
          "transient": {
            "deleting": false
          }
        },
        "gather": {
          "logged": 1711498077151
        }
      }
    },
    {
      "cell_type": "code",
      "source": [
        "def reinitialize_model():  \n",
        "    # Your model initialization logic  \n",
        "    return GPT(vocab_size=60000, embed_size=128, num_layers=6, heads=8, forward_expansion=4, dropout=0.1, max_length=1024)  "
      ],
      "outputs": [],
      "execution_count": 39,
      "metadata": {
        "jupyter": {
          "source_hidden": false,
          "outputs_hidden": false
        },
        "nteract": {
          "transient": {
            "deleting": false
          }
        },
        "gather": {
          "logged": 1711498077488
        }
      }
    },
    {
      "cell_type": "code",
      "source": [
        "def evaluate_sentences_and_record(model, tokenizer, sentence_prompts_and_answers, detailed_csv_writer, epoch):  \n",
        "    model.eval()  \n",
        "    correct_predictions = 0  "
      ],
      "outputs": [],
      "execution_count": 40,
      "metadata": {
        "jupyter": {
          "source_hidden": false,
          "outputs_hidden": false
        },
        "nteract": {
          "transient": {
            "deleting": false
          }
        },
        "gather": {
          "logged": 1711498077783
        }
      }
    },
    {
      "cell_type": "code",
      "source": [
        "import torch  \n",
        "import torch.optim as optim  \n",
        "import csv  \n",
        "  \n",
        "  \n",
        "epochs_list = [2, 4, 6, 8]  \n",
        "  \n",
        "  \n",
        "# Open CSV files for writing detailed predictions and epoch summaries  \n",
        "with open('training_data_detailed_evaluation_results.csv', mode='w', newline='', encoding='utf-8') as detailed_file, \\\n",
        "     open('training_data_epoch_summary_results.csv', mode='w', newline='', encoding='utf-8') as summary_file:  \n",
        "        \n",
        "    detailed_csv_writer = csv.writer(detailed_file)  \n",
        "    detailed_csv_writer.writerow(['Epoch', 'Sentence', 'Right Word', 'Predicted Word', 'Correct?'])  \n",
        "        \n",
        "    summary_csv_writer = csv.writer(summary_file)  \n",
        "    summary_csv_writer.writerow(['Epoch', 'Average Loss', 'Accuracy (%)', 'Perplexity','Token-Level Accuracy'])  \n",
        "        \n",
        "    max_epoch = max(epochs_list)  # Calculate the maximum epoch to train up to  \n",
        "    model = reinitialize_model().to(device)  # Initialize  model   \n",
        "    optimizer = optim.Adam(model.parameters(), lr=0.003)  # Initialize the optimizer  \n",
        "      \n",
        "    for epoch in range(1, max_epoch + 1):  \n",
        "        model.train()  \n",
        "        total_loss = 0  \n",
        "    \n",
        "        for input_ids, targets in dataloader:  # dataloader loop here  \n",
        "            input_ids, targets = input_ids.to(device), targets.to(device)  \n",
        "    \n",
        "            optimizer.zero_grad()  \n",
        "            output = model(input_ids)  \n",
        "            loss = criterion(output.view(-1, model.vocab_size), targets.view(-1))  \n",
        "            loss.backward()  \n",
        "            optimizer.step()  \n",
        "    \n",
        "            total_loss += loss.item()  \n",
        "    \n",
        "        avg_loss = total_loss / len(dataloader)  \n",
        "        print(f\"Epoch {epoch}, Loss: {avg_loss:.4f}\")  \n",
        "    \n",
        "        if epoch in epochs_list:  \n",
        "            correct_predictions, total_predictions = evaluate_sentences_and_record(  \n",
        "                model, tokenizer, training_data_prompts_and_answers, detailed_csv_writer, epoch)  \n",
        "                \n",
        "            accuracy = (correct_predictions / total_predictions) * 100  \n",
        "            # Write epoch summary (average loss and accuracy)  \n",
        "\n",
        "            perplexity_score = calculate_perplexity(model, dataloader, device)  # Use a separate validation dataloader if available  \n",
        "            print(f\"Epoch {epoch}, Perplexity: {perplexity_score:.2f}\") \n",
        "\n",
        "            # After training, evaluate various metrics  \n",
        "            token_level_accuracy = calculate_token_level_accuracy(model, dataloader, device)  \n",
        "            print(f\"Token Level Accuracy for epoch {epoch}: {accuracy}\")  \n",
        "\n",
        "            summary_csv_writer.writerow([epoch, avg_loss, accuracy, perplexity_score, token_level_accuracy])  \n",
        "  \n"
      ],
      "outputs": [],
      "execution_count": null,
      "metadata": {
        "jupyter": {
          "source_hidden": false,
          "outputs_hidden": false
        },
        "nteract": {
          "transient": {
            "deleting": false
          }
        },
        "gather": {
          "logged": 1711501644798
        },
        "editable": true,
        "run_control": {
          "frozen": false
        }
      }
    },
    {
      "cell_type": "code",
      "source": [
        "import pandas as pd  \n",
        "import matplotlib.pyplot as plt  \n",
        "  \n",
        "# Load the summary data  \n",
        "df_summary = pd.read_csv('training_data_epoch_summary_results.csv')  \n",
        "  \n",
        "# Plotting  \n",
        "fig, ax1 = plt.subplots(figsize=(10, 6))  \n",
        "  \n",
        "# Average Loss  \n",
        "color = 'tab:red'  \n",
        "ax1.set_xlabel('Epoch')  \n",
        "ax1.set_ylabel('Average Loss', color=color)  \n",
        "ax1.plot(df_summary['Epoch'], df_summary['Average Loss'], color=color, marker='o', linestyle='-', label='Average Loss')  \n",
        "ax1.tick_params(axis='y', labelcolor=color)  \n",
        "  \n",
        "# Instantiate a second y-axis for the accuracy percentage  \n",
        "ax2 = ax1.twinx()  \n",
        "color = 'tab:blue'  \n",
        "ax2.set_ylabel('Accuracy (%)', color=color)  \n",
        "ax2.plot(df_summary['Epoch'], df_summary['Accuracy (%)'], color=color, marker='x', linestyle='-', label='Accuracy (%)')  \n",
        "ax2.tick_params(axis='y', labelcolor=color)  \n",
        "  \n",
        "# Title and other customizations  \n",
        "plt.title('Training Performance: Average Loss and Accuracy per Epoch for Training data')  \n",
        "fig.tight_layout()  # Adjust layout to make room for the legend  \n",
        "plt.grid(True, which='both', linestyle='--', linewidth=0.5)  \n",
        "plt.show()  \n"
      ],
      "outputs": [],
      "execution_count": null,
      "metadata": {
        "jupyter": {
          "source_hidden": false,
          "outputs_hidden": false
        },
        "nteract": {
          "transient": {
            "deleting": false
          }
        },
        "gather": {
          "logged": 1711457337956
        },
        "editable": false,
        "run_control": {
          "frozen": true
        }
      }
    },
    {
      "cell_type": "code",
      "source": [
        "# Load the epoch summary results  \n",
        "df = pd.read_csv('training_data_epoch_summary_results.csv')  \n",
        "  \n",
        "  \n",
        "plt.figure(figsize=(10, 6))  # Set the figure size for the plot  \n",
        "  \n",
        "# Plotting Perplexity  \n",
        "plt.plot(df['Epoch'], df['Perplexity'], color='green', marker='o', linestyle='-', linewidth=2, markersize=6, label='Perplexity')  \n",
        "  \n",
        "# Adding plot title and labels  \n",
        "plt.title('Model Perplexity over Epochs for Training data')  \n",
        "plt.xlabel('Epoch')  \n",
        "plt.ylabel('Perplexity')  \n",
        "  \n",
        "# Adding a grid  \n",
        "plt.grid(True, which='both', linestyle='--', linewidth=0.5)  \n",
        "  \n",
        "# Adding legend  \n",
        "plt.legend()  \n",
        "  \n",
        "# Display the plot  \n",
        "plt.show()  "
      ],
      "outputs": [],
      "execution_count": null,
      "metadata": {
        "jupyter": {
          "source_hidden": false,
          "outputs_hidden": false
        },
        "nteract": {
          "transient": {
            "deleting": false
          }
        },
        "gather": {
          "logged": 1711457337984
        },
        "editable": false,
        "run_control": {
          "frozen": true
        }
      }
    },
    {
      "cell_type": "code",
      "source": [
        "import matplotlib.pyplot as plt  \n",
        "  \n",
        "plt.figure(figsize=(10, 6))  # Set the figure size  \n",
        "  \n",
        "# Plotting the token-level accuracy  \n",
        "plt.plot(df['Epoch'], df['Token-Level Accuracy'], color='blue', marker='o', linestyle='-', linewidth=2, markersize=6, label='Token-Level Accuracy')  \n",
        "  \n",
        "plt.title('Token-Level Accuracy Over Epochs')  # Title of the plot  \n",
        "plt.xlabel('Epoch')  # X-axis label  \n",
        "plt.ylabel('Token-Level Accuracy')  # Y-axis label  \n",
        "plt.grid(True)  # Adding a grid  \n",
        "plt.legend()  # Adding a legend  \n",
        "  \n",
        "plt.show()  # Display the plot  "
      ],
      "outputs": [],
      "execution_count": null,
      "metadata": {
        "jupyter": {
          "source_hidden": false,
          "outputs_hidden": false
        },
        "nteract": {
          "transient": {
            "deleting": false
          }
        },
        "gather": {
          "logged": 1711457338006
        },
        "editable": false,
        "run_control": {
          "frozen": true
        }
      }
    },
    {
      "cell_type": "code",
      "source": [
        "import pandas as pd    \n",
        "import torch    \n",
        "import torch.optim as optim    \n",
        "import torch.nn as nn    \n",
        "import csv    \n",
        "from torch.utils.data import DataLoader    \n",
        "        \n",
        "\n",
        "  \n",
        "def evaluate_and_record(model, tokenizer, sentence_prompts_and_answers, csv_writer, num_layers):    \n",
        "    model.eval()    \n",
        "    device = next(model.parameters()).device    \n",
        "    correct_predictions = 0    \n",
        "    \n",
        "    for prompt, expected_last_word in sentence_prompts_and_answers:    \n",
        "        generated_text = generate_text_custom(model, tokenizer, prompt, max_length=50)  # Adjust max_length if necessary    \n",
        "        generated_tokens = generated_text.strip().split()    \n",
        "        predicted_last_word = generated_tokens[-1] if generated_tokens else \"\"    \n",
        "            \n",
        "        is_correct = int(predicted_last_word.lower() == expected_last_word.lower())    \n",
        "        correct_predictions += is_correct    \n",
        "    \n",
        "        csv_writer.writerow([num_layers, prompt, expected_last_word, predicted_last_word, is_correct])    \n",
        "          \n",
        "    percentage_correct = (correct_predictions / len(sentence_prompts_and_answers)) * 100    \n",
        "    print(f\"Evaluation for models with {num_layers} layers completed. Percentage of Correct Predictions: {percentage_correct:.2f}%\")    \n",
        "  \n",
        "# Define num_layers values to test    \n",
        "num_layers_list = [2, 4, 8, 16, 32]    \n",
        "  \n",
        "# Open CSV file for writing results    \n",
        "with open('layerwise_evaluation_results.csv', mode='w', newline='', encoding='utf-8') as file:    \n",
        "    csv_writer = csv.writer(file)    \n",
        "    csv_writer.writerow(['Num_Layers', 'Sentence', 'Right Word', 'Predicted Word', 'Correct?'])    \n",
        "    \n",
        "    for num_layers in num_layers_list:    \n",
        "        model = GPT(vocab_size=60000, embed_size=128, num_layers=num_layers, heads=8, forward_expansion=4, dropout=0.1, max_length=1024).to(device)    \n",
        "        optimizer = optim.Adam(model.parameters())    \n",
        "        criterion = torch.nn.CrossEntropyLoss()    \n",
        "  \n",
        "        model.train()    \n",
        "        for epoch in range(1):  # Train for 1 epoch for each num_layers configuration    \n",
        "            total_loss = 0    \n",
        "            for input_ids, targets in dataloader:  # Assuming dataloader is defined    \n",
        "                input_ids, targets = input_ids.to(device), targets.to(device)    \n",
        "                optimizer.zero_grad()    \n",
        "                outputs = model(input_ids)    \n",
        "                loss = criterion(outputs.view(-1, model.vocab_size), targets.view(-1))    \n",
        "                loss.backward()    \n",
        "                optimizer.step()    \n",
        "                total_loss += loss.item()    \n",
        "            print(f\"Training Loss for {num_layers} layers: {total_loss / len(dataloader)}\")    \n",
        "    \n",
        "        # Evaluation    \n",
        "        evaluate_and_record(model, tokenizer, sentence_prompts_and_answers, csv_writer, num_layers)    \n"
      ],
      "outputs": [
        {
          "output_type": "stream",
          "name": "stderr",
          "text": "/tmp/ipykernel_4198/2817920276.py:7: UserWarning: To copy construct from a tensor, it is recommended to use sourceTensor.clone().detach() or sourceTensor.clone().detach().requires_grad_(True), rather than torch.tensor(sourceTensor).\n  input_ids_padded = pad_sequence([torch.tensor(seq, dtype=torch.long) for seq in input_ids],\n/tmp/ipykernel_4198/2817920276.py:9: UserWarning: To copy construct from a tensor, it is recommended to use sourceTensor.clone().detach() or sourceTensor.clone().detach().requires_grad_(True), rather than torch.tensor(sourceTensor).\n  target_ids_padded = pad_sequence([torch.tensor(seq, dtype=torch.long) for seq in target_ids],\n"
        },
        {
          "output_type": "stream",
          "name": "stdout",
          "text": "Input IDs Padded Shape: torch.Size([32, 220])\nTarget IDs Padded Shape: torch.Size([32, 220])\nInput IDs Padded Shape: torch.Size([32, 266])\nTarget IDs Padded Shape: torch.Size([32, 266])\nInput IDs Padded Shape: torch.Size([32, 232])\nTarget IDs Padded Shape: torch.Size([32, 232])\nInput IDs Padded Shape: torch.Size([32, 285])\nTarget IDs Padded Shape: torch.Size([32, 285])\nInput IDs Padded Shape: torch.Size([32, 245])\nTarget IDs Padded Shape: torch.Size([32, 245])\nInput IDs Padded Shape: torch.Size([32, 382])\nTarget IDs Padded Shape: torch.Size([32, 382])\nInput IDs Padded Shape: torch.Size([32, 251])\nTarget IDs Padded Shape: torch.Size([32, 251])\nInput IDs Padded Shape: torch.Size([32, 209])\nTarget IDs Padded Shape: torch.Size([32, 209])\nInput IDs Padded Shape: torch.Size([32, 283])\nTarget IDs Padded Shape: torch.Size([32, 283])\nInput IDs Padded Shape: torch.Size([32, 217])\nTarget IDs Padded Shape: torch.Size([32, 217])\nInput IDs Padded Shape: torch.Size([32, 274])\nTarget IDs Padded Shape: torch.Size([32, 274])\nInput IDs Padded Shape: torch.Size([32, 190])\nTarget IDs Padded Shape: torch.Size([32, 190])\nInput IDs Padded Shape: torch.Size([32, 239])\nTarget IDs Padded Shape: torch.Size([32, 239])\nInput IDs Padded Shape: torch.Size([32, 202])\nTarget IDs Padded Shape: torch.Size([32, 202])\nInput IDs Padded Shape: torch.Size([32, 232])\nTarget IDs Padded Shape: torch.Size([32, 232])\nInput IDs Padded Shape: torch.Size([32, 145])\nTarget IDs Padded Shape: torch.Size([32, 145])\nInput IDs Padded Shape: torch.Size([32, 202])\nTarget IDs Padded Shape: torch.Size([32, 202])\nInput IDs Padded Shape: torch.Size([32, 126])\nTarget IDs Padded Shape: torch.Size([32, 126])\nInput IDs Padded Shape: torch.Size([32, 199])\nTarget IDs Padded Shape: torch.Size([32, 199])\nInput IDs Padded Shape: torch.Size([32, 191])\nTarget IDs Padded Shape: torch.Size([32, 191])\nInput IDs Padded Shape: torch.Size([32, 204])\nTarget IDs Padded Shape: torch.Size([32, 204])\nInput IDs Padded Shape: torch.Size([32, 255])\nTarget IDs Padded Shape: torch.Size([32, 255])\nInput IDs Padded Shape: torch.Size([20, 275])\nTarget IDs Padded Shape: torch.Size([20, 275])\nTraining Loss for 2 layers: 5.596347591151362\nError decoding token ID 50906: sequence item 0: expected str instance, NoneType found\nError decoding token ID 59893: sequence item 0: expected str instance, NoneType found\nError decoding token ID 53299: sequence item 0: expected str instance, NoneType found\nError decoding token ID 53907: sequence item 0: expected str instance, NoneType found\nError decoding token ID 51938: sequence item 0: expected str instance, NoneType found\nError decoding token ID 57604: sequence item 0: expected str instance, NoneType found\nError decoding token ID 51259: sequence item 0: expected str instance, NoneType found\nError decoding token ID 57873: sequence item 0: expected str instance, NoneType found\nError decoding token ID 55438: sequence item 0: expected str instance, NoneType found\nError decoding token ID 53313: sequence item 0: expected str instance, NoneType found\nError decoding token ID 57111: sequence item 0: expected str instance, NoneType found\nError decoding token ID 57098: sequence item 0: expected str instance, NoneType found\nError decoding token ID 57072: sequence item 0: expected str instance, NoneType found\nError decoding token ID 58435: sequence item 0: expected str instance, NoneType found\nError decoding token ID 53395: sequence item 0: expected str instance, NoneType found\nError decoding token ID 53255: sequence item 0: expected str instance, NoneType found\nError decoding token ID 52395: sequence item 0: expected str instance, NoneType found\nError decoding token ID 59276: sequence item 0: expected str instance, NoneType found\nError decoding token ID 55037: sequence item 0: expected str instance, NoneType found\nError decoding token ID 51868: sequence item 0: expected str instance, NoneType found\nError decoding token ID 57871: sequence item 0: expected str instance, NoneType found\nError decoding token ID 59870: sequence item 0: expected str instance, NoneType found\nError decoding token ID 55345: sequence item 0: expected str instance, NoneType found\nError decoding token ID 54431: sequence item 0: expected str instance, NoneType found\nError decoding token ID 51708: sequence item 0: expected str instance, NoneType found\nError decoding token ID 52610: sequence item 0: expected str instance, NoneType found\nError decoding token ID 51350: sequence item 0: expected str instance, NoneType found\nError decoding token ID 54472: sequence item 0: expected str instance, NoneType found\nError decoding token ID 52486: sequence item 0: expected str instance, NoneType found\nError decoding token ID 56915: sequence item 0: expected str instance, NoneType found\nError decoding token ID 55576: sequence item 0: expected str instance, NoneType found\nError decoding token ID 50936: sequence item 0: expected str instance, NoneType found\nError decoding token ID 57372: sequence item 0: expected str instance, NoneType found\nError decoding token ID 55010: sequence item 0: expected str instance, NoneType found\nError decoding token ID 54504: sequence item 0: expected str instance, NoneType found\nError decoding token ID 50891: sequence item 0: expected str instance, NoneType found\nError decoding token ID 57128: sequence item 0: expected str instance, NoneType found\nError decoding token ID 52729: sequence item 0: expected str instance, NoneType found\nError decoding token ID 56710: sequence item 0: expected str instance, NoneType found\nError decoding token ID 52316: sequence item 0: expected str instance, NoneType found\nError decoding token ID 53375: sequence item 0: expected str instance, NoneType found\nError decoding token ID 55613: sequence item 0: expected str instance, NoneType found\nError decoding token ID 55637: sequence item 0: expected str instance, NoneType found\nError decoding token ID 58251: sequence item 0: expected str instance, NoneType found\nError decoding token ID 51656: sequence item 0: expected str instance, NoneType found\nError decoding token ID 51714: sequence item 0: expected str instance, NoneType found\nError decoding token ID 57772: sequence item 0: expected str instance, NoneType found\nError decoding token ID 53044: sequence item 0: expected str instance, NoneType found\nError decoding token ID 54129: sequence item 0: expected str instance, NoneType found\nError decoding token ID 52309: sequence item 0: expected str instance, NoneType found\nError decoding token ID 53634: sequence item 0: expected str instance, NoneType found\nError decoding token ID 56008: sequence item 0: expected str instance, NoneType found\nError decoding token ID 51080: sequence item 0: expected str instance, NoneType found\nError decoding token ID 57387: sequence item 0: expected str instance, NoneType found\nError decoding token ID 56358: sequence item 0: expected str instance, NoneType found\nError decoding token ID 57618: sequence item 0: expected str instance, NoneType found\nError decoding token ID 55268: sequence item 0: expected str instance, NoneType found\nError decoding token ID 54855: sequence item 0: expected str instance, NoneType found\nError decoding token ID 57738: sequence item 0: expected str instance, NoneType found\nError decoding token ID 55799: sequence item 0: expected str instance, NoneType found\nError decoding token ID 55917: sequence item 0: expected str instance, NoneType found\nError decoding token ID 59920: sequence item 0: expected str instance, NoneType found\nError decoding token ID 55631: sequence item 0: expected str instance, NoneType found\nError decoding token ID 57575: sequence item 0: expected str instance, NoneType found\nError decoding token ID 54719: sequence item 0: expected str instance, NoneType found\nError decoding token ID 58621: sequence item 0: expected str instance, NoneType found\nError decoding token ID 57414: sequence item 0: expected str instance, NoneType found\nError decoding token ID 54026: sequence item 0: expected str instance, NoneType found\nError decoding token ID 57424: sequence item 0: expected str instance, NoneType found\nError decoding token ID 54562: sequence item 0: expected str instance, NoneType found\nError decoding token ID 58636: sequence item 0: expected str instance, NoneType found\nError decoding token ID 56800: sequence item 0: expected str instance, NoneType found\nError decoding token ID 54652: sequence item 0: expected str instance, NoneType found\nError decoding token ID 51090: sequence item 0: expected str instance, NoneType found\nError decoding token ID 54652: sequence item 0: expected str instance, NoneType found\nError decoding token ID 59698: sequence item 0: expected str instance, NoneType found\nError decoding token ID 54556: sequence item 0: expected str instance, NoneType found\nError decoding token ID 58402: sequence item 0: expected str instance, NoneType found\nError decoding token ID 57951: sequence item 0: expected str instance, NoneType found\nError decoding token ID 56787: sequence item 0: expected str instance, NoneType found\nError decoding token ID 55814: sequence item 0: expected str instance, NoneType found\nError decoding token ID 51154: sequence item 0: expected str instance, NoneType found\nError decoding token ID 58683: sequence item 0: expected str instance, NoneType found\nError decoding token ID 56110: sequence item 0: expected str instance, NoneType found\nError decoding token ID 54691: sequence item 0: expected str instance, NoneType found\nError decoding token ID 54171: sequence item 0: expected str instance, NoneType found\nError decoding token ID 56567: sequence item 0: expected str instance, NoneType found\nError decoding token ID 53492: sequence item 0: expected str instance, NoneType found\nError decoding token ID 51985: sequence item 0: expected str instance, NoneType found\nError decoding token ID 54534: sequence item 0: expected str instance, NoneType found\nError decoding token ID 50969: sequence item 0: expected str instance, NoneType found\nError decoding token ID 54062: sequence item 0: expected str instance, NoneType found\nError decoding token ID 57822: sequence item 0: expected str instance, NoneType found\nError decoding token ID 50641: sequence item 0: expected str instance, NoneType found\nError decoding token ID 58378: sequence item 0: expected str instance, NoneType found\nError decoding token ID 59983: sequence item 0: expected str instance, NoneType found\nError decoding token ID 58646: sequence item 0: expected str instance, NoneType found\nError decoding token ID 59322: sequence item 0: expected str instance, NoneType found\nError decoding token ID 59130: sequence item 0: expected str instance, NoneType found\nError decoding token ID 57066: sequence item 0: expected str instance, NoneType found\nError decoding token ID 55900: sequence item 0: expected str instance, NoneType found\nError decoding token ID 55143: sequence item 0: expected str instance, NoneType found\nError decoding token ID 53852: sequence item 0: expected str instance, NoneType found\nError decoding token ID 59264: sequence item 0: expected str instance, NoneType found\nError decoding token ID 57567: sequence item 0: expected str instance, NoneType found\nError decoding token ID 54056: sequence item 0: expected str instance, NoneType found\nError decoding token ID 55856: sequence item 0: expected str instance, NoneType found\nError decoding token ID 58976: sequence item 0: expected str instance, NoneType found\nError decoding token ID 58970: sequence item 0: expected str instance, NoneType found\nError decoding token ID 59878: sequence item 0: expected str instance, NoneType found\nError decoding token ID 56932: sequence item 0: expected str instance, NoneType found\nError decoding token ID 54399: sequence item 0: expected str instance, NoneType found\nError decoding token ID 50773: sequence item 0: expected str instance, NoneType found\nError decoding token ID 59227: sequence item 0: expected str instance, NoneType found\nError decoding token ID 54822: sequence item 0: expected str instance, NoneType found\nError decoding token ID 51972: sequence item 0: expected str instance, NoneType found\nError decoding token ID 51005: sequence item 0: expected str instance, NoneType found\nError decoding token ID 54937: sequence item 0: expected str instance, NoneType found\nError decoding token ID 58235: sequence item 0: expected str instance, NoneType found\nError decoding token ID 57806: sequence item 0: expected str instance, NoneType found\nError decoding token ID 59729: sequence item 0: expected str instance, NoneType found\nError decoding token ID 58299: sequence item 0: expected str instance, NoneType found\nError decoding token ID 54216: sequence item 0: expected str instance, NoneType found\nError decoding token ID 53638: sequence item 0: expected str instance, NoneType found\nError decoding token ID 59041: sequence item 0: expected str instance, NoneType found\nError decoding token ID 53310: sequence item 0: expected str instance, NoneType found\nError decoding token ID 58846: sequence item 0: expected str instance, NoneType found\nError decoding token ID 58639: sequence item 0: expected str instance, NoneType found\nError decoding token ID 54388: sequence item 0: expected str instance, NoneType found\nError decoding token ID 53305: sequence item 0: expected str instance, NoneType found\nError decoding token ID 55540: sequence item 0: expected str instance, NoneType found\nError decoding token ID 54564: sequence item 0: expected str instance, NoneType found\nError decoding token ID 53794: sequence item 0: expected str instance, NoneType found\nError decoding token ID 50972: sequence item 0: expected str instance, NoneType found\nError decoding token ID 57304: sequence item 0: expected str instance, NoneType found\nError decoding token ID 52770: sequence item 0: expected str instance, NoneType found\nError decoding token ID 56744: sequence item 0: expected str instance, NoneType found\nError decoding token ID 56619: sequence item 0: expected str instance, NoneType found\nError decoding token ID 56406: sequence item 0: expected str instance, NoneType found\nError decoding token ID 50742: sequence item 0: expected str instance, NoneType found\nError decoding token ID 52637: sequence item 0: expected str instance, NoneType found\nError decoding token ID 55143: sequence item 0: expected str instance, NoneType found\nError decoding token ID 51320: sequence item 0: expected str instance, NoneType found\nError decoding token ID 59323: sequence item 0: expected str instance, NoneType found\nError decoding token ID 53397: sequence item 0: expected str instance, NoneType found\nError decoding token ID 52844: sequence item 0: expected str instance, NoneType found\nError decoding token ID 51409: sequence item 0: expected str instance, NoneType found\nError decoding token ID 54122: sequence item 0: expected str instance, NoneType found\nError decoding token ID 52247: sequence item 0: expected str instance, NoneType found\nError decoding token ID 59317: sequence item 0: expected str instance, NoneType found\nError decoding token ID 59603: sequence item 0: expected str instance, NoneType found\nError decoding token ID 51900: sequence item 0: expected str instance, NoneType found\nError decoding token ID 50954: sequence item 0: expected str instance, NoneType found\nError decoding token ID 53707: sequence item 0: expected str instance, NoneType found\nError decoding token ID 56717: sequence item 0: expected str instance, NoneType found\nError decoding token ID 57427: sequence item 0: expected str instance, NoneType found\nError decoding token ID 54387: sequence item 0: expected str instance, NoneType found\nError decoding token ID 57834: sequence item 0: expected str instance, NoneType found\nError decoding token ID 59821: sequence item 0: expected str instance, NoneType found\nError decoding token ID 50696: sequence item 0: expected str instance, NoneType found\nError decoding token ID 53288: sequence item 0: expected str instance, NoneType found\nError decoding token ID 53577: sequence item 0: expected str instance, NoneType found\nError decoding token ID 50843: sequence item 0: expected str instance, NoneType found\nError decoding token ID 52042: sequence item 0: expected str instance, NoneType found\nError decoding token ID 55450: sequence item 0: expected str instance, NoneType found\nError decoding token ID 59608: sequence item 0: expected str instance, NoneType found\nError decoding token ID 57444: sequence item 0: expected str instance, NoneType found\nError decoding token ID 54759: sequence item 0: expected str instance, NoneType found\nError decoding token ID 52641: sequence item 0: expected str instance, NoneType found\nError decoding token ID 51107: sequence item 0: expected str instance, NoneType found\nError decoding token ID 54610: sequence item 0: expected str instance, NoneType found\nError decoding token ID 54739: sequence item 0: expected str instance, NoneType found\nError decoding token ID 57114: sequence item 0: expected str instance, NoneType found\nError decoding token ID 56806: sequence item 0: expected str instance, NoneType found\nError decoding token ID 59986: sequence item 0: expected str instance, NoneType found\nError decoding token ID 53652: sequence item 0: expected str instance, NoneType found\nError decoding token ID 55901: sequence item 0: expected str instance, NoneType found\nError decoding token ID 53570: sequence item 0: expected str instance, NoneType found\nError decoding token ID 53418: sequence item 0: expected str instance, NoneType found\nError decoding token ID 58418: sequence item 0: expected str instance, NoneType found\nError decoding token ID 53999: sequence item 0: expected str instance, NoneType found\nError decoding token ID 50379: sequence item 0: expected str instance, NoneType found\nError decoding token ID 56745: sequence item 0: expected str instance, NoneType found\nError decoding token ID 53028: sequence item 0: expected str instance, NoneType found\nError decoding token ID 53486: sequence item 0: expected str instance, NoneType found\nError decoding token ID 55242: sequence item 0: expected str instance, NoneType found\nError decoding token ID 55115: sequence item 0: expected str instance, NoneType found\nError decoding token ID 52373: sequence item 0: expected str instance, NoneType found\nError decoding token ID 57265: sequence item 0: expected str instance, NoneType found\nError decoding token ID 58536: sequence item 0: expected str instance, NoneType found\nError decoding token ID 53038: sequence item 0: expected str instance, NoneType found\nError decoding token ID 57966: sequence item 0: expected str instance, NoneType found\nError decoding token ID 52724: sequence item 0: expected str instance, NoneType found\nError decoding token ID 52716: sequence item 0: expected str instance, NoneType found\nError decoding token ID 58659: sequence item 0: expected str instance, NoneType found\nError decoding token ID 57963: sequence item 0: expected str instance, NoneType found\nError decoding token ID 50476: sequence item 0: expected str instance, NoneType found\nError decoding token ID 57706: sequence item 0: expected str instance, NoneType found\nError decoding token ID 53375: sequence item 0: expected str instance, NoneType found\nError decoding token ID 54117: sequence item 0: expected str instance, NoneType found\nError decoding token ID 56280: sequence item 0: expected str instance, NoneType found\nError decoding token ID 59428: sequence item 0: expected str instance, NoneType found\nError decoding token ID 59420: sequence item 0: expected str instance, NoneType found\nError decoding token ID 52150: sequence item 0: expected str instance, NoneType found\nError decoding token ID 52737: sequence item 0: expected str instance, NoneType found\nError decoding token ID 57418: sequence item 0: expected str instance, NoneType found\nError decoding token ID 58040: sequence item 0: expected str instance, NoneType found\nError decoding token ID 53008: sequence item 0: expected str instance, NoneType found\nError decoding token ID 58533: sequence item 0: expected str instance, NoneType found\nError decoding token ID 55514: sequence item 0: expected str instance, NoneType found\nError decoding token ID 56105: sequence item 0: expected str instance, NoneType found\nError decoding token ID 56617: sequence item 0: expected str instance, NoneType found\nError decoding token ID 51256: sequence item 0: expected str instance, NoneType found\nError decoding token ID 54435: sequence item 0: expected str instance, NoneType found\nError decoding token ID 56905: sequence item 0: expected str instance, NoneType found\nError decoding token ID 56421: sequence item 0: expected str instance, NoneType found\nError decoding token ID 59703: sequence item 0: expected str instance, NoneType found\nError decoding token ID 54083: sequence item 0: expected str instance, NoneType found\nError decoding token ID 52408: sequence item 0: expected str instance, NoneType found\nError decoding token ID 58554: sequence item 0: expected str instance, NoneType found\nError decoding token ID 55397: sequence item 0: expected str instance, NoneType found\nError decoding token ID 53567: sequence item 0: expected str instance, NoneType found\nError decoding token ID 52329: sequence item 0: expected str instance, NoneType found\nError decoding token ID 51354: sequence item 0: expected str instance, NoneType found\nError decoding token ID 57104: sequence item 0: expected str instance, NoneType found\nError decoding token ID 51101: sequence item 0: expected str instance, NoneType found\nError decoding token ID 59945: sequence item 0: expected str instance, NoneType found\nError decoding token ID 51293: sequence item 0: expected str instance, NoneType found\nError decoding token ID 58128: sequence item 0: expected str instance, NoneType found\nError decoding token ID 55543: sequence item 0: expected str instance, NoneType found\nError decoding token ID 54298: sequence item 0: expected str instance, NoneType found\nError decoding token ID 56174: sequence item 0: expected str instance, NoneType found\nError decoding token ID 54708: sequence item 0: expected str instance, NoneType found\nError decoding token ID 50856: sequence item 0: expected str instance, NoneType found\nError decoding token ID 57645: sequence item 0: expected str instance, NoneType found\nError decoding token ID 53041: sequence item 0: expected str instance, NoneType found\nError decoding token ID 57664: sequence item 0: expected str instance, NoneType found\nError decoding token ID 50958: sequence item 0: expected str instance, NoneType found\nError decoding token ID 50912: sequence item 0: expected str instance, NoneType found\nError decoding token ID 53667: sequence item 0: expected str instance, NoneType found\nError decoding token ID 58736: sequence item 0: expected str instance, NoneType found\nError decoding token ID 56363: sequence item 0: expected str instance, NoneType found\nError decoding token ID 58156: sequence item 0: expected str instance, NoneType found\nError decoding token ID 55212: sequence item 0: expected str instance, NoneType found\nError decoding token ID 50901: sequence item 0: expected str instance, NoneType found\nError decoding token ID 50601: sequence item 0: expected str instance, NoneType found\nError decoding token ID 51799: sequence item 0: expected str instance, NoneType found\nError decoding token ID 52571: sequence item 0: expected str instance, NoneType found\nError decoding token ID 58142: sequence item 0: expected str instance, NoneType found\nError decoding token ID 50634: sequence item 0: expected str instance, NoneType found\nError decoding token ID 58075: sequence item 0: expected str instance, NoneType found\nError decoding token ID 59274: sequence item 0: expected str instance, NoneType found\nError decoding token ID 51392: sequence item 0: expected str instance, NoneType found\nError decoding token ID 55335: sequence item 0: expected str instance, NoneType found\nError decoding token ID 51893: sequence item 0: expected str instance, NoneType found\nError decoding token ID 51169: sequence item 0: expected str instance, NoneType found\nError decoding token ID 52525: sequence item 0: expected str instance, NoneType found\nError decoding token ID 55131: sequence item 0: expected str instance, NoneType found\nError decoding token ID 58474: sequence item 0: expected str instance, NoneType found\nError decoding token ID 55206: sequence item 0: expected str instance, NoneType found\nError decoding token ID 56806: sequence item 0: expected str instance, NoneType found\nError decoding token ID 57982: sequence item 0: expected str instance, NoneType found\nError decoding token ID 51008: sequence item 0: expected str instance, NoneType found\nError decoding token ID 51472: sequence item 0: expected str instance, NoneType found\nError decoding token ID 53511: sequence item 0: expected str instance, NoneType found\nError decoding token ID 55723: sequence item 0: expected str instance, NoneType found\nError decoding token ID 50397: sequence item 0: expected str instance, NoneType found\nError decoding token ID 59146: sequence item 0: expected str instance, NoneType found\nError decoding token ID 55478: sequence item 0: expected str instance, NoneType found\nError decoding token ID 54282: sequence item 0: expected str instance, NoneType found\nError decoding token ID 53218: sequence item 0: expected str instance, NoneType found\nError decoding token ID 56969: sequence item 0: expected str instance, NoneType found\nError decoding token ID 59919: sequence item 0: expected str instance, NoneType found\nError decoding token ID 52743: sequence item 0: expected str instance, NoneType found\nError decoding token ID 55563: sequence item 0: expected str instance, NoneType found\nError decoding token ID 59968: sequence item 0: expected str instance, NoneType found\nError decoding token ID 59733: sequence item 0: expected str instance, NoneType found\nError decoding token ID 57007: sequence item 0: expected str instance, NoneType found\nError decoding token ID 53744: sequence item 0: expected str instance, NoneType found\nError decoding token ID 57751: sequence item 0: expected str instance, NoneType found\nError decoding token ID 51813: sequence item 0: expected str instance, NoneType found\nError decoding token ID 52249: sequence item 0: expected str instance, NoneType found\nError decoding token ID 51165: sequence item 0: expected str instance, NoneType found\nError decoding token ID 57704: sequence item 0: expected str instance, NoneType found\nError decoding token ID 58463: sequence item 0: expected str instance, NoneType found\nError decoding token ID 52839: sequence item 0: expected str instance, NoneType found\nError decoding token ID 55033: sequence item 0: expected str instance, NoneType found\nError decoding token ID 59391: sequence item 0: expected str instance, NoneType found\nError decoding token ID 52038: sequence item 0: expected str instance, NoneType found\nError decoding token ID 51692: sequence item 0: expected str instance, NoneType found\nError decoding token ID 53846: sequence item 0: expected str instance, NoneType found\nError decoding token ID 55851: sequence item 0: expected str instance, NoneType found\nError decoding token ID 53830: sequence item 0: expected str instance, NoneType found\nError decoding token ID 59053: sequence item 0: expected str instance, NoneType found\nError decoding token ID 58055: sequence item 0: expected str instance, NoneType found\nError decoding token ID 52685: sequence item 0: expected str instance, NoneType found\nError decoding token ID 58822: sequence item 0: expected str instance, NoneType found\nError decoding token ID 59236: sequence item 0: expected str instance, NoneType found\nError decoding token ID 55214: sequence item 0: expected str instance, NoneType found\nError decoding token ID 58518: sequence item 0: expected str instance, NoneType found\nError decoding token ID 50277: sequence item 0: expected str instance, NoneType found\nError decoding token ID 56261: sequence item 0: expected str instance, NoneType found\nError decoding token ID 57200: sequence item 0: expected str instance, NoneType found\nError decoding token ID 59387: sequence item 0: expected str instance, NoneType found\nError decoding token ID 54290: sequence item 0: expected str instance, NoneType found\nError decoding token ID 51247: sequence item 0: expected str instance, NoneType found\nError decoding token ID 53005: sequence item 0: expected str instance, NoneType found\nError decoding token ID 53295: sequence item 0: expected str instance, NoneType found\nError decoding token ID 57045: sequence item 0: expected str instance, NoneType found\nError decoding token ID 51712: sequence item 0: expected str instance, NoneType found\nError decoding token ID 52512: sequence item 0: expected str instance, NoneType found\nError decoding token ID 56303: sequence item 0: expected str instance, NoneType found\nError decoding token ID 54267: sequence item 0: expected str instance, NoneType found\nError decoding token ID 59538: sequence item 0: expected str instance, NoneType found\nError decoding token ID 54509: sequence item 0: expected str instance, NoneType found\nError decoding token ID 58810: sequence item 0: expected str instance, NoneType found\nError decoding token ID 58173: sequence item 0: expected str instance, NoneType found\nError decoding token ID 57782: sequence item 0: expected str instance, NoneType found\nError decoding token ID 50555: sequence item 0: expected str instance, NoneType found\nError decoding token ID 58450: sequence item 0: expected str instance, NoneType found\nError decoding token ID 56232: sequence item 0: expected str instance, NoneType found\nError decoding token ID 51987: sequence item 0: expected str instance, NoneType found\nError decoding token ID 55561: sequence item 0: expected str instance, NoneType found\nError decoding token ID 57052: sequence item 0: expected str instance, NoneType found\nError decoding token ID 59097: sequence item 0: expected str instance, NoneType found\nError decoding token ID 51078: sequence item 0: expected str instance, NoneType found\nError decoding token ID 53232: sequence item 0: expected str instance, NoneType found\nError decoding token ID 51087: sequence item 0: expected str instance, NoneType found\nError decoding token ID 50554: sequence item 0: expected str instance, NoneType found\nError decoding token ID 51091: sequence item 0: expected str instance, NoneType found\nError decoding token ID 53219: sequence item 0: expected str instance, NoneType found\nError decoding token ID 58259: sequence item 0: expected str instance, NoneType found\nError decoding token ID 53367: sequence item 0: expected str instance, NoneType found\nError decoding token ID 55734: sequence item 0: expected str instance, NoneType found\nError decoding token ID 53542: sequence item 0: expected str instance, NoneType found\nError decoding token ID 52543: sequence item 0: expected str instance, NoneType found\nError decoding token ID 52286: sequence item 0: expected str instance, NoneType found\nError decoding token ID 58333: sequence item 0: expected str instance, NoneType found\nError decoding token ID 59953: sequence item 0: expected str instance, NoneType found\nError decoding token ID 57164: sequence item 0: expected str instance, NoneType found\nError decoding token ID 50441: sequence item 0: expected str instance, NoneType found\nError decoding token ID 54677: sequence item 0: expected str instance, NoneType found\nError decoding token ID 57536: sequence item 0: expected str instance, NoneType found\nError decoding token ID 53383: sequence item 0: expected str instance, NoneType found\nError decoding token ID 54149: sequence item 0: expected str instance, NoneType found\nError decoding token ID 57366: sequence item 0: expected str instance, NoneType found\nError decoding token ID 55668: sequence item 0: expected str instance, NoneType found\nError decoding token ID 52143: sequence item 0: expected str instance, NoneType found\nError decoding token ID 54722: sequence item 0: expected str instance, NoneType found\nError decoding token ID 59601: sequence item 0: expected str instance, NoneType found\nError decoding token ID 52211: sequence item 0: expected str instance, NoneType found\nError decoding token ID 59339: sequence item 0: expected str instance, NoneType found\nError decoding token ID 58445: sequence item 0: expected str instance, NoneType found\nError decoding token ID 50946: sequence item 0: expected str instance, NoneType found\nError decoding token ID 59606: sequence item 0: expected str instance, NoneType found\nError decoding token ID 51913: sequence item 0: expected str instance, NoneType found\nError decoding token ID 52909: sequence item 0: expected str instance, NoneType found\nError decoding token ID 56110: sequence item 0: expected str instance, NoneType found\nError decoding token ID 52603: sequence item 0: expected str instance, NoneType found\nError decoding token ID 52426: sequence item 0: expected str instance, NoneType found\nError decoding token ID 52983: sequence item 0: expected str instance, NoneType found\nError decoding token ID 50717: sequence item 0: expected str instance, NoneType found\nError decoding token ID 56184: sequence item 0: expected str instance, NoneType found\nError decoding token ID 51486: sequence item 0: expected str instance, NoneType found\nError decoding token ID 52922: sequence item 0: expected str instance, NoneType found\nError decoding token ID 59197: sequence item 0: expected str instance, NoneType found\nError decoding token ID 54748: sequence item 0: expected str instance, NoneType found\nError decoding token ID 53573: sequence item 0: expected str instance, NoneType found\nError decoding token ID 55348: sequence item 0: expected str instance, NoneType found\nError decoding token ID 55674: sequence item 0: expected str instance, NoneType found\nError decoding token ID 55767: sequence item 0: expected str instance, NoneType found\nError decoding token ID 54959: sequence item 0: expected str instance, NoneType found\nError decoding token ID 52874: sequence item 0: expected str instance, NoneType found\nError decoding token ID 56888: sequence item 0: expected str instance, NoneType found\nError decoding token ID 57069: sequence item 0: expected str instance, NoneType found\nError decoding token ID 54450: sequence item 0: expected str instance, NoneType found\nError decoding token ID 58543: sequence item 0: expected str instance, NoneType found\nError decoding token ID 57386: sequence item 0: expected str instance, NoneType found\nError decoding token ID 56850: sequence item 0: expected str instance, NoneType found\nError decoding token ID 55977: sequence item 0: expected str instance, NoneType found\nError decoding token ID 53368: sequence item 0: expected str instance, NoneType found\nError decoding token ID 53917: sequence item 0: expected str instance, NoneType found\nError decoding token ID 52126: sequence item 0: expected str instance, NoneType found\nError decoding token ID 58254: sequence item 0: expected str instance, NoneType found\nError decoding token ID 59231: sequence item 0: expected str instance, NoneType found\nError decoding token ID 56225: sequence item 0: expected str instance, NoneType found\nError decoding token ID 52764: sequence item 0: expected str instance, NoneType found\nError decoding token ID 51274: sequence item 0: expected str instance, NoneType found\nError decoding token ID 54117: sequence item 0: expected str instance, NoneType found\nError decoding token ID 56363: sequence item 0: expected str instance, NoneType found\nError decoding token ID 54921: sequence item 0: expected str instance, NoneType found\nError decoding token ID 56071: sequence item 0: expected str instance, NoneType found\nError decoding token ID 50812: sequence item 0: expected str instance, NoneType found\nError decoding token ID 55191: sequence item 0: expected str instance, NoneType found\nError decoding token ID 58367: sequence item 0: expected str instance, NoneType found\nError decoding token ID 53898: sequence item 0: expected str instance, NoneType found\nError decoding token ID 52311: sequence item 0: expected str instance, NoneType found\nError decoding token ID 55712: sequence item 0: expected str instance, NoneType found\nError decoding token ID 55833: sequence item 0: expected str instance, NoneType found\nError decoding token ID 52234: sequence item 0: expected str instance, NoneType found\nError decoding token ID 53797: sequence item 0: expected str instance, NoneType found\nError decoding token ID 51204: sequence item 0: expected str instance, NoneType found\nError decoding token ID 51601: sequence item 0: expected str instance, NoneType found\nError decoding token ID 50873: sequence item 0: expected str instance, NoneType found\nError decoding token ID 53391: sequence item 0: expected str instance, NoneType found\nError decoding token ID 56702: sequence item 0: expected str instance, NoneType found\nError decoding token ID 57255: sequence item 0: expected str instance, NoneType found\nError decoding token ID 51178: sequence item 0: expected str instance, NoneType found\nError decoding token ID 58329: sequence item 0: expected str instance, NoneType found\nError decoding token ID 56862: sequence item 0: expected str instance, NoneType found\nError decoding token ID 53394: sequence item 0: expected str instance, NoneType found\nError decoding token ID 53151: sequence item 0: expected str instance, NoneType found\nError decoding token ID 55036: sequence item 0: expected str instance, NoneType found\nError decoding token ID 53827: sequence item 0: expected str instance, NoneType found\nError decoding token ID 58488: sequence item 0: expected str instance, NoneType found\nError decoding token ID 58661: sequence item 0: expected str instance, NoneType found\nError decoding token ID 50582: sequence item 0: expected str instance, NoneType found\nError decoding token ID 57659: sequence item 0: expected str instance, NoneType found\nError decoding token ID 53061: sequence item 0: expected str instance, NoneType found\nError decoding token ID 56591: sequence item 0: expected str instance, NoneType found\nError decoding token ID 58743: sequence item 0: expected str instance, NoneType found\nError decoding token ID 54800: sequence item 0: expected str instance, NoneType found\nError decoding token ID 53037: sequence item 0: expected str instance, NoneType found\nError decoding token ID 54674: sequence item 0: expected str instance, NoneType found\nError decoding token ID 57720: sequence item 0: expected str instance, NoneType found\nError decoding token ID 57039: sequence item 0: expected str instance, NoneType found\nError decoding token ID 50947: sequence item 0: expected str instance, NoneType found\nError decoding token ID 54717: sequence item 0: expected str instance, NoneType found\nError decoding token ID 54605: sequence item 0: expected str instance, NoneType found\nError decoding token ID 55423: sequence item 0: expected str instance, NoneType found\nError decoding token ID 56885: sequence item 0: expected str instance, NoneType found\nError decoding token ID 51921: sequence item 0: expected str instance, NoneType found\nError decoding token ID 54299: sequence item 0: expected str instance, NoneType found\nError decoding token ID 58053: sequence item 0: expected str instance, NoneType found\nError decoding token ID 55528: sequence item 0: expected str instance, NoneType found\nError decoding token ID 56262: sequence item 0: expected str instance, NoneType found\nError decoding token ID 57290: sequence item 0: expected str instance, NoneType found\nError decoding token ID 58461: sequence item 0: expected str instance, NoneType found\nError decoding token ID 52311: sequence item 0: expected str instance, NoneType found\nError decoding token ID 55748: sequence item 0: expected str instance, NoneType found\nError decoding token ID 54719: sequence item 0: expected str instance, NoneType found\nError decoding token ID 54548: sequence item 0: expected str instance, NoneType found\nError decoding token ID 56027: sequence item 0: expected str instance, NoneType found\nError decoding token ID 52828: sequence item 0: expected str instance, NoneType found\nError decoding token ID 57913: sequence item 0: expected str instance, NoneType found\nError decoding token ID 59199: sequence item 0: expected str instance, NoneType found\nError decoding token ID 58219: sequence item 0: expected str instance, NoneType found\nError decoding token ID 54092: sequence item 0: expected str instance, NoneType found\nError decoding token ID 58421: sequence item 0: expected str instance, NoneType found\nError decoding token ID 59405: sequence item 0: expected str instance, NoneType found\nError decoding token ID 53498: sequence item 0: expected str instance, NoneType found\nError decoding token ID 58174: sequence item 0: expected str instance, NoneType found\nError decoding token ID 59198: sequence item 0: expected str instance, NoneType found\nError decoding token ID 58024: sequence item 0: expected str instance, NoneType found\nError decoding token ID 56331: sequence item 0: expected str instance, NoneType found\nError decoding token ID 59073: sequence item 0: expected str instance, NoneType found\nError decoding token ID 56652: sequence item 0: expected str instance, NoneType found\nError decoding token ID 53747: sequence item 0: expected str instance, NoneType found\nError decoding token ID 51372: sequence item 0: expected str instance, NoneType found\nError decoding token ID 58683: sequence item 0: expected str instance, NoneType found\nError decoding token ID 57777: sequence item 0: expected str instance, NoneType found\nError decoding token ID 56830: sequence item 0: expected str instance, NoneType found\nError decoding token ID 56124: sequence item 0: expected str instance, NoneType found\nError decoding token ID 53713: sequence item 0: expected str instance, NoneType found\nError decoding token ID 58253: sequence item 0: expected str instance, NoneType found\nError decoding token ID 56046: sequence item 0: expected str instance, NoneType found\nError decoding token ID 55177: sequence item 0: expected str instance, NoneType found\nError decoding token ID 59866: sequence item 0: expected str instance, NoneType found\nError decoding token ID 53201: sequence item 0: expected str instance, NoneType found\nError decoding token ID 58966: sequence item 0: expected str instance, NoneType found\nError decoding token ID 56013: sequence item 0: expected str instance, NoneType found\nError decoding token ID 55631: sequence item 0: expected str instance, NoneType found\nError decoding token ID 50819: sequence item 0: expected str instance, NoneType found\nError decoding token ID 54633: sequence item 0: expected str instance, NoneType found\nError decoding token ID 58558: sequence item 0: expected str instance, NoneType found\nError decoding token ID 56271: sequence item 0: expected str instance, NoneType found\nError decoding token ID 53737: sequence item 0: expected str instance, NoneType found\nError decoding token ID 52520: sequence item 0: expected str instance, NoneType found\nError decoding token ID 54255: sequence item 0: expected str instance, NoneType found\nError decoding token ID 51325: sequence item 0: expected str instance, NoneType found\nError decoding token ID 50938: sequence item 0: expected str instance, NoneType found\nError decoding token ID 53750: sequence item 0: expected str instance, NoneType found\nError decoding token ID 56731: sequence item 0: expected str instance, NoneType found\nError decoding token ID 53756: sequence item 0: expected str instance, NoneType found\nError decoding token ID 50494: sequence item 0: expected str instance, NoneType found\nError decoding token ID 51201: sequence item 0: expected str instance, NoneType found\nError decoding token ID 55120: sequence item 0: expected str instance, NoneType found\nError decoding token ID 50701: sequence item 0: expected str instance, NoneType found\nError decoding token ID 56644: sequence item 0: expected str instance, NoneType found\nError decoding token ID 51366: sequence item 0: expected str instance, NoneType found\nError decoding token ID 59110: sequence item 0: expected str instance, NoneType found\nError decoding token ID 56861: sequence item 0: expected str instance, NoneType found\nError decoding token ID 59778: sequence item 0: expected str instance, NoneType found\nError decoding token ID 52402: sequence item 0: expected str instance, NoneType found\nError decoding token ID 57231: sequence item 0: expected str instance, NoneType found\nError decoding token ID 55136: sequence item 0: expected str instance, NoneType found\nError decoding token ID 51609: sequence item 0: expected str instance, NoneType found\nError decoding token ID 58778: sequence item 0: expected str instance, NoneType found\nError decoding token ID 54843: sequence item 0: expected str instance, NoneType found\nError decoding token ID 56991: sequence item 0: expected str instance, NoneType found\nError decoding token ID 59017: sequence item 0: expected str instance, NoneType found\nError decoding token ID 57446: sequence item 0: expected str instance, NoneType found\nError decoding token ID 57781: sequence item 0: expected str instance, NoneType found\nError decoding token ID 54354: sequence item 0: expected str instance, NoneType found\nError decoding token ID 54191: sequence item 0: expected str instance, NoneType found\nError decoding token ID 57410: sequence item 0: expected str instance, NoneType found\nError decoding token ID 53484: sequence item 0: expected str instance, NoneType found\nError decoding token ID 57549: sequence item 0: expected str instance, NoneType found\nError decoding token ID 54572: sequence item 0: expected str instance, NoneType found\nError decoding token ID 55362: sequence item 0: expected str instance, NoneType found\nError decoding token ID 59449: sequence item 0: expected str instance, NoneType found\nError decoding token ID 51496: sequence item 0: expected str instance, NoneType found\nError decoding token ID 55324: sequence item 0: expected str instance, NoneType found\nError decoding token ID 55489: sequence item 0: expected str instance, NoneType found\nError decoding token ID 54859: sequence item 0: expected str instance, NoneType found\nError decoding token ID 53435: sequence item 0: expected str instance, NoneType found\nError decoding token ID 56980: sequence item 0: expected str instance, NoneType found\nError decoding token ID 55195: sequence item 0: expected str instance, NoneType found\nError decoding token ID 50608: sequence item 0: expected str instance, NoneType found\nError decoding token ID 50954: sequence item 0: expected str instance, NoneType found\nError decoding token ID 52296: sequence item 0: expected str instance, NoneType found\nError decoding token ID 59601: sequence item 0: expected str instance, NoneType found\nError decoding token ID 55159: sequence item 0: expected str instance, NoneType found\nError decoding token ID 57358: sequence item 0: expected str instance, NoneType found\nError decoding token ID 52395: sequence item 0: expected str instance, NoneType found\nError decoding token ID 53862: sequence item 0: expected str instance, NoneType found\nError decoding token ID 57734: sequence item 0: expected str instance, NoneType found\nError decoding token ID 56376: sequence item 0: expected str instance, NoneType found\nError decoding token ID 56360: sequence item 0: expected str instance, NoneType found\nError decoding token ID 50619: sequence item 0: expected str instance, NoneType found\nError decoding token ID 55688: sequence item 0: expected str instance, NoneType found\nError decoding token ID 55475: sequence item 0: expected str instance, NoneType found\nError decoding token ID 55855: sequence item 0: expected str instance, NoneType found\nError decoding token ID 59709: sequence item 0: expected str instance, NoneType found\nError decoding token ID 50546: sequence item 0: expected str instance, NoneType found\nError decoding token ID 52810: sequence item 0: expected str instance, NoneType found\nError decoding token ID 50983: sequence item 0: expected str instance, NoneType found\nError decoding token ID 59480: sequence item 0: expected str instance, NoneType found\nError decoding token ID 56296: sequence item 0: expected str instance, NoneType found\nError decoding token ID 53929: sequence item 0: expected str instance, NoneType found\nError decoding token ID 57237: sequence item 0: expected str instance, NoneType found\nError decoding token ID 52757: sequence item 0: expected str instance, NoneType found\nError decoding token ID 54630: sequence item 0: expected str instance, NoneType found\nError decoding token ID 50413: sequence item 0: expected str instance, NoneType found\nError decoding token ID 53385: sequence item 0: expected str instance, NoneType found\nError decoding token ID 56047: sequence item 0: expected str instance, NoneType found\nError decoding token ID 58651: sequence item 0: expected str instance, NoneType found\nError decoding token ID 58253: sequence item 0: expected str instance, NoneType found\nError decoding token ID 54734: sequence item 0: expected str instance, NoneType found\nError decoding token ID 59255: sequence item 0: expected str instance, NoneType found\nError decoding token ID 58000: sequence item 0: expected str instance, NoneType found\nError decoding token ID 52061: sequence item 0: expected str instance, NoneType found\nError decoding token ID 52004: sequence item 0: expected str instance, NoneType found\nError decoding token ID 53357: sequence item 0: expected str instance, NoneType found\nError decoding token ID 57764: sequence item 0: expected str instance, NoneType found\nError decoding token ID 50951: sequence item 0: expected str instance, NoneType found\nError decoding token ID 59631: sequence item 0: expected str instance, NoneType found\nError decoding token ID 59177: sequence item 0: expected str instance, NoneType found\nError decoding token ID 57071: sequence item 0: expected str instance, NoneType found\nError decoding token ID 55774: sequence item 0: expected str instance, NoneType found\nError decoding token ID 55781: sequence item 0: expected str instance, NoneType found\nError decoding token ID 57782: sequence item 0: expected str instance, NoneType found\nError decoding token ID 57412: sequence item 0: expected str instance, NoneType found\nError decoding token ID 55628: sequence item 0: expected str instance, NoneType found\nError decoding token ID 57567: sequence item 0: expected str instance, NoneType found\nError decoding token ID 54541: sequence item 0: expected str instance, NoneType found\nError decoding token ID 51935: sequence item 0: expected str instance, NoneType found\nError decoding token ID 58415: sequence item 0: expected str instance, NoneType found\nError decoding token ID 56398: sequence item 0: expected str instance, NoneType found\nError decoding token ID 54067: sequence item 0: expected str instance, NoneType found\nError decoding token ID 51157: sequence item 0: expected str instance, NoneType found\nError decoding token ID 50515: sequence item 0: expected str instance, NoneType found\nError decoding token ID 54360: sequence item 0: expected str instance, NoneType found\nError decoding token ID 51623: sequence item 0: expected str instance, NoneType found\nError decoding token ID 59689: sequence item 0: expected str instance, NoneType found\nError decoding token ID 52089: sequence item 0: expected str instance, NoneType found\nError decoding token ID 51212: sequence item 0: expected str instance, NoneType found\nError decoding token ID 56402: sequence item 0: expected str instance, NoneType found\nError decoding token ID 51574: sequence item 0: expected str instance, NoneType found\nError decoding token ID 58230: sequence item 0: expected str instance, NoneType found\nError decoding token ID 50922: sequence item 0: expected str instance, NoneType found\nError decoding token ID 51394: sequence item 0: expected str instance, NoneType found\nError decoding token ID 51963: sequence item 0: expected str instance, NoneType found\nError decoding token ID 50813: sequence item 0: expected str instance, NoneType found\nError decoding token ID 58381: sequence item 0: expected str instance, NoneType found\nError decoding token ID 52028: sequence item 0: expected str instance, NoneType found\nError decoding token ID 58173: sequence item 0: expected str instance, NoneType found\nError decoding token ID 54486: sequence item 0: expected str instance, NoneType found\nError decoding token ID 55166: sequence item 0: expected str instance, NoneType found\nError decoding token ID 56193: sequence item 0: expected str instance, NoneType found\nError decoding token ID 53357: sequence item 0: expected str instance, NoneType found\nError decoding token ID 54666: sequence item 0: expected str instance, NoneType found\nError decoding token ID 58539: sequence item 0: expected str instance, NoneType found\nError decoding token ID 53860: sequence item 0: expected str instance, NoneType found\nError decoding token ID 53891: sequence item 0: expected str instance, NoneType found\nError decoding token ID 51415: sequence item 0: expected str instance, NoneType found\nError decoding token ID 51091: sequence item 0: expected str instance, NoneType found\nError decoding token ID 51192: sequence item 0: expected str instance, NoneType found\nError decoding token ID 52562: sequence item 0: expected str instance, NoneType found\nError decoding token ID 56736: sequence item 0: expected str instance, NoneType found\nError decoding token ID 53770: sequence item 0: expected str instance, NoneType found\nError decoding token ID 50631: sequence item 0: expected str instance, NoneType found\nError decoding token ID 51961: sequence item 0: expected str instance, NoneType found\nError decoding token ID 56165: sequence item 0: expected str instance, NoneType found\nError decoding token ID 54385: sequence item 0: expected str instance, NoneType found\nError decoding token ID 52955: sequence item 0: expected str instance, NoneType found\nError decoding token ID 53100: sequence item 0: expected str instance, NoneType found\nError decoding token ID 52162: sequence item 0: expected str instance, NoneType found\nError decoding token ID 52520: sequence item 0: expected str instance, NoneType found\nError decoding token ID 53701: sequence item 0: expected str instance, NoneType found\nError decoding token ID 56885: sequence item 0: expected str instance, NoneType found\nError decoding token ID 55480: sequence item 0: expected str instance, NoneType found\nError decoding token ID 59905: sequence item 0: expected str instance, NoneType found\nError decoding token ID 58855: sequence item 0: expected str instance, NoneType found\nError decoding token ID 51180: sequence item 0: expected str instance, NoneType found\nError decoding token ID 56777: sequence item 0: expected str instance, NoneType found\nError decoding token ID 50844: sequence item 0: expected str instance, NoneType found\nError decoding token ID 58561: sequence item 0: expected str instance, NoneType found\nError decoding token ID 56627: sequence item 0: expected str instance, NoneType found\nError decoding token ID 53298: sequence item 0: expected str instance, NoneType found\nError decoding token ID 58738: sequence item 0: expected str instance, NoneType found\nError decoding token ID 56268: sequence item 0: expected str instance, NoneType found\nError decoding token ID 58876: sequence item 0: expected str instance, NoneType found\nError decoding token ID 58280: sequence item 0: expected str instance, NoneType found\nError decoding token ID 56655: sequence item 0: expected str instance, NoneType found\nError decoding token ID 54317: sequence item 0: expected str instance, NoneType found\nError decoding token ID 56056: sequence item 0: expected str instance, NoneType found\nError decoding token ID 52886: sequence item 0: expected str instance, NoneType found\nError decoding token ID 56355: sequence item 0: expected str instance, NoneType found\nError decoding token ID 53810: sequence item 0: expected str instance, NoneType found\nError decoding token ID 51842: sequence item 0: expected str instance, NoneType found\nError decoding token ID 59259: sequence item 0: expected str instance, NoneType found\nError decoding token ID 56195: sequence item 0: expected str instance, NoneType found\nError decoding token ID 55145: sequence item 0: expected str instance, NoneType found\nError decoding token ID 53993: sequence item 0: expected str instance, NoneType found\nError decoding token ID 54853: sequence item 0: expected str instance, NoneType found\nError decoding token ID 56122: sequence item 0: expected str instance, NoneType found\nError decoding token ID 58982: sequence item 0: expected str instance, NoneType found\nError decoding token ID 57211: sequence item 0: expected str instance, NoneType found\nError decoding token ID 50971: sequence item 0: expected str instance, NoneType found\nError decoding token ID 54978: sequence item 0: expected str instance, NoneType found\nError decoding token ID 53044: sequence item 0: expected str instance, NoneType found\nError decoding token ID 51750: sequence item 0: expected str instance, NoneType found\nError decoding token ID 57192: sequence item 0: expected str instance, NoneType found\nError decoding token ID 56890: sequence item 0: expected str instance, NoneType found\nError decoding token ID 51777: sequence item 0: expected str instance, NoneType found\nError decoding token ID 52642: sequence item 0: expected str instance, NoneType found\nError decoding token ID 56133: sequence item 0: expected str instance, NoneType found\nError decoding token ID 56013: sequence item 0: expected str instance, NoneType found\nError decoding token ID 52491: sequence item 0: expected str instance, NoneType found\nError decoding token ID 52378: sequence item 0: expected str instance, NoneType found\nError decoding token ID 52901: sequence item 0: expected str instance, NoneType found\nError decoding token ID 59474: sequence item 0: expected str instance, NoneType found\nError decoding token ID 53434: sequence item 0: expected str instance, NoneType found\nError decoding token ID 55311: sequence item 0: expected str instance, NoneType found\nError decoding token ID 53148: sequence item 0: expected str instance, NoneType found\nError decoding token ID 51099: sequence item 0: expected str instance, NoneType found\nError decoding token ID 58624: sequence item 0: expected str instance, NoneType found\nError decoding token ID 51181: sequence item 0: expected str instance, NoneType found\nError decoding token ID 52556: sequence item 0: expected str instance, NoneType found\nError decoding token ID 51196: sequence item 0: expected str instance, NoneType found\nError decoding token ID 52052: sequence item 0: expected str instance, NoneType found\nError decoding token ID 50787: sequence item 0: expected str instance, NoneType found\nError decoding token ID 56728: sequence item 0: expected str instance, NoneType found\nError decoding token ID 54185: sequence item 0: expected str instance, NoneType found\nError decoding token ID 53561: sequence item 0: expected str instance, NoneType found\nError decoding token ID 54039: sequence item 0: expected str instance, NoneType found\nError decoding token ID 51105: sequence item 0: expected str instance, NoneType found\nError decoding token ID 51399: sequence item 0: expected str instance, NoneType found\nError decoding token ID 56697: sequence item 0: expected str instance, NoneType found\nError decoding token ID 57513: sequence item 0: expected str instance, NoneType found\nError decoding token ID 51511: sequence item 0: expected str instance, NoneType found\nError decoding token ID 56717: sequence item 0: expected str instance, NoneType found\nError decoding token ID 59953: sequence item 0: expected str instance, NoneType found\nError decoding token ID 59495: sequence item 0: expected str instance, NoneType found\nError decoding token ID 57484: sequence item 0: expected str instance, NoneType found\nError decoding token ID 51757: sequence item 0: expected str instance, NoneType found\nError decoding token ID 54193: sequence item 0: expected str instance, NoneType found\nError decoding token ID 53360: sequence item 0: expected str instance, NoneType found\nError decoding token ID 59401: sequence item 0: expected str instance, NoneType found\nError decoding token ID 57866: sequence item 0: expected str instance, NoneType found\nError decoding token ID 55581: sequence item 0: expected str instance, NoneType found\nError decoding token ID 58367: sequence item 0: expected str instance, NoneType found\nError decoding token ID 53099: sequence item 0: expected str instance, NoneType found\nError decoding token ID 57767: sequence item 0: expected str instance, NoneType found\nError decoding token ID 56458: sequence item 0: expected str instance, NoneType found\nError decoding token ID 52696: sequence item 0: expected str instance, NoneType found\nError decoding token ID 56934: sequence item 0: expected str instance, NoneType found\nError decoding token ID 53562: sequence item 0: expected str instance, NoneType found\nError decoding token ID 52734: sequence item 0: expected str instance, NoneType found\nError decoding token ID 59596: sequence item 0: expected str instance, NoneType found\nError decoding token ID 58845: sequence item 0: expected str instance, NoneType found\nError decoding token ID 53338: sequence item 0: expected str instance, NoneType found\nError decoding token ID 54526: sequence item 0: expected str instance, NoneType found\nError decoding token ID 58258: sequence item 0: expected str instance, NoneType found\nError decoding token ID 59418: sequence item 0: expected str instance, NoneType found\nError decoding token ID 53018: sequence item 0: expected str instance, NoneType found\nError decoding token ID 56802: sequence item 0: expected str instance, NoneType found\nError decoding token ID 51283: sequence item 0: expected str instance, NoneType found\nError decoding token ID 53676: sequence item 0: expected str instance, NoneType found\nError decoding token ID 57973: sequence item 0: expected str instance, NoneType found\nError decoding token ID 57872: sequence item 0: expected str instance, NoneType found\nError decoding token ID 57018: sequence item 0: expected str instance, NoneType found\nError decoding token ID 53485: sequence item 0: expected str instance, NoneType found\nError decoding token ID 58570: sequence item 0: expected str instance, NoneType found\nError decoding token ID 58294: sequence item 0: expected str instance, NoneType found\nError decoding token ID 59714: sequence item 0: expected str instance, NoneType found\nError decoding token ID 53063: sequence item 0: expected str instance, NoneType found\nError decoding token ID 57605: sequence item 0: expected str instance, NoneType found\nError decoding token ID 57741: sequence item 0: expected str instance, NoneType found\nError decoding token ID 57619: sequence item 0: expected str instance, NoneType found\nError decoding token ID 51667: sequence item 0: expected str instance, NoneType found\nError decoding token ID 58544: sequence item 0: expected str instance, NoneType found\nError decoding token ID 59237: sequence item 0: expected str instance, NoneType found\nError decoding token ID 52724: sequence item 0: expected str instance, NoneType found\nError decoding token ID 54001: sequence item 0: expected str instance, NoneType found\nError decoding token ID 55565: sequence item 0: expected str instance, NoneType found\nError decoding token ID 58496: sequence item 0: expected str instance, NoneType found\nError decoding token ID 54232: sequence item 0: expected str instance, NoneType found\nError decoding token ID 50325: sequence item 0: expected str instance, NoneType found\nError decoding token ID 50755: sequence item 0: expected str instance, NoneType found\nError decoding token ID 53386: sequence item 0: expected str instance, NoneType found\nError decoding token ID 53231: sequence item 0: expected str instance, NoneType found\nError decoding token ID 53850: sequence item 0: expected str instance, NoneType found\nError decoding token ID 57101: sequence item 0: expected str instance, NoneType found\nError decoding token ID 54028: sequence item 0: expected str instance, NoneType found\nError decoding token ID 56300: sequence item 0: expected str instance, NoneType found\nError decoding token ID 53649: sequence item 0: expected str instance, NoneType found\nError decoding token ID 51517: sequence item 0: expected str instance, NoneType found\nError decoding token ID 58659: sequence item 0: expected str instance, NoneType found\nError decoding token ID 59521: sequence item 0: expected str instance, NoneType found\nError decoding token ID 52759: sequence item 0: expected str instance, NoneType found\nError decoding token ID 56681: sequence item 0: expected str instance, NoneType found\nError decoding token ID 54264: sequence item 0: expected str instance, NoneType found\nError decoding token ID 50925: sequence item 0: expected str instance, NoneType found\nError decoding token ID 58177: sequence item 0: expected str instance, NoneType found\nError decoding token ID 56777: sequence item 0: expected str instance, NoneType found\nError decoding token ID 52328: sequence item 0: expected str instance, NoneType found\nError decoding token ID 57908: sequence item 0: expected str instance, NoneType found\nError decoding token ID 53639: sequence item 0: expected str instance, NoneType found\nError decoding token ID 59044: sequence item 0: expected str instance, NoneType found\nError decoding token ID 55533: sequence item 0: expected str instance, NoneType found\nError decoding token ID 52311: sequence item 0: expected str instance, NoneType found\nError decoding token ID 59156: sequence item 0: expected str instance, NoneType found\nError decoding token ID 54656: sequence item 0: expected str instance, NoneType found\nError decoding token ID 59206: sequence item 0: expected str instance, NoneType found\nError decoding token ID 54003: sequence item 0: expected str instance, NoneType found\nError decoding token ID 53068: sequence item 0: expected str instance, NoneType found\nError decoding token ID 54385: sequence item 0: expected str instance, NoneType found\nError decoding token ID 51431: sequence item 0: expected str instance, NoneType found\nError decoding token ID 53859: sequence item 0: expected str instance, NoneType found\nError decoding token ID 51399: sequence item 0: expected str instance, NoneType found\nError decoding token ID 51994: sequence item 0: expected str instance, NoneType found\nError decoding token ID 59568: sequence item 0: expected str instance, NoneType found\nError decoding token ID 56262: sequence item 0: expected str instance, NoneType found\nError decoding token ID 54073: sequence item 0: expected str instance, NoneType found\nError decoding token ID 59278: sequence item 0: expected str instance, NoneType found\nError decoding token ID 53789: sequence item 0: expected str instance, NoneType found\nError decoding token ID 53805: sequence item 0: expected str instance, NoneType found\nError decoding token ID 57208: sequence item 0: expected str instance, NoneType found\nError decoding token ID 53836: sequence item 0: expected str instance, NoneType found\nError decoding token ID 52980: sequence item 0: expected str instance, NoneType found\nError decoding token ID 50844: sequence item 0: expected str instance, NoneType found\nError decoding token ID 54789: sequence item 0: expected str instance, NoneType found\nError decoding token ID 59309: sequence item 0: expected str instance, NoneType found\nError decoding token ID 50926: sequence item 0: expected str instance, NoneType found\nError decoding token ID 55125: sequence item 0: expected str instance, NoneType found\nError decoding token ID 57387: sequence item 0: expected str instance, NoneType found\nError decoding token ID 51553: sequence item 0: expected str instance, NoneType found\nError decoding token ID 51621: sequence item 0: expected str instance, NoneType found\nError decoding token ID 55698: sequence item 0: expected str instance, NoneType found\nError decoding token ID 51315: sequence item 0: expected str instance, NoneType found\nError decoding token ID 59373: sequence item 0: expected str instance, NoneType found\nError decoding token ID 55310: sequence item 0: expected str instance, NoneType found\nError decoding token ID 52004: sequence item 0: expected str instance, NoneType found\nError decoding token ID 54619: sequence item 0: expected str instance, NoneType found\nError decoding token ID 52278: sequence item 0: expected str instance, NoneType found\nError decoding token ID 50411: sequence item 0: expected str instance, NoneType found\nError decoding token ID 59620: sequence item 0: expected str instance, NoneType found\nError decoding token ID 52987: sequence item 0: expected str instance, NoneType found\nError decoding token ID 55933: sequence item 0: expected str instance, NoneType found\nError decoding token ID 57930: sequence item 0: expected str instance, NoneType found\nError decoding token ID 54985: sequence item 0: expected str instance, NoneType found\nError decoding token ID 50700: sequence item 0: expected str instance, NoneType found\nError decoding token ID 52974: sequence item 0: expected str instance, NoneType found\nError decoding token ID 57203: sequence item 0: expected str instance, NoneType found\nError decoding token ID 54214: sequence item 0: expected str instance, NoneType found\nError decoding token ID 59665: sequence item 0: expected str instance, NoneType found\nError decoding token ID 59513: sequence item 0: expected str instance, NoneType found\nError decoding token ID 57308: sequence item 0: expected str instance, NoneType found\nError decoding token ID 52061: sequence item 0: expected str instance, NoneType found\nError decoding token ID 58523: sequence item 0: expected str instance, NoneType found\nError decoding token ID 50374: sequence item 0: expected str instance, NoneType found\nError decoding token ID 57878: sequence item 0: expected str instance, NoneType found\nError decoding token ID 52342: sequence item 0: expected str instance, NoneType found\nError decoding token ID 58794: sequence item 0: expected str instance, NoneType found\nError decoding token ID 55430: sequence item 0: expected str instance, NoneType found\nError decoding token ID 57892: sequence item 0: expected str instance, NoneType found\nError decoding token ID 50564: sequence item 0: expected str instance, NoneType found\nError decoding token ID 53575: sequence item 0: expected str instance, NoneType found\nError decoding token ID 54621: sequence item 0: expected str instance, NoneType found\nError decoding token ID 58197: sequence item 0: expected str instance, NoneType found\nError decoding token ID 54322: sequence item 0: expected str instance, NoneType found\nError decoding token ID 56153: sequence item 0: expected str instance, NoneType found\nError decoding token ID 53339: sequence item 0: expected str instance, NoneType found\nError decoding token ID 53807: sequence item 0: expected str instance, NoneType found\nError decoding token ID 52530: sequence item 0: expected str instance, NoneType found\nError decoding token ID 59898: sequence item 0: expected str instance, NoneType found\nError decoding token ID 59923: sequence item 0: expected str instance, NoneType found\nError decoding token ID 53440: sequence item 0: expected str instance, NoneType found\nError decoding token ID 54932: sequence item 0: expected str instance, NoneType found\nError decoding token ID 53384: sequence item 0: expected str instance, NoneType found\nError decoding token ID 56890: sequence item 0: expected str instance, NoneType found\nError decoding token ID 51780: sequence item 0: expected str instance, NoneType found\nError decoding token ID 55610: sequence item 0: expected str instance, NoneType found\nError decoding token ID 53624: sequence item 0: expected str instance, NoneType found\nError decoding token ID 50592: sequence item 0: expected str instance, NoneType found\nError decoding token ID 54811: sequence item 0: expected str instance, NoneType found\nError decoding token ID 58880: sequence item 0: expected str instance, NoneType found\nError decoding token ID 50634: sequence item 0: expected str instance, NoneType found\nError decoding token ID 56691: sequence item 0: expected str instance, NoneType found\nError decoding token ID 57039: sequence item 0: expected str instance, NoneType found\nError decoding token ID 58239: sequence item 0: expected str instance, NoneType found\nError decoding token ID 57153: sequence item 0: expected str instance, NoneType found\nError decoding token ID 57082: sequence item 0: expected str instance, NoneType found\nError decoding token ID 51363: sequence item 0: expected str instance, NoneType found\nError decoding token ID 52950: sequence item 0: expected str instance, NoneType found\nError decoding token ID 59169: sequence item 0: expected str instance, NoneType found\nError decoding token ID 58028: sequence item 0: expected str instance, NoneType found\nError decoding token ID 58360: sequence item 0: expected str instance, NoneType found\nError decoding token ID 59159: sequence item 0: expected str instance, NoneType found\nError decoding token ID 53392: sequence item 0: expected str instance, NoneType found\nError decoding token ID 57299: sequence item 0: expected str instance, NoneType found\nError decoding token ID 57058: sequence item 0: expected str instance, NoneType found\nError decoding token ID 54253: sequence item 0: expected str instance, NoneType found\nError decoding token ID 59857: sequence item 0: expected str instance, NoneType found\nError decoding token ID 55452: sequence item 0: expected str instance, NoneType found\nError decoding token ID 57522: sequence item 0: expected str instance, NoneType found\nError decoding token ID 54562: sequence item 0: expected str instance, NoneType found\nError decoding token ID 52007: sequence item 0: expected str instance, NoneType found\nError decoding token ID 56021: sequence item 0: expected str instance, NoneType found\nError decoding token ID 56312: sequence item 0: expected str instance, NoneType found\nError decoding token ID 56343: sequence item 0: expected str instance, NoneType found\nError decoding token ID 51747: sequence item 0: expected str instance, NoneType found\nError decoding token ID 52850: sequence item 0: expected str instance, NoneType found\nError decoding token ID 53808: sequence item 0: expected str instance, NoneType found\nError decoding token ID 52411: sequence item 0: expected str instance, NoneType found\nError decoding token ID 57977: sequence item 0: expected str instance, NoneType found\nError decoding token ID 52180: sequence item 0: expected str instance, NoneType found\nError decoding token ID 55658: sequence item 0: expected str instance, NoneType found\nError decoding token ID 51519: sequence item 0: expected str instance, NoneType found\nError decoding token ID 50561: sequence item 0: expected str instance, NoneType found\nError decoding token ID 59203: sequence item 0: expected str instance, NoneType found\nError decoding token ID 51824: sequence item 0: expected str instance, NoneType found\nError decoding token ID 54466: sequence item 0: expected str instance, NoneType found\nError decoding token ID 55302: sequence item 0: expected str instance, NoneType found\nError decoding token ID 58335: sequence item 0: expected str instance, NoneType found\nError decoding token ID 51294: sequence item 0: expected str instance, NoneType found\nError decoding token ID 50438: sequence item 0: expected str instance, NoneType found\nError decoding token ID 56936: sequence item 0: expected str instance, NoneType found\nError decoding token ID 55805: sequence item 0: expected str instance, NoneType found\nError decoding token ID 51944: sequence item 0: expected str instance, NoneType found\nError decoding token ID 56514: sequence item 0: expected str instance, NoneType found\nError decoding token ID 55407: sequence item 0: expected str instance, NoneType found\nError decoding token ID 52983: sequence item 0: expected str instance, NoneType found\nError decoding token ID 58552: sequence item 0: expected str instance, NoneType found\nError decoding token ID 57055: sequence item 0: expected str instance, NoneType found\nError decoding token ID 51668: sequence item 0: expected str instance, NoneType found\nError decoding token ID 51895: sequence item 0: expected str instance, NoneType found\nError decoding token ID 57233: sequence item 0: expected str instance, NoneType found\nError decoding token ID 55131: sequence item 0: expected str instance, NoneType found\nError decoding token ID 53509: sequence item 0: expected str instance, NoneType found\nError decoding token ID 54853: sequence item 0: expected str instance, NoneType found\nError decoding token ID 52372: sequence item 0: expected str instance, NoneType found\nError decoding token ID 59487: sequence item 0: expected str instance, NoneType found\nError decoding token ID 54411: sequence item 0: expected str instance, NoneType found\nError decoding token ID 56299: sequence item 0: expected str instance, NoneType found\nError decoding token ID 54974: sequence item 0: expected str instance, NoneType found\nError decoding token ID 56413: sequence item 0: expected str instance, NoneType found\nError decoding token ID 51398: sequence item 0: expected str instance, NoneType found\nError decoding token ID 54636: sequence item 0: expected str instance, NoneType found\nError decoding token ID 54298: sequence item 0: expected str instance, NoneType found\nError decoding token ID 55333: sequence item 0: expected str instance, NoneType found\nError decoding token ID 50533: sequence item 0: expected str instance, NoneType found\nError decoding token ID 57446: sequence item 0: expected str instance, NoneType found\nError decoding token ID 53068: sequence item 0: expected str instance, NoneType found\nError decoding token ID 51297: sequence item 0: expected str instance, NoneType found\nError decoding token ID 55958: sequence item 0: expected str instance, NoneType found\nError decoding token ID 58577: sequence item 0: expected str instance, NoneType found\nError decoding token ID 58501: sequence item 0: expected str instance, NoneType found\nError decoding token ID 58558: sequence item 0: expected str instance, NoneType found\nError decoding token ID 55414: sequence item 0: expected str instance, NoneType found\nError decoding token ID 57736: sequence item 0: expected str instance, NoneType found\nError decoding token ID 50453: sequence item 0: expected str instance, NoneType found\nError decoding token ID 55212: sequence item 0: expected str instance, NoneType found\nError decoding token ID 52951: sequence item 0: expected str instance, NoneType found\nError decoding token ID 56426: sequence item 0: expected str instance, NoneType found\nError decoding token ID 51672: sequence item 0: expected str instance, NoneType found\nError decoding token ID 56455: sequence item 0: expected str instance, NoneType found\nError decoding token ID 50311: sequence item 0: expected str instance, NoneType found\nError decoding token ID 51142: sequence item 0: expected str instance, NoneType found\nError decoding token ID 59340: sequence item 0: expected str instance, NoneType found\nError decoding token ID 51392: sequence item 0: expected str instance, NoneType found\nError decoding token ID 56994: sequence item 0: expected str instance, NoneType found\nError decoding token ID 52327: sequence item 0: expected str instance, NoneType found\nError decoding token ID 59852: sequence item 0: expected str instance, NoneType found\nError decoding token ID 54616: sequence item 0: expected str instance, NoneType found\nError decoding token ID 57924: sequence item 0: expected str instance, NoneType found\nError decoding token ID 56014: sequence item 0: expected str instance, NoneType found\nError decoding token ID 56957: sequence item 0: expected str instance, NoneType found\nError decoding token ID 55151: sequence item 0: expected str instance, NoneType found\nError decoding token ID 51508: sequence item 0: expected str instance, NoneType found\nError decoding token ID 56941: sequence item 0: expected str instance, NoneType found\nError decoding token ID 57153: sequence item 0: expected str instance, NoneType found\nError decoding token ID 59998: sequence item 0: expected str instance, NoneType found\nError decoding token ID 59650: sequence item 0: expected str instance, NoneType found\nError decoding token ID 51764: sequence item 0: expected str instance, NoneType found\nError decoding token ID 57734: sequence item 0: expected str instance, NoneType found\nError decoding token ID 59963: sequence item 0: expected str instance, NoneType found\nError decoding token ID 51881: sequence item 0: expected str instance, NoneType found\nError decoding token ID 56585: sequence item 0: expected str instance, NoneType found\nError decoding token ID 58583: sequence item 0: expected str instance, NoneType found\nError decoding token ID 52487: sequence item 0: expected str instance, NoneType found\nError decoding token ID 57872: sequence item 0: expected str instance, NoneType found\nError decoding token ID 52881: sequence item 0: expected str instance, NoneType found\nError decoding token ID 59958: sequence item 0: expected str instance, NoneType found\nError decoding token ID 53607: sequence item 0: expected str instance, NoneType found\nError decoding token ID 56314: sequence item 0: expected str instance, NoneType found\nError decoding token ID 58436: sequence item 0: expected str instance, NoneType found\nError decoding token ID 53551: sequence item 0: expected str instance, NoneType found\nError decoding token ID 57065: sequence item 0: expected str instance, NoneType found\nError decoding token ID 52163: sequence item 0: expected str instance, NoneType found\nError decoding token ID 52458: sequence item 0: expected str instance, NoneType found\nError decoding token ID 56993: sequence item 0: expected str instance, NoneType found\nError decoding token ID 57843: sequence item 0: expected str instance, NoneType found\nError decoding token ID 59650: sequence item 0: expected str instance, NoneType found\nError decoding token ID 53052: sequence item 0: expected str instance, NoneType found\nError decoding token ID 54233: sequence item 0: expected str instance, NoneType found\nError decoding token ID 53193: sequence item 0: expected str instance, NoneType found\nError decoding token ID 59246: sequence item 0: expected str instance, NoneType found\nError decoding token ID 51860: sequence item 0: expected str instance, NoneType found\nError decoding token ID 58983: sequence item 0: expected str instance, NoneType found\nError decoding token ID 57053: sequence item 0: expected str instance, NoneType found\nError decoding token ID 54777: sequence item 0: expected str instance, NoneType found\nError decoding token ID 50462: sequence item 0: expected str instance, NoneType found\nError decoding token ID 57091: sequence item 0: expected str instance, NoneType found\nError decoding token ID 55630: sequence item 0: expected str instance, NoneType found\nError decoding token ID 57703: sequence item 0: expected str instance, NoneType found\nError decoding token ID 52393: sequence item 0: expected str instance, NoneType found\nError decoding token ID 58250: sequence item 0: expected str instance, NoneType found\nError decoding token ID 57048: sequence item 0: expected str instance, NoneType found\nError decoding token ID 51359: sequence item 0: expected str instance, NoneType found\nError decoding token ID 57872: sequence item 0: expected str instance, NoneType found\nError decoding token ID 59860: sequence item 0: expected str instance, NoneType found\nError decoding token ID 50732: sequence item 0: expected str instance, NoneType found\nError decoding token ID 57296: sequence item 0: expected str instance, NoneType found\nError decoding token ID 59486: sequence item 0: expected str instance, NoneType found\nError decoding token ID 59782: sequence item 0: expected str instance, NoneType found\nError decoding token ID 59812: sequence item 0: expected str instance, NoneType found\nError decoding token ID 53811: sequence item 0: expected str instance, NoneType found\nError decoding token ID 57994: sequence item 0: expected str instance, NoneType found\nError decoding token ID 51396: sequence item 0: expected str instance, NoneType found\nError decoding token ID 52868: sequence item 0: expected str instance, NoneType found\nError decoding token ID 59827: sequence item 0: expected str instance, NoneType found\nError decoding token ID 58272: sequence item 0: expected str instance, NoneType found\nError decoding token ID 53050: sequence item 0: expected str instance, NoneType found\nError decoding token ID 59662: sequence item 0: expected str instance, NoneType found\nError decoding token ID 53603: sequence item 0: expected str instance, NoneType found\nError decoding token ID 57926: sequence item 0: expected str instance, NoneType found\nError decoding token ID 55754: sequence item 0: expected str instance, NoneType found\nError decoding token ID 52174: sequence item 0: expected str instance, NoneType found\nError decoding token ID 58482: sequence item 0: expected str instance, NoneType found\nError decoding token ID 56702: sequence item 0: expected str instance, NoneType found\nError decoding token ID 53616: sequence item 0: expected str instance, NoneType found\nError decoding token ID 50442: sequence item 0: expected str instance, NoneType found\nError decoding token ID 54194: sequence item 0: expected str instance, NoneType found\nError decoding token ID 58295: sequence item 0: expected str instance, NoneType found\nError decoding token ID 50631: sequence item 0: expected str instance, NoneType found\nError decoding token ID 57639: sequence item 0: expected str instance, NoneType found\nError decoding token ID 57869: sequence item 0: expected str instance, NoneType found\nError decoding token ID 55590: sequence item 0: expected str instance, NoneType found\nError decoding token ID 55553: sequence item 0: expected str instance, NoneType found\nError decoding token ID 57563: sequence item 0: expected str instance, NoneType found\nError decoding token ID 50435: sequence item 0: expected str instance, NoneType found\nError decoding token ID 53294: sequence item 0: expected str instance, NoneType found\nError decoding token ID 51664: sequence item 0: expected str instance, NoneType found\nError decoding token ID 57937: sequence item 0: expected str instance, NoneType found\nError decoding token ID 58966: sequence item 0: expected str instance, NoneType found\nError decoding token ID 50830: sequence item 0: expected str instance, NoneType found\nError decoding token ID 58328: sequence item 0: expected str instance, NoneType found\nError decoding token ID 52202: sequence item 0: expected str instance, NoneType found\nError decoding token ID 51320: sequence item 0: expected str instance, NoneType found\nError decoding token ID 56877: sequence item 0: expected str instance, NoneType found\nError decoding token ID 52563: sequence item 0: expected str instance, NoneType found\nError decoding token ID 52195: sequence item 0: expected str instance, NoneType found\nError decoding token ID 59022: sequence item 0: expected str instance, NoneType found\nError decoding token ID 59900: sequence item 0: expected str instance, NoneType found\nError decoding token ID 52735: sequence item 0: expected str instance, NoneType found\nError decoding token ID 50543: sequence item 0: expected str instance, NoneType found\nError decoding token ID 55237: sequence item 0: expected str instance, NoneType found\nError decoding token ID 57197: sequence item 0: expected str instance, NoneType found\nError decoding token ID 52082: sequence item 0: expected str instance, NoneType found\nError decoding token ID 51400: sequence item 0: expected str instance, NoneType found\nError decoding token ID 51924: sequence item 0: expected str instance, NoneType found\nError decoding token ID 51562: sequence item 0: expected str instance, NoneType found\nError decoding token ID 51158: sequence item 0: expected str instance, NoneType found\nError decoding token ID 53603: sequence item 0: expected str instance, NoneType found\nError decoding token ID 55023: sequence item 0: expected str instance, NoneType found\nError decoding token ID 52996: sequence item 0: expected str instance, NoneType found\nError decoding token ID 53877: sequence item 0: expected str instance, NoneType found\nError decoding token ID 54002: sequence item 0: expected str instance, NoneType found\nError decoding token ID 54442: sequence item 0: expected str instance, NoneType found\nError decoding token ID 53695: sequence item 0: expected str instance, NoneType found\nError decoding token ID 50368: sequence item 0: expected str instance, NoneType found\nError decoding token ID 55127: sequence item 0: expected str instance, NoneType found\nError decoding token ID 58676: sequence item 0: expected str instance, NoneType found\nError decoding token ID 53892: sequence item 0: expected str instance, NoneType found\nError decoding token ID 51835: sequence item 0: expected str instance, NoneType found\nError decoding token ID 52743: sequence item 0: expected str instance, NoneType found\nError decoding token ID 58545: sequence item 0: expected str instance, NoneType found\nError decoding token ID 52999: sequence item 0: expected str instance, NoneType found\nError decoding token ID 58906: sequence item 0: expected str instance, NoneType found\nError decoding token ID 50763: sequence item 0: expected str instance, NoneType found\nError decoding token ID 53224: sequence item 0: expected str instance, NoneType found\nError decoding token ID 55490: sequence item 0: expected str instance, NoneType found\nError decoding token ID 58926: sequence item 0: expected str instance, NoneType found\nError decoding token ID 59973: sequence item 0: expected str instance, NoneType found\nError decoding token ID 52632: sequence item 0: expected str instance, NoneType found\nError decoding token ID 59318: sequence item 0: expected str instance, NoneType found\nError decoding token ID 56967: sequence item 0: expected str instance, NoneType found\nError decoding token ID 55414: sequence item 0: expected str instance, NoneType found\nError decoding token ID 59197: sequence item 0: expected str instance, NoneType found\nError decoding token ID 58090: sequence item 0: expected str instance, NoneType found\nError decoding token ID 58916: sequence item 0: expected str instance, NoneType found\nError decoding token ID 56319: sequence item 0: expected str instance, NoneType found\nError decoding token ID 53783: sequence item 0: expected str instance, NoneType found\nError decoding token ID 52915: sequence item 0: expected str instance, NoneType found\nError decoding token ID 53045: sequence item 0: expected str instance, NoneType found\nError decoding token ID 59046: sequence item 0: expected str instance, NoneType found\nError decoding token ID 55100: sequence item 0: expected str instance, NoneType found\nError decoding token ID 59956: sequence item 0: expected str instance, NoneType found\nError decoding token ID 57005: sequence item 0: expected str instance, NoneType found\nError decoding token ID 59324: sequence item 0: expected str instance, NoneType found\nError decoding token ID 53626: sequence item 0: expected str instance, NoneType found\nError decoding token ID 56919: sequence item 0: expected str instance, NoneType found\nError decoding token ID 57752: sequence item 0: expected str instance, NoneType found\nError decoding token ID 53946: sequence item 0: expected str instance, NoneType found\nError decoding token ID 52205: sequence item 0: expected str instance, NoneType found\nError decoding token ID 54952: sequence item 0: expected str instance, NoneType found\nError decoding token ID 57425: sequence item 0: expected str instance, NoneType found\nError decoding token ID 58913: sequence item 0: expected str instance, NoneType found\nError decoding token ID 57085: sequence item 0: expected str instance, NoneType found\nError decoding token ID 56965: sequence item 0: expected str instance, NoneType found\nError decoding token ID 58284: sequence item 0: expected str instance, NoneType found\nError decoding token ID 58357: sequence item 0: expected str instance, NoneType found\nError decoding token ID 57902: sequence item 0: expected str instance, NoneType found\nError decoding token ID 53472: sequence item 0: expected str instance, NoneType found\nError decoding token ID 59864: sequence item 0: expected str instance, NoneType found\nError decoding token ID 56969: sequence item 0: expected str instance, NoneType found\nError decoding token ID 57184: sequence item 0: expected str instance, NoneType found\nError decoding token ID 57292: sequence item 0: expected str instance, NoneType found\nError decoding token ID 50770: sequence item 0: expected str instance, NoneType found\nError decoding token ID 54372: sequence item 0: expected str instance, NoneType found\nError decoding token ID 56889: sequence item 0: expected str instance, NoneType found\nError decoding token ID 56692: sequence item 0: expected str instance, NoneType found\nError decoding token ID 54316: sequence item 0: expected str instance, NoneType found\nError decoding token ID 57381: sequence item 0: expected str instance, NoneType found\nError decoding token ID 57694: sequence item 0: expected str instance, NoneType found\nError decoding token ID 57270: sequence item 0: expected str instance, NoneType found\nError decoding token ID 56832: sequence item 0: expected str instance, NoneType found\nError decoding token ID 59999: sequence item 0: expected str instance, NoneType found\nError decoding token ID 52627: sequence item 0: expected str instance, NoneType found\nError decoding token ID 52106: sequence item 0: expected str instance, NoneType found\nError decoding token ID 52207: sequence item 0: expected str instance, NoneType found\nError decoding token ID 53434: sequence item 0: expected str instance, NoneType found\nError decoding token ID 53879: sequence item 0: expected str instance, NoneType found\nError decoding token ID 57412: sequence item 0: expected str instance, NoneType found\nError decoding token ID 54744: sequence item 0: expected str instance, NoneType found\nError decoding token ID 54914: sequence item 0: expected str instance, NoneType found\nError decoding token ID 55932: sequence item 0: expected str instance, NoneType found\nError decoding token ID 56798: sequence item 0: expected str instance, NoneType found\nError decoding token ID 59178: sequence item 0: expected str instance, NoneType found\nError decoding token ID 55765: sequence item 0: expected str instance, NoneType found\nError decoding token ID 51141: sequence item 0: expected str instance, NoneType found\nError decoding token ID 59911: sequence item 0: expected str instance, NoneType found\nError decoding token ID 56143: sequence item 0: expected str instance, NoneType found\nError decoding token ID 54971: sequence item 0: expected str instance, NoneType found\nError decoding token ID 52209: sequence item 0: expected str instance, NoneType found\nError decoding token ID 52735: sequence item 0: expected str instance, NoneType found\nError decoding token ID 56518: sequence item 0: expected str instance, NoneType found\nError decoding token ID 52901: sequence item 0: expected str instance, NoneType found\nError decoding token ID 56215: sequence item 0: expected str instance, NoneType found\nError decoding token ID 57199: sequence item 0: expected str instance, NoneType found\nError decoding token ID 57676: sequence item 0: expected str instance, NoneType found\nError decoding token ID 56259: sequence item 0: expected str instance, NoneType found\nError decoding token ID 57279: sequence item 0: expected str instance, NoneType found\nError decoding token ID 52972: sequence item 0: expected str instance, NoneType found\nError decoding token ID 57595: sequence item 0: expected str instance, NoneType found\nError decoding token ID 50998: sequence item 0: expected str instance, NoneType found\nError decoding token ID 57209: sequence item 0: expected str instance, NoneType found\nError decoding token ID 55014: sequence item 0: expected str instance, NoneType found\nError decoding token ID 58650: sequence item 0: expected str instance, NoneType found\nError decoding token ID 58642: sequence item 0: expected str instance, NoneType found\nError decoding token ID 55926: sequence item 0: expected str instance, NoneType found\nError decoding token ID 56749: sequence item 0: expected str instance, NoneType found\nError decoding token ID 50631: sequence item 0: expected str instance, NoneType found\nError decoding token ID 55278: sequence item 0: expected str instance, NoneType found\nError decoding token ID 55120: sequence item 0: expected str instance, NoneType found\nError decoding token ID 57690: sequence item 0: expected str instance, NoneType found\nError decoding token ID 54800: sequence item 0: expected str instance, NoneType found\nError decoding token ID 54696: sequence item 0: expected str instance, NoneType found\nError decoding token ID 51890: sequence item 0: expected str instance, NoneType found\nError decoding token ID 56629: sequence item 0: expected str instance, NoneType found\nError decoding token ID 54510: sequence item 0: expected str instance, NoneType found\nError decoding token ID 58160: sequence item 0: expected str instance, NoneType found\nError decoding token ID 55273: sequence item 0: expected str instance, NoneType found\nError decoding token ID 57548: sequence item 0: expected str instance, NoneType found\nError decoding token ID 53289: sequence item 0: expected str instance, NoneType found\nError decoding token ID 59596: sequence item 0: expected str instance, NoneType found\nError decoding token ID 54995: sequence item 0: expected str instance, NoneType found\nError decoding token ID 53564: sequence item 0: expected str instance, NoneType found\nError decoding token ID 57754: sequence item 0: expected str instance, NoneType found\nError decoding token ID 51577: sequence item 0: expected str instance, NoneType found\nError decoding token ID 56600: sequence item 0: expected str instance, NoneType found\nError decoding token ID 52680: sequence item 0: expected str instance, NoneType found\nError decoding token ID 57753: sequence item 0: expected str instance, NoneType found\nError decoding token ID 59678: sequence item 0: expected str instance, NoneType found\nError decoding token ID 50490: sequence item 0: expected str instance, NoneType found\nError decoding token ID 59070: sequence item 0: expected str instance, NoneType found\nError decoding token ID 59049: sequence item 0: expected str instance, NoneType found\nError decoding token ID 51102: sequence item 0: expected str instance, NoneType found\nError decoding token ID 58685: sequence item 0: expected str instance, NoneType found\nError decoding token ID 53889: sequence item 0: expected str instance, NoneType found\nError decoding token ID 57761: sequence item 0: expected str instance, NoneType found\nError decoding token ID 50474: sequence item 0: expected str instance, NoneType found\nError decoding token ID 52642: sequence item 0: expected str instance, NoneType found\nError decoding token ID 53207: sequence item 0: expected str instance, NoneType found\nError decoding token ID 52236: sequence item 0: expected str instance, NoneType found\nError decoding token ID 54690: sequence item 0: expected str instance, NoneType found\nError decoding token ID 56087: sequence item 0: expected str instance, NoneType found\nError decoding token ID 56895: sequence item 0: expected str instance, NoneType found\nError decoding token ID 57720: sequence item 0: expected str instance, NoneType found\nError decoding token ID 52998: sequence item 0: expected str instance, NoneType found\nError decoding token ID 55696: sequence item 0: expected str instance, NoneType found\nError decoding token ID 58998: sequence item 0: expected str instance, NoneType found\nError decoding token ID 58983: sequence item 0: expected str instance, NoneType found\nError decoding token ID 59841: sequence item 0: expected str instance, NoneType found\nError decoding token ID 51933: sequence item 0: expected str instance, NoneType found\nError decoding token ID 53435: sequence item 0: expected str instance, NoneType found\nError decoding token ID 52844: sequence item 0: expected str instance, NoneType found\nError decoding token ID 51200: sequence item 0: expected str instance, NoneType found\nError decoding token ID 53623: sequence item 0: expected str instance, NoneType found\nError decoding token ID 53046: sequence item 0: expected str instance, NoneType found\nError decoding token ID 53083: sequence item 0: expected str instance, NoneType found\nError decoding token ID 56716: sequence item 0: expected str instance, NoneType found\nError decoding token ID 59269: sequence item 0: expected str instance, NoneType found\nError decoding token ID 59007: sequence item 0: expected str instance, NoneType found\nError decoding token ID 57291: sequence item 0: expected str instance, NoneType found\nError decoding token ID 58265: sequence item 0: expected str instance, NoneType found\nError decoding token ID 56004: sequence item 0: expected str instance, NoneType found\nError decoding token ID 59122: sequence item 0: expected str instance, NoneType found\nError decoding token ID 57726: sequence item 0: expected str instance, NoneType found\nError decoding token ID 57538: sequence item 0: expected str instance, NoneType found\nError decoding token ID 50872: sequence item 0: expected str instance, NoneType found\nError decoding token ID 52258: sequence item 0: expected str instance, NoneType found\nError decoding token ID 51049: sequence item 0: expected str instance, NoneType found\nError decoding token ID 54781: sequence item 0: expected str instance, NoneType found\nError decoding token ID 51454: sequence item 0: expected str instance, NoneType found\nError decoding token ID 52470: sequence item 0: expected str instance, NoneType found\nError decoding token ID 54814: sequence item 0: expected str instance, NoneType found\nError decoding token ID 59021: sequence item 0: expected str instance, NoneType found\nError decoding token ID 52668: sequence item 0: expected str instance, NoneType found\nError decoding token ID 51649: sequence item 0: expected str instance, NoneType found\nError decoding token ID 55407: sequence item 0: expected str instance, NoneType found\nError decoding token ID 52838: sequence item 0: expected str instance, NoneType found\nError decoding token ID 59158: sequence item 0: expected str instance, NoneType found\nError decoding token ID 53760: sequence item 0: expected str instance, NoneType found\nError decoding token ID 57737: sequence item 0: expected str instance, NoneType found\nError decoding token ID 54592: sequence item 0: expected str instance, NoneType found\nError decoding token ID 52931: sequence item 0: expected str instance, NoneType found\nError decoding token ID 58531: sequence item 0: expected str instance, NoneType found\nError decoding token ID 53177: sequence item 0: expected str instance, NoneType found\nError decoding token ID 52176: sequence item 0: expected str instance, NoneType found\nError decoding token ID 55201: sequence item 0: expected str instance, NoneType found\nError decoding token ID 51829: sequence item 0: expected str instance, NoneType found\nError decoding token ID 58811: sequence item 0: expected str instance, NoneType found\nError decoding token ID 54199: sequence item 0: expected str instance, NoneType found\nError decoding token ID 53177: sequence item 0: expected str instance, NoneType found\nError decoding token ID 57367: sequence item 0: expected str instance, NoneType found\nError decoding token ID 56809: sequence item 0: expected str instance, NoneType found\nError decoding token ID 56155: sequence item 0: expected str instance, NoneType found\nError decoding token ID 50269: sequence item 0: expected str instance, NoneType found\nError decoding token ID 56382: sequence item 0: expected str instance, NoneType found\nError decoding token ID 57514: sequence item 0: expected str instance, NoneType found\nError decoding token ID 57631: sequence item 0: expected str instance, NoneType found\nError decoding token ID 58033: sequence item 0: expected str instance, NoneType found\nError decoding token ID 52238: sequence item 0: expected str instance, NoneType found\nError decoding token ID 54083: sequence item 0: expected str instance, NoneType found\nError decoding token ID 52986: sequence item 0: expected str instance, NoneType found\nError decoding token ID 51331: sequence item 0: expected str instance, NoneType found\nError decoding token ID 52271: sequence item 0: expected str instance, NoneType found\nError decoding token ID 51292: sequence item 0: expected str instance, NoneType found\nError decoding token ID 54664: sequence item 0: expected str instance, NoneType found\nError decoding token ID 53757: sequence item 0: expected str instance, NoneType found\nError decoding token ID 50468: sequence item 0: expected str instance, NoneType found\nError decoding token ID 59424: sequence item 0: expected str instance, NoneType found\nError decoding token ID 57467: sequence item 0: expected str instance, NoneType found\nError decoding token ID 59374: sequence item 0: expected str instance, NoneType found\nError decoding token ID 50384: sequence item 0: expected str instance, NoneType found\nError decoding token ID 51212: sequence item 0: expected str instance, NoneType found\nError decoding token ID 51842: sequence item 0: expected str instance, NoneType found\nError decoding token ID 57031: sequence item 0: expected str instance, NoneType found\nError decoding token ID 53771: sequence item 0: expected str instance, NoneType found\nError decoding token ID 57968: sequence item 0: expected str instance, NoneType found\nError decoding token ID 56259: sequence item 0: expected str instance, NoneType found\nError decoding token ID 58075: sequence item 0: expected str instance, NoneType found\nError decoding token ID 55795: sequence item 0: expected str instance, NoneType found\nError decoding token ID 52441: sequence item 0: expected str instance, NoneType found\nError decoding token ID 56398: sequence item 0: expected str instance, NoneType found\nError decoding token ID 54405: sequence item 0: expected str instance, NoneType found\nError decoding token ID 58509: sequence item 0: expected str instance, NoneType found\nError decoding token ID 51796: sequence item 0: expected str instance, NoneType found\nError decoding token ID 59964: sequence item 0: expected str instance, NoneType found\nError decoding token ID 59665: sequence item 0: expected str instance, NoneType found\nError decoding token ID 52729: sequence item 0: expected str instance, NoneType found\nError decoding token ID 50851: sequence item 0: expected str instance, NoneType found\nError decoding token ID 59071: sequence item 0: expected str instance, NoneType found\nError decoding token ID 59439: sequence item 0: expected str instance, NoneType found\nError decoding token ID 53849: sequence item 0: expected str instance, NoneType found\nError decoding token ID 55229: sequence item 0: expected str instance, NoneType found\nError decoding token ID 59187: sequence item 0: expected str instance, NoneType found\nError decoding token ID 54425: sequence item 0: expected str instance, NoneType found\nError decoding token ID 57736: sequence item 0: expected str instance, NoneType found\nError decoding token ID 59024: sequence item 0: expected str instance, NoneType found\nError decoding token ID 56443: sequence item 0: expected str instance, NoneType found\nError decoding token ID 55881: sequence item 0: expected str instance, NoneType found\nError decoding token ID 58346: sequence item 0: expected str instance, NoneType found\nError decoding token ID 50636: sequence item 0: expected str instance, NoneType found\nError decoding token ID 50938: sequence item 0: expected str instance, NoneType found\nError decoding token ID 59418: sequence item 0: expected str instance, NoneType found\nError decoding token ID 56382: sequence item 0: expected str instance, NoneType found\nError decoding token ID 53870: sequence item 0: expected str instance, NoneType found\nError decoding token ID 55519: sequence item 0: expected str instance, NoneType found\nError decoding token ID 52451: sequence item 0: expected str instance, NoneType found\nError decoding token ID 57618: sequence item 0: expected str instance, NoneType found\nError decoding token ID 58360: sequence item 0: expected str instance, NoneType found\nError decoding token ID 56841: sequence item 0: expected str instance, NoneType found\nError decoding token ID 57669: sequence item 0: expected str instance, NoneType found\nError decoding token ID 52958: sequence item 0: expected str instance, NoneType found\nError decoding token ID 50665: sequence item 0: expected str instance, NoneType found\nError decoding token ID 59004: sequence item 0: expected str instance, NoneType found\nError decoding token ID 51414: sequence item 0: expected str instance, NoneType found\nError decoding token ID 53280: sequence item 0: expected str instance, NoneType found\nError decoding token ID 55926: sequence item 0: expected str instance, NoneType found\nError decoding token ID 59841: sequence item 0: expected str instance, NoneType found\nError decoding token ID 51221: sequence item 0: expected str instance, NoneType found\nError decoding token ID 58885: sequence item 0: expected str instance, NoneType found\nError decoding token ID 57330: sequence item 0: expected str instance, NoneType found\nError decoding token ID 53972: sequence item 0: expected str instance, NoneType found\nError decoding token ID 52762: sequence item 0: expected str instance, NoneType found\nError decoding token ID 57942: sequence item 0: expected str instance, NoneType found\nError decoding token ID 51484: sequence item 0: expected str instance, NoneType found\nError decoding token ID 53423: sequence item 0: expected str instance, NoneType found\nError decoding token ID 53198: sequence item 0: expected str instance, NoneType found\nError decoding token ID 57720: sequence item 0: expected str instance, NoneType found\nError decoding token ID 58572: sequence item 0: expected str instance, NoneType found\nError decoding token ID 51216: sequence item 0: expected str instance, NoneType found\nError decoding token ID 52407: sequence item 0: expected str instance, NoneType found\nError decoding token ID 51047: sequence item 0: expected str instance, NoneType found\nError decoding token ID 56292: sequence item 0: expected str instance, NoneType found\nError decoding token ID 56174: sequence item 0: expected str instance, NoneType found\nError decoding token ID 56351: sequence item 0: expected str instance, NoneType found\nError decoding token ID 58479: sequence item 0: expected str instance, NoneType found\nError decoding token ID 53804: sequence item 0: expected str instance, NoneType found\nError decoding token ID 54445: sequence item 0: expected str instance, NoneType found\nError decoding token ID 58617: sequence item 0: expected str instance, NoneType found\nError decoding token ID 56652: sequence item 0: expected str instance, NoneType found\nError decoding token ID 50437: sequence item 0: expected str instance, NoneType found\nError decoding token ID 56460: sequence item 0: expected str instance, NoneType found\nError decoding token ID 58797: sequence item 0: expected str instance, NoneType found\nError decoding token ID 52838: sequence item 0: expected str instance, NoneType found\nError decoding token ID 59584: sequence item 0: expected str instance, NoneType found\nError decoding token ID 54459: sequence item 0: expected str instance, NoneType found\nError decoding token ID 52593: sequence item 0: expected str instance, NoneType found\nError decoding token ID 57133: sequence item 0: expected str instance, NoneType found\nError decoding token ID 59770: sequence item 0: expected str instance, NoneType found\nError decoding token ID 50580: sequence item 0: expected str instance, NoneType found\nError decoding token ID 53805: sequence item 0: expected str instance, NoneType found\nError decoding token ID 50290: sequence item 0: expected str instance, NoneType found\nError decoding token ID 53878: sequence item 0: expected str instance, NoneType found\nError decoding token ID 57591: sequence item 0: expected str instance, NoneType found\nError decoding token ID 59068: sequence item 0: expected str instance, NoneType found\nError decoding token ID 51450: sequence item 0: expected str instance, NoneType found\nError decoding token ID 55552: sequence item 0: expected str instance, NoneType found\nError decoding token ID 51339: sequence item 0: expected str instance, NoneType found\nError decoding token ID 52558: sequence item 0: expected str instance, NoneType found\nError decoding token ID 57325: sequence item 0: expected str instance, NoneType found\nError decoding token ID 52204: sequence item 0: expected str instance, NoneType found\nError decoding token ID 58295: sequence item 0: expected str instance, NoneType found\nError decoding token ID 51417: sequence item 0: expected str instance, NoneType found\nError decoding token ID 55917: sequence item 0: expected str instance, NoneType found\nError decoding token ID 51141: sequence item 0: expected str instance, NoneType found\nError decoding token ID 50728: sequence item 0: expected str instance, NoneType found\nError decoding token ID 54831: sequence item 0: expected str instance, NoneType found\nError decoding token ID 51879: sequence item 0: expected str instance, NoneType found\nError decoding token ID 52432: sequence item 0: expected str instance, NoneType found\nError decoding token ID 51974: sequence item 0: expected str instance, NoneType found\nError decoding token ID 58417: sequence item 0: expected str instance, NoneType found\nError decoding token ID 55618: sequence item 0: expected str instance, NoneType found\nError decoding token ID 53728: sequence item 0: expected str instance, NoneType found\nError decoding token ID 50677: sequence item 0: expected str instance, NoneType found\nError decoding token ID 55879: sequence item 0: expected str instance, NoneType found\nError decoding token ID 56051: sequence item 0: expected str instance, NoneType found\nError decoding token ID 56851: sequence item 0: expected str instance, NoneType found\nError decoding token ID 54468: sequence item 0: expected str instance, NoneType found\nError decoding token ID 52410: sequence item 0: expected str instance, NoneType found\nError decoding token ID 50969: sequence item 0: expected str instance, NoneType found\nError decoding token ID 58561: sequence item 0: expected str instance, NoneType found\nError decoding token ID 59555: sequence item 0: expected str instance, NoneType found\nError decoding token ID 58177: sequence item 0: expected str instance, NoneType found\nError decoding token ID 53530: sequence item 0: expected str instance, NoneType found\nError decoding token ID 53753: sequence item 0: expected str instance, NoneType found\nError decoding token ID 52164: sequence item 0: expected str instance, NoneType found\nError decoding token ID 57448: sequence item 0: expected str instance, NoneType found\nError decoding token ID 52289: sequence item 0: expected str instance, NoneType found\nError decoding token ID 54915: sequence item 0: expected str instance, NoneType found\nError decoding token ID 51230: sequence item 0: expected str instance, NoneType found\nError decoding token ID 50474: sequence item 0: expected str instance, NoneType found\nError decoding token ID 59446: sequence item 0: expected str instance, NoneType found\nError decoding token ID 57741: sequence item 0: expected str instance, NoneType found\nError decoding token ID 57195: sequence item 0: expected str instance, NoneType found\nError decoding token ID 56597: sequence item 0: expected str instance, NoneType found\nError decoding token ID 53012: sequence item 0: expected str instance, NoneType found\nError decoding token ID 55898: sequence item 0: expected str instance, NoneType found\nError decoding token ID 52463: sequence item 0: expected str instance, NoneType found\nError decoding token ID 58862: sequence item 0: expected str instance, NoneType found\nError decoding token ID 54297: sequence item 0: expected str instance, NoneType found\nError decoding token ID 56860: sequence item 0: expected str instance, NoneType found\nError decoding token ID 54127: sequence item 0: expected str instance, NoneType found\nError decoding token ID 58494: sequence item 0: expected str instance, NoneType found\nError decoding token ID 53645: sequence item 0: expected str instance, NoneType found\nError decoding token ID 59139: sequence item 0: expected str instance, NoneType found\nError decoding token ID 51750: sequence item 0: expected str instance, NoneType found\nError decoding token ID 50518: sequence item 0: expected str instance, NoneType found\nError decoding token ID 57299: sequence item 0: expected str instance, NoneType found\nError decoding token ID 54578: sequence item 0: expected str instance, NoneType found\nError decoding token ID 54204: sequence item 0: expected str instance, NoneType found\nError decoding token ID 55240: sequence item 0: expected str instance, NoneType found\nError decoding token ID 53359: sequence item 0: expected str instance, NoneType found\nError decoding token ID 59640: sequence item 0: expected str instance, NoneType found\nError decoding token ID 54220: sequence item 0: expected str instance, NoneType found\nError decoding token ID 52056: sequence item 0: expected str instance, NoneType found\nError decoding token ID 52987: sequence item 0: expected str instance, NoneType found\nError decoding token ID 55538: sequence item 0: expected str instance, NoneType found\nError decoding token ID 58408: sequence item 0: expected str instance, NoneType found\nError decoding token ID 51203: sequence item 0: expected str instance, NoneType found\nError decoding token ID 55922: sequence item 0: expected str instance, NoneType found\nError decoding token ID 59477: sequence item 0: expected str instance, NoneType found\nError decoding token ID 59583: sequence item 0: expected str instance, NoneType found\nError decoding token ID 52593: sequence item 0: expected str instance, NoneType found\nError decoding token ID 56621: sequence item 0: expected str instance, NoneType found\nError decoding token ID 57573: sequence item 0: expected str instance, NoneType found\nError decoding token ID 56574: sequence item 0: expected str instance, NoneType found\nError decoding token ID 51292: sequence item 0: expected str instance, NoneType found\nError decoding token ID 55407: sequence item 0: expected str instance, NoneType found\nError decoding token ID 59644: sequence item 0: expected str instance, NoneType found\nError decoding token ID 50340: sequence item 0: expected str instance, NoneType found\nError decoding token ID 59806: sequence item 0: expected str instance, NoneType found\nError decoding token ID 52269: sequence item 0: expected str instance, NoneType found\nError decoding token ID 59221: sequence item 0: expected str instance, NoneType found\nError decoding token ID 51158: sequence item 0: expected str instance, NoneType found\nError decoding token ID 52436: sequence item 0: expected str instance, NoneType found\nError decoding token ID 50352: sequence item 0: expected str instance, NoneType found\nError decoding token ID 57028: sequence item 0: expected str instance, NoneType found\nError decoding token ID 59883: sequence item 0: expected str instance, NoneType found\nError decoding token ID 52311: sequence item 0: expected str instance, NoneType found\nError decoding token ID 57922: sequence item 0: expected str instance, NoneType found\nError decoding token ID 53043: sequence item 0: expected str instance, NoneType found\nError decoding token ID 56777: sequence item 0: expected str instance, NoneType found\nError decoding token ID 54132: sequence item 0: expected str instance, NoneType found\nError decoding token ID 57071: sequence item 0: expected str instance, NoneType found\nError decoding token ID 54291: sequence item 0: expected str instance, NoneType found\nError decoding token ID 55297: sequence item 0: expected str instance, NoneType found\nError decoding token ID 58702: sequence item 0: expected str instance, NoneType found\nError decoding token ID 56475: sequence item 0: expected str instance, NoneType found\nError decoding token ID 56101: sequence item 0: expected str instance, NoneType found\nError decoding token ID 57535: sequence item 0: expected str instance, NoneType found\nError decoding token ID 58385: sequence item 0: expected str instance, NoneType found\nError decoding token ID 56029: sequence item 0: expected str instance, NoneType found\nError decoding token ID 57349: sequence item 0: expected str instance, NoneType found\nError decoding token ID 59065: sequence item 0: expected str instance, NoneType found\nError decoding token ID 57268: sequence item 0: expected str instance, NoneType found\nError decoding token ID 56999: sequence item 0: expected str instance, NoneType found\nError decoding token ID 53739: sequence item 0: expected str instance, NoneType found\nError decoding token ID 56878: sequence item 0: expected str instance, NoneType found\nError decoding token ID 57284: sequence item 0: expected str instance, NoneType found\nError decoding token ID 52667: sequence item 0: expected str instance, NoneType found\nError decoding token ID 53076: sequence item 0: expected str instance, NoneType found\nError decoding token ID 51621: sequence item 0: expected str instance, NoneType found\nError decoding token ID 52506: sequence item 0: expected str instance, NoneType found\nError decoding token ID 56269: sequence item 0: expected str instance, NoneType found\nError decoding token ID 52041: sequence item 0: expected str instance, NoneType found\nError decoding token ID 58260: sequence item 0: expected str instance, NoneType found\nError decoding token ID 52674: sequence item 0: expected str instance, NoneType found\nError decoding token ID 50558: sequence item 0: expected str instance, NoneType found\nError decoding token ID 52512: sequence item 0: expected str instance, NoneType found\nError decoding token ID 59652: sequence item 0: expected str instance, NoneType found\nError decoding token ID 57245: sequence item 0: expected str instance, NoneType found\nError decoding token ID 53380: sequence item 0: expected str instance, NoneType found\nError decoding token ID 52447: sequence item 0: expected str instance, NoneType found\nError decoding token ID 58745: sequence item 0: expected str instance, NoneType found\nError decoding token ID 57314: sequence item 0: expected str instance, NoneType found\nError decoding token ID 51357: sequence item 0: expected str instance, NoneType found\nError decoding token ID 51326: sequence item 0: expected str instance, NoneType found\nError decoding token ID 50669: sequence item 0: expected str instance, NoneType found\nError decoding token ID 51137: sequence item 0: expected str instance, NoneType found\nError decoding token ID 53141: sequence item 0: expected str instance, NoneType found\nError decoding token ID 57799: sequence item 0: expected str instance, NoneType found\nError decoding token ID 54655: sequence item 0: expected str instance, NoneType found\nError decoding token ID 53394: sequence item 0: expected str instance, NoneType found\nError decoding token ID 50944: sequence item 0: expected str instance, NoneType found\nError decoding token ID 58318: sequence item 0: expected str instance, NoneType found\nError decoding token ID 56321: sequence item 0: expected str instance, NoneType found\nError decoding token ID 58549: sequence item 0: expected str instance, NoneType found\nError decoding token ID 53805: sequence item 0: expected str instance, NoneType found\nError decoding token ID 55628: sequence item 0: expected str instance, NoneType found\nError decoding token ID 52576: sequence item 0: expected str instance, NoneType found\nError decoding token ID 56033: sequence item 0: expected str instance, NoneType found\nError decoding token ID 57103: sequence item 0: expected str instance, NoneType found\nError decoding token ID 58270: sequence item 0: expected str instance, NoneType found\nError decoding token ID 55408: sequence item 0: expected str instance, NoneType found\nError decoding token ID 58238: sequence item 0: expected str instance, NoneType found\nError decoding token ID 50306: sequence item 0: expected str instance, NoneType found\nError decoding token ID 57708: sequence item 0: expected str instance, NoneType found\nError decoding token ID 59505: sequence item 0: expected str instance, NoneType found\nError decoding token ID 56824: sequence item 0: expected str instance, NoneType found\nError decoding token ID 58263: sequence item 0: expected str instance, NoneType found\nError decoding token ID 53829: sequence item 0: expected str instance, NoneType found\nError decoding token ID 52159: sequence item 0: expected str instance, NoneType found\nError decoding token ID 52572: sequence item 0: expected str instance, NoneType found\nError decoding token ID 55077: sequence item 0: expected str instance, NoneType found\nError decoding token ID 54333: sequence item 0: expected str instance, NoneType found\nError decoding token ID 59405: sequence item 0: expected str instance, NoneType found\nError decoding token ID 50434: sequence item 0: expected str instance, NoneType found\nError decoding token ID 50679: sequence item 0: expected str instance, NoneType found\nError decoding token ID 56152: sequence item 0: expected str instance, NoneType found\nError decoding token ID 50829: sequence item 0: expected str instance, NoneType found\nError decoding token ID 53480: sequence item 0: expected str instance, NoneType found\nError decoding token ID 54918: sequence item 0: expected str instance, NoneType found\nError decoding token ID 58155: sequence item 0: expected str instance, NoneType found\nError decoding token ID 59728: sequence item 0: expected str instance, NoneType found\nError decoding token ID 52582: sequence item 0: expected str instance, NoneType found\nError decoding token ID 53853: sequence item 0: expected str instance, NoneType found\nError decoding token ID 55566: sequence item 0: expected str instance, NoneType found\nError decoding token ID 55820: sequence item 0: expected str instance, NoneType found\nError decoding token ID 55267: sequence item 0: expected str instance, NoneType found\nError decoding token ID 56786: sequence item 0: expected str instance, NoneType found\nError decoding token ID 51988: sequence item 0: expected str instance, NoneType found\nError decoding token ID 56693: sequence item 0: expected str instance, NoneType found\nError decoding token ID 55066: sequence item 0: expected str instance, NoneType found\nError decoding token ID 52018: sequence item 0: expected str instance, NoneType found\nError decoding token ID 55327: sequence item 0: expected str instance, NoneType found\nError decoding token ID 58415: sequence item 0: expected str instance, NoneType found\nError decoding token ID 53215: sequence item 0: expected str instance, NoneType found\nError decoding token ID 50424: sequence item 0: expected str instance, NoneType found\nError decoding token ID 52135: sequence item 0: expected str instance, NoneType found\nError decoding token ID 59349: sequence item 0: expected str instance, NoneType found\nError decoding token ID 51104: sequence item 0: expected str instance, NoneType found\nError decoding token ID 52215: sequence item 0: expected str instance, NoneType found\nError decoding token ID 56824: sequence item 0: expected str instance, NoneType found\nError decoding token ID 55440: sequence item 0: expected str instance, NoneType found\nError decoding token ID 50521: sequence item 0: expected str instance, NoneType found\nError decoding token ID 57442: sequence item 0: expected str instance, NoneType found\nError decoding token ID 50260: sequence item 0: expected str instance, NoneType found\nError decoding token ID 54950: sequence item 0: expected str instance, NoneType found\nError decoding token ID 58197: sequence item 0: expected str instance, NoneType found\nError decoding token ID 59867: sequence item 0: expected str instance, NoneType found\nError decoding token ID 57939: sequence item 0: expected str instance, NoneType found\nError decoding token ID 52379: sequence item 0: expected str instance, NoneType found\nError decoding token ID 56227: sequence item 0: expected str instance, NoneType found\nError decoding token ID 58205: sequence item 0: expected str instance, NoneType found\nError decoding token ID 58085: sequence item 0: expected str instance, NoneType found\nError decoding token ID 58896: sequence item 0: expected str instance, NoneType found\nError decoding token ID 59538: sequence item 0: expected str instance, NoneType found\nError decoding token ID 57577: sequence item 0: expected str instance, NoneType found\nError decoding token ID 53868: sequence item 0: expected str instance, NoneType found\nError decoding token ID 55492: sequence item 0: expected str instance, NoneType found\nError decoding token ID 58776: sequence item 0: expected str instance, NoneType found\nError decoding token ID 58282: sequence item 0: expected str instance, NoneType found\nError decoding token ID 58776: sequence item 0: expected str instance, NoneType found\nError decoding token ID 53449: sequence item 0: expected str instance, NoneType found\nError decoding token ID 51737: sequence item 0: expected str instance, NoneType found\nError decoding token ID 50888: sequence item 0: expected str instance, NoneType found\nError decoding token ID 53805: sequence item 0: expected str instance, NoneType found\nError decoding token ID 57075: sequence item 0: expected str instance, NoneType found\nError decoding token ID 55781: sequence item 0: expected str instance, NoneType found\nError decoding token ID 56916: sequence item 0: expected str instance, NoneType found\nError decoding token ID 50595: sequence item 0: expected str instance, NoneType found\nError decoding token ID 56166: sequence item 0: expected str instance, NoneType found\nError decoding token ID 59699: sequence item 0: expected str instance, NoneType found\nError decoding token ID 52678: sequence item 0: expected str instance, NoneType found\nError decoding token ID 54271: sequence item 0: expected str instance, NoneType found\nError decoding token ID 51390: sequence item 0: expected str instance, NoneType found\nError decoding token ID 56898: sequence item 0: expected str instance, NoneType found\nError decoding token ID 54371: sequence item 0: expected str instance, NoneType found\nError decoding token ID 57524: sequence item 0: expected str instance, NoneType found\nError decoding token ID 55891: sequence item 0: expected str instance, NoneType found\nError decoding token ID 58028: sequence item 0: expected str instance, NoneType found\nError decoding token ID 53387: sequence item 0: expected str instance, NoneType found\nError decoding token ID 57090: sequence item 0: expected str instance, NoneType found\nError decoding token ID 51244: sequence item 0: expected str instance, NoneType found\nError decoding token ID 53037: sequence item 0: expected str instance, NoneType found\nError decoding token ID 59571: sequence item 0: expected str instance, NoneType found\nError decoding token ID 58368: sequence item 0: expected str instance, NoneType found\nError decoding token ID 53592: sequence item 0: expected str instance, NoneType found\nError decoding token ID 50392: sequence item 0: expected str instance, NoneType found\nError decoding token ID 57142: sequence item 0: expected str instance, NoneType found\nError decoding token ID 56684: sequence item 0: expected str instance, NoneType found\nError decoding token ID 55682: sequence item 0: expected str instance, NoneType found\nError decoding token ID 53421: sequence item 0: expected str instance, NoneType found\nError decoding token ID 50390: sequence item 0: expected str instance, NoneType found\nError decoding token ID 50988: sequence item 0: expected str instance, NoneType found\nError decoding token ID 58698: sequence item 0: expected str instance, NoneType found\nError decoding token ID 51292: sequence item 0: expected str instance, NoneType found\nError decoding token ID 57475: sequence item 0: expected str instance, NoneType found\nError decoding token ID 50517: sequence item 0: expected str instance, NoneType found\nError decoding token ID 57333: sequence item 0: expected str instance, NoneType found\nError decoding token ID 50450: sequence item 0: expected str instance, NoneType found\nError decoding token ID 58116: sequence item 0: expected str instance, NoneType found\nError decoding token ID 59200: sequence item 0: expected str instance, NoneType found\nError decoding token ID 58687: sequence item 0: expected str instance, NoneType found\nError decoding token ID 59402: sequence item 0: expected str instance, NoneType found\nError decoding token ID 59990: sequence item 0: expected str instance, NoneType found\nError decoding token ID 58692: sequence item 0: expected str instance, NoneType found\nError decoding token ID 54370: sequence item 0: expected str instance, NoneType found\nError decoding token ID 57911: sequence item 0: expected str instance, NoneType found\nError decoding token ID 51809: sequence item 0: expected str instance, NoneType found\nError decoding token ID 56766: sequence item 0: expected str instance, NoneType found\nError decoding token ID 56607: sequence item 0: expected str instance, NoneType found\nError decoding token ID 51821: sequence item 0: expected str instance, NoneType found\nError decoding token ID 56428: sequence item 0: expected str instance, NoneType found\nError decoding token ID 52153: sequence item 0: expected str instance, NoneType found\nError decoding token ID 59385: sequence item 0: expected str instance, NoneType found\nError decoding token ID 56660: sequence item 0: expected str instance, NoneType found\nError decoding token ID 59572: sequence item 0: expected str instance, NoneType found\nError decoding token ID 54763: sequence item 0: expected str instance, NoneType found\nError decoding token ID 51933: sequence item 0: expected str instance, NoneType found\nError decoding token ID 51956: sequence item 0: expected str instance, NoneType found\nError decoding token ID 50737: sequence item 0: expected str instance, NoneType found\nError decoding token ID 57132: sequence item 0: expected str instance, NoneType found\nError decoding token ID 57881: sequence item 0: expected str instance, NoneType found\nError decoding token ID 58127: sequence item 0: expected str instance, NoneType found\nError decoding token ID 51050: sequence item 0: expected str instance, NoneType found\nError decoding token ID 53013: sequence item 0: expected str instance, NoneType found\nError decoding token ID 53517: sequence item 0: expected str instance, NoneType found\nError decoding token ID 55485: sequence item 0: expected str instance, NoneType found\nError decoding token ID 57906: sequence item 0: expected str instance, NoneType found\nError decoding token ID 50853: sequence item 0: expected str instance, NoneType found\nError decoding token ID 54820: sequence item 0: expected str instance, NoneType found\nError decoding token ID 50498: sequence item 0: expected str instance, NoneType found\nError decoding token ID 53322: sequence item 0: expected str instance, NoneType found\nError decoding token ID 57347: sequence item 0: expected str instance, NoneType found\nError decoding token ID 53171: sequence item 0: expected str instance, NoneType found\nError decoding token ID 56495: sequence item 0: expected str instance, NoneType found\nError decoding token ID 52185: sequence item 0: expected str instance, NoneType found\nError decoding token ID 57275: sequence item 0: expected str instance, NoneType found\nError decoding token ID 56051: sequence item 0: expected str instance, NoneType found\nError decoding token ID 54512: sequence item 0: expected str instance, NoneType found\nError decoding token ID 58879: sequence item 0: expected str instance, NoneType found\nError decoding token ID 59552: sequence item 0: expected str instance, NoneType found\nError decoding token ID 50760: sequence item 0: expected str instance, NoneType found\nError decoding token ID 59072: sequence item 0: expected str instance, NoneType found\nError decoding token ID 57864: sequence item 0: expected str instance, NoneType found\nError decoding token ID 52165: sequence item 0: expected str instance, NoneType found\nError decoding token ID 53433: sequence item 0: expected str instance, NoneType found\nError decoding token ID 50861: sequence item 0: expected str instance, NoneType found\nError decoding token ID 51654: sequence item 0: expected str instance, NoneType found\nError decoding token ID 50654: sequence item 0: expected str instance, NoneType found\nError decoding token ID 59908: sequence item 0: expected str instance, NoneType found\nError decoding token ID 59147: sequence item 0: expected str instance, NoneType found\nError decoding token ID 57141: sequence item 0: expected str instance, NoneType found\nError decoding token ID 56319: sequence item 0: expected str instance, NoneType found\nError decoding token ID 53492: sequence item 0: expected str instance, NoneType found\nError decoding token ID 52868: sequence item 0: expected str instance, NoneType found\nError decoding token ID 55767: sequence item 0: expected str instance, NoneType found\nError decoding token ID 59074: sequence item 0: expected str instance, NoneType found\nError decoding token ID 56799: sequence item 0: expected str instance, NoneType found\nError decoding token ID 52728: sequence item 0: expected str instance, NoneType found\nError decoding token ID 57690: sequence item 0: expected str instance, NoneType found\nError decoding token ID 50398: sequence item 0: expected str instance, NoneType found\nError decoding token ID 57178: sequence item 0: expected str instance, NoneType found\nError decoding token ID 58375: sequence item 0: expected str instance, NoneType found\nError decoding token ID 54167: sequence item 0: expected str instance, NoneType found\nError decoding token ID 58190: sequence item 0: expected str instance, NoneType found\nError decoding token ID 50659: sequence item 0: expected str instance, NoneType found\nError decoding token ID 59050: sequence item 0: expected str instance, NoneType found\nError decoding token ID 54418: sequence item 0: expected str instance, NoneType found\nError decoding token ID 59933: sequence item 0: expected str instance, NoneType found\nError decoding token ID 52289: sequence item 0: expected str instance, NoneType found\nError decoding token ID 51346: sequence item 0: expected str instance, NoneType found\nError decoding token ID 54475: sequence item 0: expected str instance, NoneType found\nError decoding token ID 52671: sequence item 0: expected str instance, NoneType found\nError decoding token ID 57316: sequence item 0: expected str instance, NoneType found\nError decoding token ID 52464: sequence item 0: expected str instance, NoneType found\nError decoding token ID 57981: sequence item 0: expected str instance, NoneType found\nError decoding token ID 54646: sequence item 0: expected str instance, NoneType found\nError decoding token ID 52301: sequence item 0: expected str instance, NoneType found\nError decoding token ID 56808: sequence item 0: expected str instance, NoneType found\nError decoding token ID 53696: sequence item 0: expected str instance, NoneType found\nError decoding token ID 58282: sequence item 0: expected str instance, NoneType found\nError decoding token ID 50507: sequence item 0: expected str instance, NoneType found\nError decoding token ID 53519: sequence item 0: expected str instance, NoneType found\nError decoding token ID 58182: sequence item 0: expected str instance, NoneType found\nError decoding token ID 55645: sequence item 0: expected str instance, NoneType found\nError decoding token ID 50821: sequence item 0: expected str instance, NoneType found\nError decoding token ID 58508: sequence item 0: expected str instance, NoneType found\nError decoding token ID 59699: sequence item 0: expected str instance, NoneType found\nError decoding token ID 55060: sequence item 0: expected str instance, NoneType found\nError decoding token ID 52687: sequence item 0: expected str instance, NoneType found\nError decoding token ID 51810: sequence item 0: expected str instance, NoneType found\nError decoding token ID 54243: sequence item 0: expected str instance, NoneType found\nError decoding token ID 54303: sequence item 0: expected str instance, NoneType found\nError decoding token ID 56747: sequence item 0: expected str instance, NoneType found\nError decoding token ID 56431: sequence item 0: expected str instance, NoneType found\nError decoding token ID 59428: sequence item 0: expected str instance, NoneType found\nError decoding token ID 50752: sequence item 0: expected str instance, NoneType found\nError decoding token ID 51124: sequence item 0: expected str instance, NoneType found\nError decoding token ID 58154: sequence item 0: expected str instance, NoneType found\nError decoding token ID 58776: sequence item 0: expected str instance, NoneType found\nError decoding token ID 57108: sequence item 0: expected str instance, NoneType found\nError decoding token ID 52400: sequence item 0: expected str instance, NoneType found\nError decoding token ID 57874: sequence item 0: expected str instance, NoneType found\nError decoding token ID 57395: sequence item 0: expected str instance, NoneType found\nError decoding token ID 59465: sequence item 0: expected str instance, NoneType found\nError decoding token ID 54506: sequence item 0: expected str instance, NoneType found\nError decoding token ID 59938: sequence item 0: expected str instance, NoneType found\nError decoding token ID 55503: sequence item 0: expected str instance, NoneType found\nError decoding token ID 56057: sequence item 0: expected str instance, NoneType found\nError decoding token ID 58342: sequence item 0: expected str instance, NoneType found\nError decoding token ID 55208: sequence item 0: expected str instance, NoneType found\nError decoding token ID 56230: sequence item 0: expected str instance, NoneType found\nError decoding token ID 55915: sequence item 0: expected str instance, NoneType found\nError decoding token ID 55214: sequence item 0: expected str instance, NoneType found\nError decoding token ID 58482: sequence item 0: expected str instance, NoneType found\nError decoding token ID 58402: sequence item 0: expected str instance, NoneType found\nError decoding token ID 57302: sequence item 0: expected str instance, NoneType found\nError decoding token ID 56572: sequence item 0: expected str instance, NoneType found\nError decoding token ID 58691: sequence item 0: expected str instance, NoneType found\nError decoding token ID 51295: sequence item 0: expected str instance, NoneType found\nError decoding token ID 55189: sequence item 0: expected str instance, NoneType found\nError decoding token ID 59413: sequence item 0: expected str instance, NoneType found\nError decoding token ID 58638: sequence item 0: expected str instance, NoneType found\nError decoding token ID 54872: sequence item 0: expected str instance, NoneType found\nError decoding token ID 50488: sequence item 0: expected str instance, NoneType found\nError decoding token ID 58939: sequence item 0: expected str instance, NoneType found\nError decoding token ID 57289: sequence item 0: expected str instance, NoneType found\nError decoding token ID 53354: sequence item 0: expected str instance, NoneType found\nError decoding token ID 50436: sequence item 0: expected str instance, NoneType found\nError decoding token ID 52926: sequence item 0: expected str instance, NoneType found\nError decoding token ID 59581: sequence item 0: expected str instance, NoneType found\nError decoding token ID 59406: sequence item 0: expected str instance, NoneType found\nError decoding token ID 53802: sequence item 0: expected str instance, NoneType found\nError decoding token ID 57696: sequence item 0: expected str instance, NoneType found\nError decoding token ID 53952: sequence item 0: expected str instance, NoneType found\nError decoding token ID 52131: sequence item 0: expected str instance, NoneType found\nError decoding token ID 53826: sequence item 0: expected str instance, NoneType found\nError decoding token ID 52142: sequence item 0: expected str instance, NoneType found\nError decoding token ID 58839: sequence item 0: expected str instance, NoneType found\nError decoding token ID 53757: sequence item 0: expected str instance, NoneType found\nError decoding token ID 55793: sequence item 0: expected str instance, NoneType found\nError decoding token ID 59997: sequence item 0: expected str instance, NoneType found\nError decoding token ID 52688: sequence item 0: expected str instance, NoneType found\nError decoding token ID 56511: sequence item 0: expected str instance, NoneType found\nError decoding token ID 53752: sequence item 0: expected str instance, NoneType found\nError decoding token ID 54274: sequence item 0: expected str instance, NoneType found\nError decoding token ID 56365: sequence item 0: expected str instance, NoneType found\nError decoding token ID 52430: sequence item 0: expected str instance, NoneType found\nError decoding token ID 52047: sequence item 0: expected str instance, NoneType found\nError decoding token ID 56419: sequence item 0: expected str instance, NoneType found\nError decoding token ID 56057: sequence item 0: expected str instance, NoneType found\nError decoding token ID 56171: sequence item 0: expected str instance, NoneType found\nError decoding token ID 55512: sequence item 0: expected str instance, NoneType found\nError decoding token ID 57296: sequence item 0: expected str instance, NoneType found\nError decoding token ID 51965: sequence item 0: expected str instance, NoneType found\nError decoding token ID 56444: sequence item 0: expected str instance, NoneType found\nError decoding token ID 52729: sequence item 0: expected str instance, NoneType found\nError decoding token ID 51802: sequence item 0: expected str instance, NoneType found\nError decoding token ID 50543: sequence item 0: expected str instance, NoneType found\nError decoding token ID 51360: sequence item 0: expected str instance, NoneType found\nError decoding token ID 51581: sequence item 0: expected str instance, NoneType found\nError decoding token ID 54735: sequence item 0: expected str instance, NoneType found\nError decoding token ID 52329: sequence item 0: expected str instance, NoneType found\nError decoding token ID 55526: sequence item 0: expected str instance, NoneType found\nError decoding token ID 50828: sequence item 0: expected str instance, NoneType found\nError decoding token ID 50765: sequence item 0: expected str instance, NoneType found\nError decoding token ID 55074: sequence item 0: expected str instance, NoneType found\nError decoding token ID 57859: sequence item 0: expected str instance, NoneType found\nError decoding token ID 52860: sequence item 0: expected str instance, NoneType found\nError decoding token ID 58592: sequence item 0: expected str instance, NoneType found\nError decoding token ID 50495: sequence item 0: expected str instance, NoneType found\nError decoding token ID 58446: sequence item 0: expected str instance, NoneType found\nError decoding token ID 56696: sequence item 0: expected str instance, NoneType found\nError decoding token ID 52081: sequence item 0: expected str instance, NoneType found\nError decoding token ID 57684: sequence item 0: expected str instance, NoneType found\nError decoding token ID 51178: sequence item 0: expected str instance, NoneType found\nError decoding token ID 54507: sequence item 0: expected str instance, NoneType found\nError decoding token ID 56622: sequence item 0: expected str instance, NoneType found\nError decoding token ID 51295: sequence item 0: expected str instance, NoneType found\nError decoding token ID 55751: sequence item 0: expected str instance, NoneType found\nError decoding token ID 54057: sequence item 0: expected str instance, NoneType found\nError decoding token ID 55333: sequence item 0: expected str instance, NoneType found\nError decoding token ID 58978: sequence item 0: expected str instance, NoneType found\nError decoding token ID 56230: sequence item 0: expected str instance, NoneType found\nError decoding token ID 59094: sequence item 0: expected str instance, NoneType found\nError decoding token ID 57354: sequence item 0: expected str instance, NoneType found\nError decoding token ID 56714: sequence item 0: expected str instance, NoneType found\nError decoding token ID 55348: sequence item 0: expected str instance, NoneType found\nError decoding token ID 57282: sequence item 0: expected str instance, NoneType found\nError decoding token ID 59061: sequence item 0: expected str instance, NoneType found\nError decoding token ID 58868: sequence item 0: expected str instance, NoneType found\nError decoding token ID 50601: sequence item 0: expected str instance, NoneType found\nError decoding token ID 57865: sequence item 0: expected str instance, NoneType found\nError decoding token ID 54800: sequence item 0: expected str instance, NoneType found\nError decoding token ID 50938: sequence item 0: expected str instance, NoneType found\nError decoding token ID 59745: sequence item 0: expected str instance, NoneType found\nError decoding token ID 55932: sequence item 0: expected str instance, NoneType found\nError decoding token ID 50498: sequence item 0: expected str instance, NoneType found\nError decoding token ID 51568: sequence item 0: expected str instance, NoneType found\nError decoding token ID 51641: sequence item 0: expected str instance, NoneType found\nError decoding token ID 59091: sequence item 0: expected str instance, NoneType found\nError decoding token ID 53118: sequence item 0: expected str instance, NoneType found\nError decoding token ID 53320: sequence item 0: expected str instance, NoneType found\nError decoding token ID 57524: sequence item 0: expected str instance, NoneType found\nError decoding token ID 59906: sequence item 0: expected str instance, NoneType found\nError decoding token ID 58176: sequence item 0: expected str instance, NoneType found\nError decoding token ID 54790: sequence item 0: expected str instance, NoneType found\nError decoding token ID 55645: sequence item 0: expected str instance, NoneType found\nError decoding token ID 54435: sequence item 0: expected str instance, NoneType found\nError decoding token ID 55316: sequence item 0: expected str instance, NoneType found\nError decoding token ID 54565: sequence item 0: expected str instance, NoneType found\nError decoding token ID 51159: sequence item 0: expected str instance, NoneType found\nError decoding token ID 58357: sequence item 0: expected str instance, NoneType found\nError decoding token ID 52084: sequence item 0: expected str instance, NoneType found\nError decoding token ID 50737: sequence item 0: expected str instance, NoneType found\nError decoding token ID 58410: sequence item 0: expected str instance, NoneType found\nError decoding token ID 55251: sequence item 0: expected str instance, NoneType found\nError decoding token ID 53053: sequence item 0: expected str instance, NoneType found\nError decoding token ID 54508: sequence item 0: expected str instance, NoneType found\nError decoding token ID 50772: sequence item 0: expected str instance, NoneType found\nError decoding token ID 59584: sequence item 0: expected str instance, NoneType found\nError decoding token ID 58631: sequence item 0: expected str instance, NoneType found\nError decoding token ID 55455: sequence item 0: expected str instance, NoneType found\nError decoding token ID 52796: sequence item 0: expected str instance, NoneType found\nError decoding token ID 50434: sequence item 0: expected str instance, NoneType found\nError decoding token ID 57599: sequence item 0: expected str instance, NoneType found\nError decoding token ID 52164: sequence item 0: expected str instance, NoneType found\nError decoding token ID 52230: sequence item 0: expected str instance, NoneType found\nError decoding token ID 51341: sequence item 0: expected str instance, NoneType found\nError decoding token ID 59760: sequence item 0: expected str instance, NoneType found\nError decoding token ID 55261: sequence item 0: expected str instance, NoneType found\nError decoding token ID 56549: sequence item 0: expected str instance, NoneType found\nError decoding token ID 52756: sequence item 0: expected str instance, NoneType found\nError decoding token ID 53545: sequence item 0: expected str instance, NoneType found\nError decoding token ID 57860: sequence item 0: expected str instance, NoneType found\nError decoding token ID 50386: sequence item 0: expected str instance, NoneType found\nError decoding token ID 58616: sequence item 0: expected str instance, NoneType found\nError decoding token ID 59524: sequence item 0: expected str instance, NoneType found\nError decoding token ID 51445: sequence item 0: expected str instance, NoneType found\nError decoding token ID 53352: sequence item 0: expected str instance, NoneType found\nError decoding token ID 53675: sequence item 0: expected str instance, NoneType found\nError decoding token ID 56051: sequence item 0: expected str instance, NoneType found\nError decoding token ID 53815: sequence item 0: expected str instance, NoneType found\nError decoding token ID 58367: sequence item 0: expected str instance, NoneType found\nError decoding token ID 58014: sequence item 0: expected str instance, NoneType found\nError decoding token ID 59925: sequence item 0: expected str instance, NoneType found\nError decoding token ID 51456: sequence item 0: expected str instance, NoneType found\nError decoding token ID 56013: sequence item 0: expected str instance, NoneType found\nError decoding token ID 56351: sequence item 0: expected str instance, NoneType found\nError decoding token ID 53285: sequence item 0: expected str instance, NoneType found\nError decoding token ID 52252: sequence item 0: expected str instance, NoneType found\nError decoding token ID 56025: sequence item 0: expected str instance, NoneType found\nError decoding token ID 53621: sequence item 0: expected str instance, NoneType found\nError decoding token ID 57751: sequence item 0: expected str instance, NoneType found\nError decoding token ID 57535: sequence item 0: expected str instance, NoneType found\nError decoding token ID 54943: sequence item 0: expected str instance, NoneType found\nError decoding token ID 50933: sequence item 0: expected str instance, NoneType found\nError decoding token ID 59191: sequence item 0: expected str instance, NoneType found\nError decoding token ID 50710: sequence item 0: expected str instance, NoneType found\nError decoding token ID 58221: sequence item 0: expected str instance, NoneType found\nError decoding token ID 51222: sequence item 0: expected str instance, NoneType found\nError decoding token ID 51216: sequence item 0: expected str instance, NoneType found\nError decoding token ID 54636: sequence item 0: expected str instance, NoneType found\nError decoding token ID 54582: sequence item 0: expected str instance, NoneType found\nError decoding token ID 59610: sequence item 0: expected str instance, NoneType found\nError decoding token ID 58936: sequence item 0: expected str instance, NoneType found\nError decoding token ID 53824: sequence item 0: expected str instance, NoneType found\nError decoding token ID 54129: sequence item 0: expected str instance, NoneType found\nError decoding token ID 56813: sequence item 0: expected str instance, NoneType found\nError decoding token ID 55796: sequence item 0: expected str instance, NoneType found\nError decoding token ID 55011: sequence item 0: expected str instance, NoneType found\nError decoding token ID 55383: sequence item 0: expected str instance, NoneType found\nError decoding token ID 55356: sequence item 0: expected str instance, NoneType found\nError decoding token ID 57492: sequence item 0: expected str instance, NoneType found\nError decoding token ID 50624: sequence item 0: expected str instance, NoneType found\nError decoding token ID 54850: sequence item 0: expected str instance, NoneType found\nError decoding token ID 51216: sequence item 0: expected str instance, NoneType found\nError decoding token ID 54636: sequence item 0: expected str instance, NoneType found\nError decoding token ID 56266: sequence item 0: expected str instance, NoneType found\nError decoding token ID 54117: sequence item 0: expected str instance, NoneType found\nError decoding token ID 52203: sequence item 0: expected str instance, NoneType found\nError decoding token ID 51425: sequence item 0: expected str instance, NoneType found\nError decoding token ID 54402: sequence item 0: expected str instance, NoneType found\nError decoding token ID 56436: sequence item 0: expected str instance, NoneType found\nError decoding token ID 52594: sequence item 0: expected str instance, NoneType found\nError decoding token ID 58185: sequence item 0: expected str instance, NoneType found\nError decoding token ID 50448: sequence item 0: expected str instance, NoneType found\nError decoding token ID 50432: sequence item 0: expected str instance, NoneType found\nError decoding token ID 52408: sequence item 0: expected str instance, NoneType found\nError decoding token ID 50299: sequence item 0: expected str instance, NoneType found\nError decoding token ID 57776: sequence item 0: expected str instance, NoneType found\nError decoding token ID 56847: sequence item 0: expected str instance, NoneType found\nError decoding token ID 58387: sequence item 0: expected str instance, NoneType found\nError decoding token ID 59159: sequence item 0: expected str instance, NoneType found\nError decoding token ID 57716: sequence item 0: expected str instance, NoneType found\nError decoding token ID 51682: sequence item 0: expected str instance, NoneType found\nError decoding token ID 56975: sequence item 0: expected str instance, NoneType found\nError decoding token ID 51614: sequence item 0: expected str instance, NoneType found\nError decoding token ID 57321: sequence item 0: expected str instance, NoneType found\nError decoding token ID 55755: sequence item 0: expected str instance, NoneType found\nError decoding token ID 51301: sequence item 0: expected str instance, NoneType found\nError decoding token ID 51073: sequence item 0: expected str instance, NoneType found\nError decoding token ID 57298: sequence item 0: expected str instance, NoneType found\nError decoding token ID 53796: sequence item 0: expected str instance, NoneType found\nError decoding token ID 57999: sequence item 0: expected str instance, NoneType found\nError decoding token ID 51139: sequence item 0: expected str instance, NoneType found\nError decoding token ID 58591: sequence item 0: expected str instance, NoneType found\nError decoding token ID 54806: sequence item 0: expected str instance, NoneType found\nError decoding token ID 57555: sequence item 0: expected str instance, NoneType found\nError decoding token ID 58725: sequence item 0: expected str instance, NoneType found\nError decoding token ID 54692: sequence item 0: expected str instance, NoneType found\nError decoding token ID 53858: sequence item 0: expected str instance, NoneType found\nError decoding token ID 56385: sequence item 0: expected str instance, NoneType found\nError decoding token ID 53470: sequence item 0: expected str instance, NoneType found\nError decoding token ID 57095: sequence item 0: expected str instance, NoneType found\nError decoding token ID 55255: sequence item 0: expected str instance, NoneType found\nError decoding token ID 59306: sequence item 0: expected str instance, NoneType found\nError decoding token ID 56803: sequence item 0: expected str instance, NoneType found\nError decoding token ID 51040: sequence item 0: expected str instance, NoneType found\nError decoding token ID 50304: sequence item 0: expected str instance, NoneType found\nError decoding token ID 56590: sequence item 0: expected str instance, NoneType found\nError decoding token ID 58344: sequence item 0: expected str instance, NoneType found\nError decoding token ID 51545: sequence item 0: expected str instance, NoneType found\nError decoding token ID 56301: sequence item 0: expected str instance, NoneType found\nError decoding token ID 52290: sequence item 0: expected str instance, NoneType found\nError decoding token ID 57603: sequence item 0: expected str instance, NoneType found\nError decoding token ID 51953: sequence item 0: expected str instance, NoneType found\nError decoding token ID 54563: sequence item 0: expected str instance, NoneType found\nError decoding token ID 50313: sequence item 0: expected str instance, NoneType found\nError decoding token ID 54696: sequence item 0: expected str instance, NoneType found\nError decoding token ID 56888: sequence item 0: expected str instance, NoneType found\nError decoding token ID 56581: sequence item 0: expected str instance, NoneType found\nError decoding token ID 56362: sequence item 0: expected str instance, NoneType found\nError decoding token ID 54438: sequence item 0: expected str instance, NoneType found\nError decoding token ID 51748: sequence item 0: expected str instance, NoneType found\nError decoding token ID 57327: sequence item 0: expected str instance, NoneType found\nError decoding token ID 53705: sequence item 0: expected str instance, NoneType found\nError decoding token ID 58865: sequence item 0: expected str instance, NoneType found\nError decoding token ID 53198: sequence item 0: expected str instance, NoneType found\nError decoding token ID 50559: sequence item 0: expected str instance, NoneType found\nError decoding token ID 59620: sequence item 0: expected str instance, NoneType found\nError decoding token ID 51325: sequence item 0: expected str instance, NoneType found\nError decoding token ID 58331: sequence item 0: expected str instance, NoneType found\nError decoding token ID 53981: sequence item 0: expected str instance, NoneType found\nError decoding token ID 56468: sequence item 0: expected str instance, NoneType found\nError decoding token ID 59906: sequence item 0: expected str instance, NoneType found\nError decoding token ID 58180: sequence item 0: expected str instance, NoneType found\nError decoding token ID 54165: sequence item 0: expected str instance, NoneType found\nError decoding token ID 59621: sequence item 0: expected str instance, NoneType found\nError decoding token ID 53797: sequence item 0: expected str instance, NoneType found\nError decoding token ID 52734: sequence item 0: expected str instance, NoneType found\nError decoding token ID 53001: sequence item 0: expected str instance, NoneType found\nError decoding token ID 52120: sequence item 0: expected str instance, NoneType found\nError decoding token ID 52519: sequence item 0: expected str instance, NoneType found\nError decoding token ID 59204: sequence item 0: expected str instance, NoneType found\nError decoding token ID 57440: sequence item 0: expected str instance, NoneType found\nError decoding token ID 57658: sequence item 0: expected str instance, NoneType found\nError decoding token ID 57564: sequence item 0: expected str instance, NoneType found\nError decoding token ID 55246: sequence item 0: expected str instance, NoneType found\nError decoding token ID 52767: sequence item 0: expected str instance, NoneType found\nError decoding token ID 56136: sequence item 0: expected str instance, NoneType found\nError decoding token ID 57310: sequence item 0: expected str instance, NoneType found\nError decoding token ID 55776: sequence item 0: expected str instance, NoneType found\nError decoding token ID 51702: sequence item 0: expected str instance, NoneType found\nError decoding token ID 52759: sequence item 0: expected str instance, NoneType found\nError decoding token ID 53927: sequence item 0: expected str instance, NoneType found\nError decoding token ID 54899: sequence item 0: expected str instance, NoneType found\nError decoding token ID 58808: sequence item 0: expected str instance, NoneType found\nError decoding token ID 53320: sequence item 0: expected str instance, NoneType found\nError decoding token ID 57546: sequence item 0: expected str instance, NoneType found\nError decoding token ID 50986: sequence item 0: expected str instance, NoneType found\nError decoding token ID 57717: sequence item 0: expected str instance, NoneType found\nError decoding token ID 50565: sequence item 0: expected str instance, NoneType found\nError decoding token ID 57803: sequence item 0: expected str instance, NoneType found\nError decoding token ID 59990: sequence item 0: expected str instance, NoneType found\nError decoding token ID 58366: sequence item 0: expected str instance, NoneType found\nError decoding token ID 59359: sequence item 0: expected str instance, NoneType found\nError decoding token ID 59088: sequence item 0: expected str instance, NoneType found\nError decoding token ID 58412: sequence item 0: expected str instance, NoneType found\nError decoding token ID 50494: sequence item 0: expected str instance, NoneType found\nError decoding token ID 56622: sequence item 0: expected str instance, NoneType found\nError decoding token ID 54411: sequence item 0: expected str instance, NoneType found\nError decoding token ID 55924: sequence item 0: expected str instance, NoneType found\nError decoding token ID 53380: sequence item 0: expected str instance, NoneType found\nError decoding token ID 58597: sequence item 0: expected str instance, NoneType found\nError decoding token ID 57548: sequence item 0: expected str instance, NoneType found\nError decoding token ID 59049: sequence item 0: expected str instance, NoneType found\nError decoding token ID 56080: sequence item 0: expected str instance, NoneType found\nError decoding token ID 59176: sequence item 0: expected str instance, NoneType found\nError decoding token ID 51683: sequence item 0: expected str instance, NoneType found\nError decoding token ID 58320: sequence item 0: expected str instance, NoneType found\nError decoding token ID 51350: sequence item 0: expected str instance, NoneType found\nError decoding token ID 58232: sequence item 0: expected str instance, NoneType found\nError decoding token ID 59407: sequence item 0: expected str instance, NoneType found\nError decoding token ID 52455: sequence item 0: expected str instance, NoneType found\nError decoding token ID 59157: sequence item 0: expected str instance, NoneType found\nError decoding token ID 58208: sequence item 0: expected str instance, NoneType found\nError decoding token ID 55464: sequence item 0: expected str instance, NoneType found\nError decoding token ID 54069: sequence item 0: expected str instance, NoneType found\nError decoding token ID 55144: sequence item 0: expected str instance, NoneType found\nError decoding token ID 54057: sequence item 0: expected str instance, NoneType found\nError decoding token ID 50873: sequence item 0: expected str instance, NoneType found\nError decoding token ID 56382: sequence item 0: expected str instance, NoneType found\nError decoding token ID 53848: sequence item 0: expected str instance, NoneType found\nError decoding token ID 54992: sequence item 0: expected str instance, NoneType found\nError decoding token ID 53944: sequence item 0: expected str instance, NoneType found\nError decoding token ID 56691: sequence item 0: expected str instance, NoneType found\nError decoding token ID 53933: sequence item 0: expected str instance, NoneType found\nError decoding token ID 55812: sequence item 0: expected str instance, NoneType found\nError decoding token ID 56262: sequence item 0: expected str instance, NoneType found\nError decoding token ID 51442: sequence item 0: expected str instance, NoneType found\nError decoding token ID 59238: sequence item 0: expected str instance, NoneType found\nError decoding token ID 51749: sequence item 0: expected str instance, NoneType found\nError decoding token ID 59483: sequence item 0: expected str instance, NoneType found\nError decoding token ID 55450: sequence item 0: expected str instance, NoneType found\nError decoding token ID 55723: sequence item 0: expected str instance, NoneType found\nError decoding token ID 55553: sequence item 0: expected str instance, NoneType found\nError decoding token ID 52686: sequence item 0: expected str instance, NoneType found\nError decoding token ID 53028: sequence item 0: expected str instance, NoneType found\nError decoding token ID 58067: sequence item 0: expected str instance, NoneType found\nError decoding token ID 56338: sequence item 0: expected str instance, NoneType found\nError decoding token ID 53347: sequence item 0: expected str instance, NoneType found\nError decoding token ID 58403: sequence item 0: expected str instance, NoneType found\nError decoding token ID 55970: sequence item 0: expected str instance, NoneType found\nError decoding token ID 53799: sequence item 0: expected str instance, NoneType found\nError decoding token ID 55322: sequence item 0: expected str instance, NoneType found\nError decoding token ID 52753: sequence item 0: expected str instance, NoneType found\nError decoding token ID 57051: sequence item 0: expected str instance, NoneType found\nError decoding token ID 56932: sequence item 0: expected str instance, NoneType found\nError decoding token ID 58740: sequence item 0: expected str instance, NoneType found\nError decoding token ID 52191: sequence item 0: expected str instance, NoneType found\nError decoding token ID 54413: sequence item 0: expected str instance, NoneType found\n"
        }
      ],
      "execution_count": 44,
      "metadata": {
        "jupyter": {
          "source_hidden": false,
          "outputs_hidden": false
        },
        "nteract": {
          "transient": {
            "deleting": false
          }
        },
        "gather": {
          "logged": 1711498015533
        }
      }
    },
    {
      "cell_type": "code",
      "source": [
        "import pandas as pd  \n",
        "import matplotlib.pyplot as plt  \n",
        "  \n",
        "# Load the CSV file into a DataFrame  \n",
        "df = pd.read_csv('layerwise_evaluation_results.csv')  \n",
        "  \n",
        "# Calculate the percentage of correct predictions per epoch  \n",
        "epoch_stats = df.groupby('Num_Layers').agg({'Correct?': ['sum', 'count']})  \n",
        "  \n",
        "correct_predictions = epoch_stats[('Correct?', 'sum')]  \n",
        "total_predictions = epoch_stats[('Correct?', 'count')]  \n",
        "  \n",
        "# Calculate percentage of correct predictions  \n",
        "percentage_correct = (correct_predictions / total_predictions) * 100  \n",
        "  \n",
        "# Plotting  \n",
        "plt.figure(figsize=(10, 6))  # Set the figure size (optional)  \n",
        "plt.plot(percentage_correct.index, percentage_correct.values, marker='o', linestyle='-', color='b')  \n",
        "plt.title('Percentage of Correct Predictions per Number of Transformers %')  \n",
        "plt.xlabel('Number of Transformers')  \n",
        "plt.ylabel('Percentage of Correct Predictions')  \n",
        "plt.xticks(percentage_correct.index)  # Ensure we have ticks for every epoch  \n",
        "plt.grid(True, which='both', linestyle='--', linewidth=0.5)  # Adding a grid for easier reading  \n",
        "  \n",
        "# Display the plot  \n",
        "plt.show()  \n"
      ],
      "outputs": [],
      "execution_count": null,
      "metadata": {
        "jupyter": {
          "source_hidden": false,
          "outputs_hidden": false
        },
        "nteract": {
          "transient": {
            "deleting": false
          }
        },
        "gather": {
          "logged": 1711498015742
        }
      }
    },
    {
      "cell_type": "code",
      "source": [
        "import pandas as pd  \n",
        "import torch.optim as optim  \n",
        "  \n",
        "  \n",
        "# Define num_layers values to test  \n",
        "num_layers_list = [2, 4, 8, 16, 32]  \n",
        "  \n",
        "# Open CSV file for writing results  \n",
        "with open('layerwise_evaluation_results.csv', mode='w', newline='', encoding='utf-8') as file:  \n",
        "    csv_writer = csv.writer(file)  \n",
        "    csv_writer.writerow(['Num_Layers', 'Sentence', 'Right Word', 'Predicted Word', 'Correct?'])  \n",
        "  \n",
        "    for num_layers in num_layers_list:  \n",
        "        # Initialize a new model with the current number of layers  \n",
        "        model = GPT(vocab_size=60000, embed_size=128, num_layers=num_layers, heads=8, forward_expansion=4, dropout=0.1, max_length=1024).to(device)  \n",
        "        optimizer = optim.Adam(model.parameters())  \n",
        "        criterion = torch.nn.CrossEntropyLoss()  \n",
        "  \n",
        "        # Your training loop here, adjusted for the current model  \n",
        "  \n",
        "        # Evaluation  \n",
        "        # Assuming you have a function to evaluate the model and record results  \n",
        "        evaluate_and_record(model, tokenizer, sentence_prompts_and_answers, csv_writer, num_layers)  \n"
      ],
      "outputs": [],
      "execution_count": null,
      "metadata": {
        "jupyter": {
          "source_hidden": false,
          "outputs_hidden": false
        },
        "nteract": {
          "transient": {
            "deleting": false
          }
        },
        "gather": {
          "logged": 1711316120227
        },
        "editable": true,
        "run_control": {
          "frozen": false
        }
      }
    }
  ],
  "metadata": {
    "kernelspec": {
      "name": "python38-azureml-pt-tf",
      "language": "python",
      "display_name": "Python 3.8 - Pytorch and Tensorflow"
    },
    "language_info": {
      "name": "python",
      "version": "3.8.5",
      "mimetype": "text/x-python",
      "codemirror_mode": {
        "name": "ipython",
        "version": 3
      },
      "pygments_lexer": "ipython3",
      "nbconvert_exporter": "python",
      "file_extension": ".py"
    },
    "microsoft": {
      "ms_spell_check": {
        "ms_spell_check_language": "en"
      },
      "host": {
        "AzureML": {
          "notebookHasBeenCompleted": true
        }
      }
    },
    "kernel_info": {
      "name": "python38-azureml-pt-tf"
    },
    "nteract": {
      "version": "nteract-front-end@1.0.0"
    }
  },
  "nbformat": 4,
  "nbformat_minor": 2
}